{
 "cells": [
  {
   "cell_type": "code",
   "execution_count": 1,
   "id": "secure-wiring",
   "metadata": {},
   "outputs": [],
   "source": [
    "import pandas as pd\n",
    "import numpy as np\n",
    "from datetime import datetime, timedelta, date\n",
    "%matplotlib inline\n",
    "from patsy import dmatrices\n",
    "import warnings\n",
    "warnings.filterwarnings('ignore')\n",
    "from sklearn import preprocessing\n",
    "from sklearn import linear_model\n",
    "from sklearn import metrics\n",
    "from sklearn.ensemble import RandomForestRegressor\n",
    "from xgboost import XGBRegressor\n",
    "import sklearn\n",
    "from sklearn.model_selection import train_test_split\n",
    "import pickle\n",
    "import os\n",
    "import csv\n",
    "import glob\n",
    "from sklearn.model_selection import GridSearchCV\n",
    "from sklearn.pipeline import Pipeline\n",
    "import traceback\n",
    "from sklearn.neural_network import MLPRegressor"
   ]
  },
  {
   "cell_type": "code",
   "execution_count": null,
   "id": "alternate-tunnel",
   "metadata": {},
   "outputs": [],
   "source": [
    "def create_models(route, direction , df):\n",
    "    '''takes in a path, opens corresponding csv files\n",
    "    \n",
    "    prepares data and creates model for each bus line/csv, prints accuracy metrics to csv and saves model as pickle\n",
    "    \n",
    "    '''\n",
    "    cols_to_delete = ['TRIPID','LINEID','ROUTEID', 'DIRECTION', 'PlannedJourneyTime','PlanVSAct']\n",
    "    #declare continous and cat cols\n",
    "    cat_cols = ['weather_main']\n",
    "    numeric = ['JourneyTime','temp','humidity','wind_speed','rain_1h','clouds_all']\n",
    "   \n",
    "\n",
    "    try:\n",
    "                print('Starting', route,'_', direction)\n",
    "      \n",
    "                #delete necessary cols and change to cat or cont\n",
    "                for col in cols_to_delete:\n",
    "                    del df[col]\n",
    "                for column in numeric:\n",
    "                    df[column]= df[column].astype('float32')\n",
    "\n",
    "                for column in cat_cols:   \n",
    "                     df[column]= df[column].astype('category')\n",
    "\n",
    "                #create new cols for modelling\n",
    "                df['Dates']=df['Dates'].apply(pd.to_datetime)\n",
    "                df['Weekday']= df['Dates'].dt.day_name()\n",
    "                df['Hour']= df['Dates'].dt.hour\n",
    "                df['Month']= df['Dates'].dt.month\n",
    "                choices=['Morning','Afternoon','Evening']\n",
    "                conditions=[(df['Hour'] > 7) & (df['Hour'] < 11), (df['Hour'] >= 11) & (df['Hour'] < 15),(df['Hour'] >= 15) & (df['Hour'] < 23)]\n",
    "\n",
    "                df['TimeOfDay']= np.select(conditions, choices, default='Night')\n",
    "\n",
    "                choices_more=['Summer','Winter','Spring']\n",
    "                conditions_more=[(df['Month'] >= 6) & (df['Month'] < 9), (df['Month'] >= 11) & (df['Month'] <=1),(df['Month'] >= 2) & (df['Month'] <= 5)]\n",
    "\n",
    "                df['Seasons']= np.select(conditions_more, choices_more, default='Autumn')\n",
    "\n",
    "                df['RushHour']=np.where(((df['Hour'] >=7) &(df['Hour']<=9)| (df['Hour'] >=16) &(df['Hour']<=19)), 1,0)\n",
    "\n",
    "\n",
    "\n",
    "                df = df.drop([\"Dates\"], axis = 1)\n",
    "\n",
    "                df=sklearn.utils.shuffle(df)\n",
    "                \n",
    "                df[\"TimeOfDay\"].replace(\n",
    "                    {\"Morning\": 1, \"Afternoon\": 2,\"Evening\": 3,\"Night\": 4}, inplace=True)                \n",
    "                df[\"Seasons\"].replace(\n",
    "                    {\"Spring\": 1, \"Summer\": 2,\"Autumn\": 3,\"Winter\": 4}, inplace=True)\n",
    "                df[\"Weekday\"].replace(\n",
    "                    {\"Monday\": 1, \"Tuesday\": 2,\"Wednesday\": 3,\"Thursday\": 4,\"Friday\": 5,\"Saturday\": 6,\"Sunday\": 7,}, inplace=True)\n",
    "                df[\"weather_main\"].replace(\n",
    "                    {\"Rain\": 1, \"Clouds\": 2,\"Drizzle\": 3,\"Clear\": 4,\"Fog\": 5,\"Mist\": 6,\"Snow\": 7,\"Smoke\": 8}, inplace=True)\n",
    "\n",
    "\n",
    "\n",
    "                \n",
    "\n",
    "                cols=['Hour','Month','TimeOfDay','Seasons','RushHour']\n",
    "                for column in cols:\n",
    "                    df[column]= df[column].astype('int32')\n",
    "\n",
    "\n",
    "                y = df[\"JourneyTime\"]            \n",
    "                X = df.drop([\"JourneyTime\"],1)\n",
    "\n",
    "                #Split into test train 70/30\n",
    "\n",
    "                X_train, X_test, y_train, y_test = train_test_split(X, y, random_state=1,  test_size=0.3)\n",
    "\n",
    "                print(\"Data range is: \",df.shape[0])\n",
    "                trainingsize= X_train.shape[0]\n",
    "                testsize = X_test.shape[0]\n",
    "                features = X.columns\n",
    "                print('Features' , features)\n",
    "\n",
    "                X_train.reset_index(drop=True, inplace=True)\n",
    "                y_train.reset_index(drop=True, inplace=True)\n",
    "                X_test.reset_index(drop=True, inplace=True)\n",
    "                y_test.reset_index(drop=True, inplace=True)\n",
    "                \n",
    "                \n",
    "                #TrainXGB\n",
    "                xgb_model = XGBRegressor().fit(X_train, y_train)\n",
    "\n",
    "                xgb_train_predictions = xgb_model.predict(X_train)\n",
    "                #get predictions on test set\n",
    "                XGB_predictions_test = xgb_model.predict(X_test)\n",
    "\n",
    "                #get accuracy results\n",
    "                mae_train = metrics.mean_absolute_error(y_train, xgb_train_predictions)\n",
    "                mae= metrics.mean_absolute_error(y_test, XGB_predictions_test)\n",
    "                mse = metrics.mean_squared_error(y_test, XGB_predictions_test)\n",
    "                rmse = np.sqrt(metrics.mean_squared_error(y_test, XGB_predictions_test))\n",
    "                r2 = metrics.r2_score(y_test, XGB_predictions_test)\n",
    "                mpe = np.mean((y_test - XGB_predictions_test)/y_test)\n",
    "#                 xgb_accuracies=[mae_train, mae, mse,rmse, r2, mpe]\n",
    "                \n",
    "#                 XBGMAE[bus_line]=(mae)\n",
    "#                 XBGr2[bus_line]=r2\n",
    "                \n",
    "               \n",
    "                #Train a random forrest model\n",
    "                rf_model= RandomForestRegressor(n_estimators=32).fit(X_train, y_train)\n",
    "                train_predictions = rf_model.predict(X_train)      \n",
    "                rf_predictions_test = rf_model.predict(X_test)\n",
    "\n",
    "                #get results\n",
    "                MAE_TRAIN= metrics.mean_absolute_error(y_train, train_predictions)\n",
    "                MAE = metrics.mean_absolute_error(y_test, rf_predictions_test)\n",
    "                MSE=metrics.mean_squared_error(y_test, rf_predictions_test)\n",
    "                RMSE = np.sqrt(metrics.mean_squared_error(y_test, rf_predictions_test))\n",
    "                R2= metrics.r2_score(y_test, rf_predictions_test)\n",
    "                MPE=np.mean((y_test - rf_predictions_test)/y_test)\n",
    "#                 rf_accuracies=[MAE_TRAIN,MAE,MSE,RMSE,R2,MPE]\n",
    "#                 RFMAE[bus_line]=(MAE)\n",
    "#                 RFr2[bus_line]=R2\n",
    "                \n",
    "                #Train a neural net\n",
    "                nn_model = MLPRegressor(random_state=1, max_iter=500).fit(X_train, y_train)\n",
    "                \n",
    "                #training set predictions\n",
    "                nn_predictions_train = nn_model.predict(X_train)\n",
    "\n",
    "\n",
    "                #get predictions on test set\n",
    "                nn_predictions_test = nn_model.predict(X_test)\n",
    "\n",
    "                #get results\n",
    "                nn_MAE_train = metrics.mean_absolute_error(y_train, nn_predictions_train)\n",
    "                nn_MAE_test =  metrics.mean_absolute_error(y_test, nn_predictions_test)\n",
    "                nn_MSE_test =  metrics.mean_squared_error(y_test, nn_predictions_test)\n",
    "                nn_RMSE_test = np.sqrt(metrics.mean_squared_error(y_test, nn_predictions_test))\n",
    "                nn_R2_test = metrics.r2_score(y_test, nn_predictions_test)\n",
    "                nn_MPE = np.mean((y_test - nn_predictions_test)/y_test)\n",
    "#                 nn_accuracies=[nn_MAE_train,nn_MAE_test,nn_MSE_test,nn_RMSE_test,nn_R2_test,nn_MPE]\n",
    "                \n",
    "                #write results to csv file for evaluation per route\n",
    "                with open('./comparing/ComparingModels_AllSubs__.csv', 'a', newline='') as file:\n",
    "                    writer = csv.writer(file)\n",
    "                    writer.writerow(['XGBoost',trainingsize,testsize, bus_line, direction, mae_train, mae, mse, rmse, r2, mpe,[features]])\n",
    "                    writer.writerow(['RandomForest',trainingsize,testsize,bus_line,direction, MAE_TRAIN, MAE, MSE, RMSE, R2, MPE,[features]])\n",
    "                    writer.writerow(['NeuralNet',trainingsize,testsize, bus_line, direction,nn_MAE_train,nn_MAE_test,nn_MSE_test,nn_RMSE_test,nn_R2_test,nn_MPE,[features]])\n",
    "#                 with open('ComparingModels.csv', 'a', newline='') as file:\n",
    "#                     writer = csv.writer(file)\n",
    "#                     writer.writerow([bus_line, MAE_TRAIN, MAE, MSE, RMSE, R2, MPE])\n",
    "\n",
    "#                 with open(\"./models/\" +  bus_line, \"wb\") as f:\n",
    "#                     pickle.dump(model, f)\n",
    "                \n",
    "                print(route,'_',direction ,\"Done.\")\n",
    "                \n",
    "    except:\n",
    "         traceback.print_exc()\n",
    "\n"
   ]
  },
  {
   "cell_type": "code",
   "execution_count": null,
   "id": "specific-saturday",
   "metadata": {},
   "outputs": [],
   "source": [
    " with open('./comparing/ComparingModels_AllSubs__.csv', 'a', newline='') as file:\n",
    "        writer = csv.writer(file)\n",
    "        writer.writerow(['Model','TrainingSize','TestSize','Route','Direction','MAE TRAIN','MAE','MSE','RMSE','R2','MPE','Features'])\n",
    "            \n",
    "\n"
   ]
  },
  {
   "cell_type": "code",
   "execution_count": null,
   "id": "bibliographic-enzyme",
   "metadata": {
    "scrolled": true
   },
   "outputs": [],
   "source": [
    "path = './Directions'\n",
    "try:\n",
    "    for filename in glob.glob(os.path.join(path, '*.csv')):\n",
    "            with open(filename, 'r') as file: \n",
    "                \n",
    "                bus_line=(filename[13:-4])\n",
    "                print(bus_line)\n",
    "                route = bus_line[0:-3]\n",
    "\n",
    "                df=pd.read_csv(file)\n",
    "                if 'IB' in bus_line:\n",
    "                    create_models(route, 'IB', df)\n",
    "                elif 'OB' in bus_line:\n",
    "                    create_models(route, 'OB', df)\n",
    "except:\n",
    "    traceback.print_exc()\n",
    "                \n",
    "                \n",
    "\n",
    "            "
   ]
  },
  {
   "cell_type": "code",
   "execution_count": 5,
   "id": "documentary-labor",
   "metadata": {},
   "outputs": [],
   "source": [
    "dict_for_subs = {'102_IB': '102_9',\n",
    " '102_OB': '102_8',\n",
    " '104_IB': '104_16',\n",
    " '104_OB': '104_15',\n",
    " '111_IB': '111_8',\n",
    " '111_OB': '111_7',\n",
    " '114_IB': '114_6',\n",
    " '114_OB': '114_5',\n",
    " '116_IB': '116_3',\n",
    " '116_OB': '116_1',\n",
    " '118_IB': '118_4',\n",
    " '11_IB': '11_42',\n",
    " '11_OB': '11_40',\n",
    " '120_IB': '120_9',\n",
    " '120_OB': '120_7',\n",
    " '122_IB': '122_20',\n",
    " '122_OB': '122_18',\n",
    " '123_IB': '123_36',\n",
    " '123_OB': '123_34',\n",
    " '130_IB': '130_11',\n",
    " '130_OB': '130_10',\n",
    " '13_IB': '13_67',\n",
    " '13_OB': '13_60',\n",
    " '140_IB': '140_21',\n",
    " '140_OB': '140_19',\n",
    " '142_IB': '142_9',\n",
    " '142_OB': '142_8',\n",
    " '145_IB': '145_105',\n",
    " '145_OB': '145_102',\n",
    " '14C_IB': '14C_18',\n",
    " '14C_OB': '14C_17',\n",
    " '14_IB': '14_16',\n",
    " '14_OB': '14_15',\n",
    " '150_IB': '150_9',\n",
    " '150_OB': '150_8',\n",
    " '151_IB': '151_17',\n",
    " '151_OB': '151_15',\n",
    " '15A_IB': '15A_84',\n",
    " '15A_OB': '15A_83',\n",
    " '15B_IB': '15B_61',\n",
    " '15B_OB': '15B_60',\n",
    " '15D_IB': '15D_63',\n",
    " '15D_OB': '15D_62',\n",
    " '15_IB': '15_17',\n",
    " '15_OB': '15_16',\n",
    " '161_IB': '161_51',\n",
    " '161_OB': '161_50',\n",
    " '16C_IB': '16C_28',\n",
    " '16C_OB': '16C_29',\n",
    " '16D_OB': '16D_30',\n",
    " '16_IB': '16_24',\n",
    " '16_OB': '16_20',\n",
    " '17A_IB': '17A_17',\n",
    " '17A_OB': '17A_15',\n",
    " '17_IB': '17_15',\n",
    " '17_OB': '17_10',\n",
    " '184_IB': '184_28',\n",
    " '184_OB': '184_29',\n",
    " '185_IB': '185_56',\n",
    " '185_OB': '185_53',\n",
    " '18_IB': '18_4',\n",
    " '18_OB': '18_3',\n",
    " '1_IB': '1_40',\n",
    " '1_OB': '1_37',\n",
    " '220_IB': '220_12',\n",
    " '220_OB': '220_10',\n",
    " '236_IB': '236_10',\n",
    " '236_OB': '236_9',\n",
    " '238_IB': '238_15',\n",
    " '238_OB': '238_11',\n",
    " '239_IB': '239_28',\n",
    " '239_OB': '239_26',\n",
    " '25A_IB': '25A_270',\n",
    " '25A_OB': '25A_273',\n",
    " '25B_IB': '25B_271',\n",
    " '25B_OB': '25B_274',\n",
    " '25D_IB': '25D_275',\n",
    " '25D_OB': '25D_277',\n",
    " '25X_IB': '25X_11',\n",
    " '25X_OB': '25X_10',\n",
    " '25_IB': '25_269',\n",
    " '25_OB': '25_272',\n",
    " '26_IB': '26_29',\n",
    " '26_OB': '26_28',\n",
    " '270_IB': '270_44',\n",
    " '270_OB': '270_42',\n",
    " '27A_IB': '27A_5',\n",
    " '27A_OB': '27A_4',\n",
    " '27B_IB': '27B_34',\n",
    " '27B_OB': '27B_23',\n",
    " '27X_IB': '27X_42',\n",
    " '27X_OB': '27X_43',\n",
    " '27_IB': '27_17',\n",
    " '27_OB': '27_19',\n",
    " '29A_IB': '29A_15',\n",
    " '29A_OB': '29A_14',\n",
    " '31A_IB': '31A_26',\n",
    " '31A_OB': '31A_25',\n",
    " '31B_IB': '31B_46',\n",
    " '31B_OB': '31B_44',\n",
    " '31D_IB': '31D_51',\n",
    " '31D_OB': '31D_50',\n",
    " '31_IB': '31_18',\n",
    " '31_OB': '31_15',\n",
    " '32X_IB': '32X_76',\n",
    " '32X_OB': '32X_77',\n",
    " '32_IB': '32_58',\n",
    " '32_OB': '32_57',\n",
    " '33A_IB': '33A_25',\n",
    " '33A_OB': '33A_22',\n",
    " '33B_IB': '33B_58',\n",
    " '33B_OB': '33B_56',\n",
    " '33D_IB': '33D_62',\n",
    " '33D_OB': '33D_61',\n",
    " '33E_OB': '33E_74',\n",
    " '33X_IB': '33X_49',\n",
    " '33X_OB': '33X_46',\n",
    " '33_IB': '33_70',\n",
    " '33_OB': '33_44',\n",
    " '37_IB': '37_15',\n",
    " '37_OB': '37_14',\n",
    " '38A_IB': '38A_32',\n",
    " '38A_OB': '38A_20',\n",
    " '38B_IB': '38B_44',\n",
    " '38B_OB': '38B_40',\n",
    " '38D_IB': '38D_61',\n",
    " '38D_OB': '38D_68',\n",
    " '38_IB': '38_14',\n",
    " '38_OB': '38_9',\n",
    " '39A_IB': '39A_43',\n",
    " '39A_OB': '39A_40',\n",
    " '39X_IB': '39X_3',\n",
    " '39X_OB': '39X_1',\n",
    " '39_IB': '39_21',\n",
    " '39_OB': '39_20',\n",
    " '40B_IB': '40B_65',\n",
    " '40B_OB': '40B_63',\n",
    " '40D_IB': '40D_104',\n",
    " '40D_OB': '40D_102',\n",
    " '40E_IB': '40E_91',\n",
    " '40E_OB': '40E_90',\n",
    " '40_IB': '40_31',\n",
    " '40_OB': '40_27',\n",
    " '41A_IB': '41A_22',\n",
    " '41B_IB': '41B_53',\n",
    " '41B_OB': '41B_52',\n",
    " '41C_IB': '41C_79',\n",
    " '41C_OB': '41C_78',\n",
    " '41D_IB': '41D_27',\n",
    " '41D_OB': '41D_26',\n",
    " '41X_IB': '41X_125',\n",
    " '41X_OB': '41X_121',\n",
    " '41_IB': '41_7',\n",
    " '41_OB': '41_3',\n",
    " '42D_IB': '42D_51',\n",
    " '42D_OB': '42D_50',\n",
    " '42_IB': '42_44',\n",
    " '42_OB': '42_42',\n",
    " '43_IB': '43_88',\n",
    " '43_OB': '43_84',\n",
    " '44B_IB': '44B_61',\n",
    " '44B_OB': '44B_60',\n",
    " '44_IB': '44_36',\n",
    " '44_OB': '44_40',\n",
    " '45A_IB': '45A_64',\n",
    " '45A_OB': '45A_60',\n",
    " '46A_IB': '46A_67',\n",
    " '46A_OB': '46A_74',\n",
    " '46E_IB': '46E_94',\n",
    " '47_IB': '47_136',\n",
    " '47_OB': '47_139',\n",
    " '49_IB': '49_28',\n",
    " '49_OB': '49_27',\n",
    " '4_IB': '4_12',\n",
    " '4_OB': '4_10',\n",
    " '51D_IB': '51D_51',\n",
    " '51D_OB': '51D_50',\n",
    " '51X_IB': '51X_64',\n",
    " '53_IB': '53_21',\n",
    " '53_OB': '53_20',\n",
    " '54A_IB': '54A_12',\n",
    " '54A_OB': '54A_11',\n",
    " '56A_IB': '56A_30',\n",
    " '56A_OB': '56A_31',\n",
    " '59_IB': '59_11',\n",
    " '59_OB': '59_10',\n",
    " '61_IB': '61_108',\n",
    " '61_OB': '61_106',\n",
    " '63_IB': '63_30',\n",
    " '63_OB': '63_26',\n",
    " '65B_IB': '65B_66',\n",
    " '65B_OB': '65B_65',\n",
    " '65_IB': '65_77',\n",
    " '65_OB': '65_74',\n",
    " '66A_IB': '66A_38',\n",
    " '66A_OB': '66A_37',\n",
    " '66B_IB': '66B_59',\n",
    " '66B_OB': '66B_58',\n",
    " '66X_IB': '66X_102',\n",
    " '66X_OB': '66X_92',\n",
    " '66_IB': '66_18',\n",
    " '66_OB': '66_17',\n",
    " '67X_IB': '67X_46',\n",
    " '67X_OB': '67X_43',\n",
    " '67_IB': '67_6',\n",
    " '67_OB': '67_4',\n",
    " '68A_IB': '68A_87',\n",
    " '68A_OB': '68A_86',\n",
    " '68X_IB': '68X_88',\n",
    " '68_IB': '68_83',\n",
    " '68_OB': '68_81',\n",
    " '69X_IB': '69X_60',\n",
    " '69X_OB': '69X_59',\n",
    " '69_IB': '69_47',\n",
    " '69_OB': '69_45',\n",
    " '70D_IB': '70D_71',\n",
    " '70D_OB': '70D_70',\n",
    " '70_IB': '70_67',\n",
    " '70_OB': '70_60',\n",
    " '75_IB': '75_19',\n",
    " '75_OB': '75_17',\n",
    " '76A_IB': '76A_29',\n",
    " '76A_OB': '76A_28',\n",
    " '76_IB': '76_37',\n",
    " '76_OB': '76_36',\n",
    " '77A_IB': '77A_28',\n",
    " '77A_OB': '77A_29',\n",
    " '77X_IB': '77X_61',\n",
    " '79A_IB': '79A_28',\n",
    " '79A_OB': '79A_27',\n",
    " '79_IB': '79_11',\n",
    " '79_OB': '79_10',\n",
    " '7A_IB': '7A_87',\n",
    " '7A_OB': '7A_85',\n",
    " '7B_IB': '7B_93',\n",
    " '7B_OB': '7B_91',\n",
    " '7D_IB': '7D_121',\n",
    " '7D_OB': '7D_120',\n",
    " '7_IB': '7_70',\n",
    " '7_OB': '7_72',\n",
    " '83A_IB': '83A_23',\n",
    " '83A_OB': '83A_17',\n",
    " '83_IB': '83_22',\n",
    " '83_OB': '83_16',\n",
    " '84A_IB': '84A_3',\n",
    " '84A_OB': '84A_1',\n",
    " '84X_IB': '84X_62',\n",
    " '84X_OB': '84X_57',\n",
    " '84_IB': '84_30',\n",
    " '84_OB': '84_27',\n",
    " '9_IB': '9_7',\n",
    " '9_OB': '9_5'}"
   ]
  },
  {
   "cell_type": "code",
   "execution_count": null,
   "id": "knowing-convention",
   "metadata": {},
   "outputs": [],
   "source": [
    "def create_models_without_outliers(route, direction , df):\n",
    "    '''takes in a path, opens corresponding csv files\n",
    "    \n",
    "    prepares data and creates model for each bus line/csv, prints accuracy metrics to csv and saves model as pickle\n",
    "    \n",
    "    '''\n",
    "    cols_to_delete = ['TRIPID','LINEID','ROUTEID', 'DIRECTION', 'PlannedJourneyTime','PlanVSAct']\n",
    "    #declare continous and cat cols\n",
    "    cat_cols = ['weather_main']\n",
    "    numeric = ['JourneyTime','temp','humidity','wind_speed','rain_1h','clouds_all']\n",
    "   \n",
    "\n",
    "    try:\n",
    "            print(\"Starting\",route)\n",
    "\n",
    "            key = route + '_' + direction\n",
    "            sub_to_segment = dict_for_subs.get(key)\n",
    "            print('sub',sub_to_segment)\n",
    "\n",
    "\n",
    "            df = df.loc[df['ROUTEID'] ==sub_to_segment]\n",
    "\n",
    "\n",
    "\n",
    "            first, second, third = df.JourneyTime.quantile([0.25,0.5,0.75])\n",
    "            first_planned, second_planned,third_planned = df.JourneyTime.quantile([0.25,0.5,0.75])\n",
    "\n",
    "\n",
    "            IQR = third - first\n",
    "            IQR_BY_1_5= IQR*1.5\n",
    "            IQR_BY_3= IQR*3\n",
    "\n",
    "\n",
    "\n",
    "            IQR_PLANNED = third_planned - first_planned\n",
    "            IQR_BY_1_5_PLANNED= IQR_PLANNED*1.5\n",
    "            IQR_BY_3_PLANNED= IQR_PLANNED*3\n",
    "\n",
    "\n",
    "            lower_inner_fence_PLANNED = first_planned - IQR_BY_1_5_PLANNED\n",
    "            lower_outer_fence_PLANNED=first_planned - IQR_BY_3_PLANNED\n",
    "            upper_inner_fence_PLANNED = third_planned + IQR_BY_1_5_PLANNED\n",
    "            upper_outer_fence_PLANNED = third_planned + IQR_BY_3_PLANNED\n",
    "\n",
    "            lower_inner_fence = first - IQR_BY_1_5\n",
    "            lower_outer_fence=first - IQR_BY_3\n",
    "            upper_inner_fence = third + IQR_BY_1_5\n",
    "            upper_outer_fence = third + IQR_BY_3\n",
    "\n",
    "\n",
    "            df_troubled=df.loc[~((df['JourneyTime'] >=lower_outer_fence)&(df['JourneyTime']<= upper_outer_fence))]\n",
    "            df_extra_troubles=df_troubled.loc[~((df_troubled['JourneyTime'] >=lower_outer_fence_PLANNED)&(df_troubled['JourneyTime']<= upper_outer_fence_PLANNED))]\n",
    "           \n",
    "            df =df.loc[((df['JourneyTime'] >=lower_outer_fence)&(df['JourneyTime']<= upper_outer_fence))&((df['JourneyTime'] >=lower_outer_fence_PLANNED)&(df['JourneyTime']<= upper_outer_fence_PLANNED))]\n",
    "            if df_extra_troubles.shape[0] !=0:\n",
    "                percent_outliers = df_extra_troubles.shape[0]/df.shape[0] *100\n",
    "#                 print(route, 'Troubled: ', df_extra_troubles.shape[0], 'df_keeping', df.shape[0], 'percent', percent_outliers)\n",
    "            else:\n",
    "                percent_outliers=0\n",
    "        \n",
    "\n",
    "            \n",
    "\n",
    "            #delete necessary cols and change to cat or cont\n",
    "            for col in cols_to_delete:\n",
    "                del df[col]\n",
    "            for column in numeric:\n",
    "                df[column]= df[column].astype('float32')\n",
    "\n",
    "            for column in cat_cols:   \n",
    "                 df[column]= df[column].astype('category')\n",
    "        \n",
    "            #create new cols for modelling\n",
    "            df['Dates']=df['Dates'].apply(pd.to_datetime)\n",
    "            df['Weekday']= df['Dates'].dt.day_name()\n",
    "            df['Hour']= df['Dates'].dt.hour\n",
    "            df['Month']= df['Dates'].dt.month\n",
    "            choices=['Morning','Afternoon','Evening']\n",
    "            conditions=[(df['Hour'] > 7) & (df['Hour'] < 11), (df['Hour'] >= 11) & (df['Hour'] < 15),(df['Hour'] >= 15) & (df['Hour'] < 23)]\n",
    "\n",
    "            df['TimeOfDay']= np.select(conditions, choices, default='Night')\n",
    "\n",
    "            choices_more=['Summer','Winter','Spring']\n",
    "            conditions_more=[(df['Month'] >= 6) & (df['Month'] < 9), (df['Month'] >= 11) & (df['Month'] <=1),(df['Month'] >= 2) & (df['Month'] <= 5)]\n",
    "\n",
    "            df['Seasons']= np.select(conditions_more, choices_more, default='Autumn')\n",
    "\n",
    "            df['RushHour']=np.where(((df['Hour'] >=7) &(df['Hour']<=9)| (df['Hour'] >=16) &(df['Hour']<=19)), 1,0)\n",
    "\n",
    "\n",
    "\n",
    "            df = df.drop([\"Dates\"], axis = 1)\n",
    "\n",
    "            df=sklearn.utils.shuffle(df)\n",
    "\n",
    "            df[\"TimeOfDay\"].replace(\n",
    "                {\"Morning\": 1, \"Afternoon\": 2,\"Evening\": 3,\"Night\": 4}, inplace=True)                \n",
    "            df[\"Seasons\"].replace(\n",
    "                {\"Spring\": 1, \"Summer\": 2,\"Autumn\": 3,\"Winter\": 4}, inplace=True)\n",
    "            df[\"Weekday\"].replace(\n",
    "                {\"Monday\": 1, \"Tuesday\": 2,\"Wednesday\": 3,\"Thursday\": 4,\"Friday\": 5,\"Saturday\": 6,\"Sunday\": 7,}, inplace=True)\n",
    "            df[\"weather_main\"].replace(\n",
    "                {\"Rain\": 1, \"Clouds\": 2,\"Drizzle\": 3,\"Clear\": 4,\"Fog\": 5,\"Mist\": 6,\"Snow\": 7,\"Smoke\": 8}, inplace=True)\n",
    "\n",
    "\n",
    "\n",
    "\n",
    "\n",
    "            cols=['Hour','Month','TimeOfDay','Seasons','RushHour']\n",
    "            for column in cols:\n",
    "                df[column]= df[column].astype('int32')\n",
    "\n",
    "\n",
    "            y = df[\"JourneyTime\"]            \n",
    "            X = df.drop([\"JourneyTime\"],1)\n",
    "\n",
    "            #Split into test train 70/30\n",
    "\n",
    "            X_train, X_test, y_train, y_test = train_test_split(X, y, random_state=1,  test_size=0.3)\n",
    "\n",
    "            print(\"Data range is: \",df.shape[0])\n",
    "            trainingsize= X_train.shape[0]\n",
    "            testsize = X_test.shape[0]\n",
    "            features = X.columns\n",
    "            print('Features' , features)\n",
    "\n",
    "            X_train.reset_index(drop=True, inplace=True)\n",
    "            y_train.reset_index(drop=True, inplace=True)\n",
    "            X_test.reset_index(drop=True, inplace=True)\n",
    "            y_test.reset_index(drop=True, inplace=True)\n",
    "\n",
    "\n",
    "            #TrainXGB\n",
    "            xgb_model = XGBRegressor().fit(X_train, y_train)\n",
    "\n",
    "            xgb_train_predictions = xgb_model.predict(X_train)\n",
    "            #get predictions on test set\n",
    "            XGB_predictions_test = xgb_model.predict(X_test)\n",
    "\n",
    "            #get accuracy results\n",
    "            mae_train = metrics.mean_absolute_error(y_train, xgb_train_predictions)\n",
    "            mae= metrics.mean_absolute_error(y_test, XGB_predictions_test)\n",
    "            mse = metrics.mean_squared_error(y_test, XGB_predictions_test)\n",
    "            rmse = np.sqrt(metrics.mean_squared_error(y_test, XGB_predictions_test))\n",
    "            r2 = metrics.r2_score(y_test, XGB_predictions_test)\n",
    "            mpe = np.mean((y_test - XGB_predictions_test)/y_test)\n",
    "#                 xgb_accuracies=[mae_train, mae, mse,rmse, r2, mpe]\n",
    "\n",
    "#                 XBGMAE[bus_line]=(mae)\n",
    "#                 XBGr2[bus_line]=r2\n",
    "\n",
    "\n",
    "            #Train a random forrest model\n",
    "            rf_model= RandomForestRegressor(n_estimators=32).fit(X_train, y_train)\n",
    "            train_predictions = rf_model.predict(X_train)      \n",
    "            rf_predictions_test = rf_model.predict(X_test)\n",
    "\n",
    "            #get results\n",
    "            MAE_TRAIN= metrics.mean_absolute_error(y_train, train_predictions)\n",
    "            MAE = metrics.mean_absolute_error(y_test, rf_predictions_test)\n",
    "            MSE=metrics.mean_squared_error(y_test, rf_predictions_test)\n",
    "            RMSE = np.sqrt(metrics.mean_squared_error(y_test, rf_predictions_test))\n",
    "            R2= metrics.r2_score(y_test, rf_predictions_test)\n",
    "            MPE=np.mean((y_test - rf_predictions_test)/y_test)\n",
    "#                 rf_accuracies=[MAE_TRAIN,MAE,MSE,RMSE,R2,MPE]\n",
    "#                 RFMAE[bus_line]=(MAE)\n",
    "#                 RFr2[bus_line]=R2\n",
    "\n",
    "            #Train a neural net\n",
    "            nn_model = MLPRegressor(random_state=1, max_iter=500).fit(X_train, y_train)\n",
    "\n",
    "            #training set predictions\n",
    "            nn_predictions_train = nn_model.predict(X_train)\n",
    "\n",
    "\n",
    "            #get predictions on test set\n",
    "            nn_predictions_test = nn_model.predict(X_test)\n",
    "\n",
    "            #get results\n",
    "            nn_MAE_train = metrics.mean_absolute_error(y_train, nn_predictions_train)\n",
    "            nn_MAE_test =  metrics.mean_absolute_error(y_test, nn_predictions_test)\n",
    "            nn_MSE_test =  metrics.mean_squared_error(y_test, nn_predictions_test)\n",
    "            nn_RMSE_test = np.sqrt(metrics.mean_squared_error(y_test, nn_predictions_test))\n",
    "            nn_R2_test = metrics.r2_score(y_test, nn_predictions_test)\n",
    "            nn_MPE = np.mean((y_test - nn_predictions_test)/y_test)\n",
    "#                 nn_accuracies=[nn_MAE_train,nn_MAE_test,nn_MSE_test,nn_RMSE_test,nn_R2_test,nn_MPE]\n",
    "\n",
    "            #write results to csv file for evaluation per route\n",
    "            with open('./comparing/ComparingModels_WithoutOutliers_Subs__.csv', 'a', newline='') as file:\n",
    "                writer = csv.writer(file)\n",
    "                writer.writerow(['XGBoost',trainingsize,testsize, percent_outliers,sub_to_segment,bus_line, direction, mae_train, mae, mse, rmse, r2, mpe,[features]])\n",
    "                writer.writerow(['RandomForest',trainingsize,testsize,percent_outliers,sub_to_segment,bus_line,direction, MAE_TRAIN, MAE, MSE, RMSE, R2, MPE,[features]])\n",
    "                writer.writerow(['NeuralNet',trainingsize,testsize,percent_outliers, sub_to_segment,bus_line, direction,nn_MAE_train,nn_MAE_test,nn_MSE_test,nn_RMSE_test,nn_R2_test,nn_MPE,[features]])\n",
    "#                 with open('ComparingModels.csv', 'a', newline='') as file:\n",
    "#                     writer = csv.writer(file)\n",
    "#                     writer.writerow([bus_line, MAE_TRAIN, MAE, MSE, RMSE, R2, MPE])\n",
    "\n",
    "            with open(\"./comparing/xg/\" +  bus_line, \"wb\") as f:\n",
    "                pickle.dump(xgb_model, f)\n",
    "            \n",
    "            with open(\"./comparing/rf/\" +  bus_line, \"wb\") as f:\n",
    "                pickle.dump(rf_model, f)\n",
    "                \n",
    "            \n",
    "            with open(\"./comparing/nn/\" +  bus_line, \"wb\") as f:\n",
    "                pickle.dump(nn_model, f)\n",
    "#             print(route,'_',direction ,\"Done.\")\n",
    "\n",
    "    except:\n",
    "         traceback.print_exc()\n",
    "\n"
   ]
  },
  {
   "cell_type": "code",
   "execution_count": null,
   "id": "mysterious-impression",
   "metadata": {},
   "outputs": [],
   "source": [
    "with open('./comparing/ComparingModels_WithoutOutliers_Subs__.csv', 'a', newline='') as file:\n",
    "        writer = csv.writer(file)\n",
    "        writer.writerow(['Model','TrainingSize','TestSize','PercentOutliers','SubUsed','Route','Direction','MAE TRAIN','MAE','MSE','RMSE','R2','MPE','Features'])\n",
    "            \n",
    "\n",
    "\n",
    "\n",
    "path = './Directions'\n",
    "try:\n",
    "    for filename in glob.glob(os.path.join(path, '*.csv')):\n",
    "            with open(filename, 'r') as file: \n",
    "                \n",
    "                bus_line=(filename[13:-4])\n",
    "                print(bus_line)\n",
    "                route = bus_line[0:-3]\n",
    "\n",
    "                df=pd.read_csv(file)\n",
    "                if 'IB' in bus_line:\n",
    "                    create_models_without_outliers(route, 'IB', df)\n",
    "                elif 'OB' in bus_line:\n",
    "                    create_models_without_outliers(route, 'OB', df)\n",
    "except:\n",
    "    traceback.print_exc()\n",
    "                \n",
    "                \n",
    "\n",
    "            "
   ]
  },
  {
   "cell_type": "code",
   "execution_count": 3,
   "id": "acting-entry",
   "metadata": {},
   "outputs": [],
   "source": [
    "def create_models_with_outliers(route, direction , df):\n",
    "    '''takes in a path, opens corresponding csv files\n",
    "    \n",
    "    prepares data and creates model for each bus line/csv, prints accuracy metrics to csv and saves model as pickle\n",
    "    \n",
    "    '''\n",
    "    cols_to_delete = ['TRIPID','LINEID','ROUTEID', 'DIRECTION', 'PlannedJourneyTime','PlanVSAct']\n",
    "    #declare continous and cat cols\n",
    "    cat_cols = ['weather_main']\n",
    "    numeric = ['JourneyTime','temp','humidity','wind_speed','rain_1h','clouds_all']\n",
    "   \n",
    "\n",
    "    try:\n",
    "            print(\"Starting\",route)\n",
    "\n",
    "            key = route + '_' + direction\n",
    "            sub_to_segment = dict_for_subs.get(key)\n",
    "\n",
    "\n",
    "            df = df.loc[df['ROUTEID'] ==sub_to_segment]\n",
    "\n",
    "\n",
    "\n",
    "            #delete necessary cols and change to cat or cont\n",
    "            for col in cols_to_delete:\n",
    "                del df[col]\n",
    "            for column in numeric:\n",
    "                df[column]= df[column].astype('float32')\n",
    "\n",
    "            for column in cat_cols:   \n",
    "                 df[column]= df[column].astype('category')\n",
    "\n",
    "            #create new cols for modelling\n",
    "            df['Dates']=df['Dates'].apply(pd.to_datetime)\n",
    "            df['Weekday']= df['Dates'].dt.day_name()\n",
    "            df['Hour']= df['Dates'].dt.hour\n",
    "            df['Month']= df['Dates'].dt.month\n",
    "            choices=['Morning','Afternoon','Evening']\n",
    "            conditions=[(df['Hour'] > 7) & (df['Hour'] < 11), (df['Hour'] >= 11) & (df['Hour'] < 15),(df['Hour'] >= 15) & (df['Hour'] < 23)]\n",
    "\n",
    "            df['TimeOfDay']= np.select(conditions, choices, default='Night')\n",
    "\n",
    "            choices_more=['Summer','Winter','Spring']\n",
    "            conditions_more=[(df['Month'] >= 6) & (df['Month'] < 9), (df['Month'] >= 11) & (df['Month'] <=1),(df['Month'] >= 2) & (df['Month'] <= 5)]\n",
    "\n",
    "            df['Seasons']= np.select(conditions_more, choices_more, default='Autumn')\n",
    "\n",
    "            df['RushHour']=np.where(((df['Hour'] >=7) &(df['Hour']<=9)| (df['Hour'] >=16) &(df['Hour']<=19)), 1,0)\n",
    "\n",
    "\n",
    "\n",
    "            df = df.drop([\"Dates\"], axis = 1)\n",
    "\n",
    "            df=sklearn.utils.shuffle(df)\n",
    "\n",
    "            df[\"TimeOfDay\"].replace(\n",
    "                {\"Morning\": 1, \"Afternoon\": 2,\"Evening\": 3,\"Night\": 4}, inplace=True)                \n",
    "            df[\"Seasons\"].replace(\n",
    "                {\"Spring\": 1, \"Summer\": 2,\"Autumn\": 3,\"Winter\": 4}, inplace=True)\n",
    "            df[\"Weekday\"].replace(\n",
    "                {\"Monday\": 1, \"Tuesday\": 2,\"Wednesday\": 3,\"Thursday\": 4,\"Friday\": 5,\"Saturday\": 6,\"Sunday\": 7,}, inplace=True)\n",
    "            df[\"weather_main\"].replace(\n",
    "                {\"Rain\": 1, \"Clouds\": 2,\"Drizzle\": 3,\"Clear\": 4,\"Fog\": 5,\"Mist\": 6,\"Snow\": 7,\"Smoke\": 8}, inplace=True)\n",
    "\n",
    "\n",
    "\n",
    "\n",
    "\n",
    "            cols=['Hour','Month','TimeOfDay','Seasons','RushHour']\n",
    "            for column in cols:\n",
    "                df[column]= df[column].astype('int32')\n",
    "\n",
    "\n",
    "            y = df[\"JourneyTime\"]            \n",
    "            X = df.drop([\"JourneyTime\"],1)\n",
    "\n",
    "            #Split into test train 70/30\n",
    "\n",
    "            X_train, X_test, y_train, y_test = train_test_split(X, y, random_state=1,  test_size=0.3)\n",
    "\n",
    "            print(\"Data range is: \",df.shape[0])\n",
    "            trainingsize= X_train.shape[0]\n",
    "            testsize = X_test.shape[0]\n",
    "            features = X.columns\n",
    "            print('Features' , features)\n",
    "\n",
    "            X_train.reset_index(drop=True, inplace=True)\n",
    "            y_train.reset_index(drop=True, inplace=True)\n",
    "            X_test.reset_index(drop=True, inplace=True)\n",
    "            y_test.reset_index(drop=True, inplace=True)\n",
    "\n",
    "            param_grid_ = {'learning_rate': [0.001, 0.01, 0.1, 1], 'max_depth' : [5, 10, 15], 'n_estimators' : [50, 100, 150, 200]}\n",
    "\n",
    "\n",
    "            grid_search = Pipeline(steps=[\n",
    "                                    ('grid_search', GridSearchCV(XGBRegressor(), param_grid_, cv = 5))])\n",
    "\n",
    "            xg =grid_search.fit(X_train, y_train)\n",
    "\n",
    "            xgb_train_predictions__ = xg.predict(X_train)\n",
    "            #get predictions on test set\n",
    "            XGB_predictions_test__ = xg.predict(X_test)\n",
    "\n",
    "            mae_train = metrics.mean_absolute_error(y_train, xgb_train_predictions__)\n",
    "            mae= metrics.mean_absolute_error(y_test, XGB_predictions_test__)\n",
    "            mse = metrics.mean_squared_error(y_test, XGB_predictions_test__)\n",
    "            rmse = np.sqrt(metrics.mean_squared_error(y_test, XGB_predictions_test__))\n",
    "            r2 = metrics.r2_score(y_test, XGB_predictions_test__)\n",
    "            mpe = np.mean((y_test - XGB_predictions_test__)/y_test)\n",
    "            #TrainXGB\n",
    "#             xgb_model = XGBRegressor().fit(X_train, y_train)\n",
    "\n",
    "#             xgb_train_predictions = xgb_model.predict(X_train)\n",
    "#             #get predictions on test set\n",
    "#             XGB_predictions_test = xgb_model.predict(X_test)\n",
    "\n",
    "#             #get accuracy results\n",
    "#             mae_train = metrics.mean_absolute_error(y_train, xgb_train_predictions)\n",
    "#             mae= metrics.mean_absolute_error(y_test, XGB_predictions_test)\n",
    "#             mse = metrics.mean_squared_error(y_test, XGB_predictions_test)\n",
    "#             rmse = np.sqrt(metrics.mean_squared_error(y_test, XGB_predictions_test))\n",
    "#             r2 = metrics.r2_score(y_test, XGB_predictions_test)\n",
    "#             mpe = np.mean((y_test - XGB_predictions_test)/y_test)\n",
    "#                 xgb_accuracies=[mae_train, mae, mse,rmse, r2, mpe]\n",
    "\n",
    "#                 XBGMAE[bus_line]=(mae)\n",
    "#                 XBGr2[bus_line]=r2\n",
    "\n",
    "\n",
    "            #Train a random forrest model\n",
    "#             rf_model= RandomForestRegressor(n_estimators=32).fit(X_train, y_train)\n",
    "#             train_predictions = rf_model.predict(X_train)      \n",
    "#             rf_predictions_test = rf_model.predict(X_test)\n",
    "            param_grid = {\n",
    "                'bootstrap': [True],\n",
    "                'max_depth': [80, 90, 100, 110],\n",
    "                'max_features': [2, 3],\n",
    "                'min_samples_leaf': [3, 4, 5],\n",
    "                'min_samples_split': [8, 10, 12],\n",
    "                'n_estimators': [100, 200, 300, 1000]\n",
    "            }\n",
    "            # Create a based model\n",
    "            rf = RandomForestRegressor()\n",
    "            # Instantiate the grid search model\n",
    "            grid_search_rf = GridSearchCV(estimator = rf, param_grid = param_grid, \n",
    "                                      cv = 3, n_jobs = -1, verbose = 2)\n",
    "            model_testin_RF = grid_search_rf.fit(X_train, y_train)\n",
    "            mm_rf = model_testin_RF.predict(X_train)\n",
    "            mm___rf = model_testin_RF.predict(X_test)\n",
    "      \n",
    "            #get results\n",
    "            MAE_TRAIN= metrics.mean_absolute_error(y_train, mm_rf)\n",
    "            MAE = metrics.mean_absolute_error(y_test, mm___rf)\n",
    "            MSE=metrics.mean_squared_error(y_test, mm___rf)\n",
    "            RMSE = np.sqrt(metrics.mean_squared_error(y_test, mm___rf))\n",
    "            R2= metrics.r2_score(y_test, mm___rf)\n",
    "            MPE=np.mean((y_test - mm___rf)/y_test)\n",
    "#                 rf_accuracies=[MAE_TRAIN,MAE,MSE,RMSE,R2,MPE]\n",
    "#                 RFMAE[bus_line]=(MAE)\n",
    "#                 RFr2[bus_line]=R2\n",
    "\n",
    "            #Train a neural net\n",
    "            nn_model = MLPRegressor(random_state=1, max_iter=500).fit(X_train, y_train)\n",
    "\n",
    "            #training set predictions\n",
    "            nn_predictions_train = nn_model.predict(X_train)\n",
    "\n",
    "\n",
    "            #get predictions on test set\n",
    "            nn_predictions_test = nn_model.predict(X_test)\n",
    "\n",
    "            #get results\n",
    "            nn_MAE_train = metrics.mean_absolute_error(y_train, nn_predictions_train)\n",
    "            nn_MAE_test =  metrics.mean_absolute_error(y_test, nn_predictions_test)\n",
    "            nn_MSE_test =  metrics.mean_squared_error(y_test, nn_predictions_test)\n",
    "            nn_RMSE_test = np.sqrt(metrics.mean_squared_error(y_test, nn_predictions_test))\n",
    "            nn_R2_test = metrics.r2_score(y_test, nn_predictions_test)\n",
    "            nn_MPE = np.mean((y_test - nn_predictions_test)/y_test)\n",
    "#                 nn_accuracies=[nn_MAE_train,nn_MAE_test,nn_MSE_test,nn_RMSE_test,nn_R2_test,nn_MPE]\n",
    "\n",
    "            #write results to csv file for evaluation per route\n",
    "            with open('./comparing/ComparingModels_CommonSubs__.csv', 'a', newline='') as file:\n",
    "                writer = csv.writer(file)\n",
    "                writer.writerow(['XGBoost',trainingsize,testsize, sub_to_segment,bus_line, direction, mae_train, mae, mse, rmse, r2, mpe,[features]])\n",
    "                writer.writerow(['RandomForest',trainingsize,testsize,sub_to_segment,bus_line,direction, MAE_TRAIN, MAE, MSE, RMSE, R2, MPE,[features]])\n",
    "                writer.writerow(['NeuralNet',trainingsize,testsize, sub_to_segment,bus_line, direction,nn_MAE_train,nn_MAE_test,nn_MSE_test,nn_RMSE_test,nn_R2_test,nn_MPE,[features]])\n",
    "#                 with open('ComparingModels.csv', 'a', newline='') as file:\n",
    "#                     writer = csv.writer(file)\n",
    "#                     writer.writerow([bus_line, MAE_TRAIN, MAE, MSE, RMSE, R2, MPE])\n",
    "\n",
    "            with open(\"./comparing/\" +  bus_line + 'RF', \"wb\") as f:\n",
    "                pickle.dump(grid_search_rf, f)\n",
    "\n",
    "            with open(\"./comparing/\" +  bus_line + 'XG', \"wb\") as f:\n",
    "                pickle.dump(xg, f)\n",
    "            print(route,'_',direction ,\"Done.\")\n",
    "\n",
    "    except:\n",
    "         traceback.print_exc()\n",
    "\n",
    "\n"
   ]
  },
  {
   "cell_type": "code",
   "execution_count": 4,
   "id": "cheap-local",
   "metadata": {},
   "outputs": [
    {
     "name": "stdout",
     "output_type": "stream",
     "text": [
      "102_IB\n",
      "Starting 102\n",
      "Data range is:  8785\n",
      "Features Index(['temp', 'feels_like', 'humidity', 'wind_speed', 'rain_1h', 'clouds_all',\n",
      "       'weather_main', 'Weekday', 'Hour', 'Month', 'TimeOfDay', 'Seasons',\n",
      "       'RushHour'],\n",
      "      dtype='object')\n",
      "Fitting 3 folds for each of 288 candidates, totalling 864 fits\n"
     ]
    },
    {
     "name": "stderr",
     "output_type": "stream",
     "text": [
      "[Parallel(n_jobs=-1)]: Using backend LokyBackend with 8 concurrent workers.\n",
      "[Parallel(n_jobs=-1)]: Done  25 tasks      | elapsed:    9.1s\n",
      "[Parallel(n_jobs=-1)]: Done 146 tasks      | elapsed:   48.0s\n",
      "[Parallel(n_jobs=-1)]: Done 349 tasks      | elapsed:  2.0min\n",
      "[Parallel(n_jobs=-1)]: Done 632 tasks      | elapsed:  3.7min\n",
      "[Parallel(n_jobs=-1)]: Done 864 out of 864 | elapsed:  5.1min finished\n"
     ]
    },
    {
     "name": "stdout",
     "output_type": "stream",
     "text": [
      "102 _ IB Done.\n",
      "102_OB\n",
      "Starting 102\n",
      "Data range is:  8460\n",
      "Features Index(['temp', 'feels_like', 'humidity', 'wind_speed', 'rain_1h', 'clouds_all',\n",
      "       'weather_main', 'Weekday', 'Hour', 'Month', 'TimeOfDay', 'Seasons',\n",
      "       'RushHour'],\n",
      "      dtype='object')\n",
      "Fitting 3 folds for each of 288 candidates, totalling 864 fits\n"
     ]
    },
    {
     "name": "stderr",
     "output_type": "stream",
     "text": [
      "[Parallel(n_jobs=-1)]: Using backend LokyBackend with 8 concurrent workers.\n",
      "[Parallel(n_jobs=-1)]: Done  25 tasks      | elapsed:    7.2s\n",
      "[Parallel(n_jobs=-1)]: Done 146 tasks      | elapsed:   47.6s\n",
      "[Parallel(n_jobs=-1)]: Done 349 tasks      | elapsed:  2.0min\n",
      "[Parallel(n_jobs=-1)]: Done 632 tasks      | elapsed:  3.7min\n",
      "[Parallel(n_jobs=-1)]: Done 864 out of 864 | elapsed:  5.1min finished\n"
     ]
    },
    {
     "name": "stdout",
     "output_type": "stream",
     "text": [
      "102 _ OB Done.\n",
      "104_IB\n",
      "Starting 104\n",
      "Data range is:  3799\n",
      "Features Index(['temp', 'feels_like', 'humidity', 'wind_speed', 'rain_1h', 'clouds_all',\n",
      "       'weather_main', 'Weekday', 'Hour', 'Month', 'TimeOfDay', 'Seasons',\n",
      "       'RushHour'],\n",
      "      dtype='object')\n",
      "Fitting 3 folds for each of 288 candidates, totalling 864 fits\n"
     ]
    },
    {
     "name": "stderr",
     "output_type": "stream",
     "text": [
      "[Parallel(n_jobs=-1)]: Using backend LokyBackend with 8 concurrent workers.\n",
      "[Parallel(n_jobs=-1)]: Done  25 tasks      | elapsed:    4.5s\n",
      "[Parallel(n_jobs=-1)]: Done 146 tasks      | elapsed:   29.2s\n",
      "[Parallel(n_jobs=-1)]: Done 349 tasks      | elapsed:  1.2min\n",
      "[Parallel(n_jobs=-1)]: Done 632 tasks      | elapsed:  2.2min\n",
      "[Parallel(n_jobs=-1)]: Done 864 out of 864 | elapsed:  3.0min finished\n"
     ]
    },
    {
     "name": "stdout",
     "output_type": "stream",
     "text": [
      "104 _ IB Done.\n",
      "104_OB\n",
      "Starting 104\n",
      "Data range is:  3019\n",
      "Features Index(['temp', 'feels_like', 'humidity', 'wind_speed', 'rain_1h', 'clouds_all',\n",
      "       'weather_main', 'Weekday', 'Hour', 'Month', 'TimeOfDay', 'Seasons',\n",
      "       'RushHour'],\n",
      "      dtype='object')\n",
      "Fitting 3 folds for each of 288 candidates, totalling 864 fits\n"
     ]
    },
    {
     "name": "stderr",
     "output_type": "stream",
     "text": [
      "[Parallel(n_jobs=-1)]: Using backend LokyBackend with 8 concurrent workers.\n",
      "[Parallel(n_jobs=-1)]: Done  25 tasks      | elapsed:    4.1s\n",
      "[Parallel(n_jobs=-1)]: Done 146 tasks      | elapsed:   26.5s\n",
      "[Parallel(n_jobs=-1)]: Done 349 tasks      | elapsed:  1.1min\n",
      "[Parallel(n_jobs=-1)]: Done 632 tasks      | elapsed:  3.6min\n",
      "[Parallel(n_jobs=-1)]: Done 864 out of 864 | elapsed:  6.2min finished\n"
     ]
    },
    {
     "name": "stdout",
     "output_type": "stream",
     "text": [
      "104 _ OB Done.\n",
      "111_IB\n",
      "Starting 111\n",
      "Data range is:  2725\n",
      "Features Index(['temp', 'feels_like', 'humidity', 'wind_speed', 'rain_1h', 'clouds_all',\n",
      "       'weather_main', 'Weekday', 'Hour', 'Month', 'TimeOfDay', 'Seasons',\n",
      "       'RushHour'],\n",
      "      dtype='object')\n",
      "Fitting 3 folds for each of 288 candidates, totalling 864 fits\n"
     ]
    },
    {
     "name": "stderr",
     "output_type": "stream",
     "text": [
      "[Parallel(n_jobs=-1)]: Using backend LokyBackend with 8 concurrent workers.\n",
      "[Parallel(n_jobs=-1)]: Done  25 tasks      | elapsed:   16.8s\n",
      "[Parallel(n_jobs=-1)]: Done 146 tasks      | elapsed:  1.8min\n",
      "[Parallel(n_jobs=-1)]: Done 349 tasks      | elapsed:  4.2min\n",
      "[Parallel(n_jobs=-1)]: Done 632 tasks      | elapsed:  7.5min\n",
      "[Parallel(n_jobs=-1)]: Done 864 out of 864 | elapsed: 10.1min finished\n"
     ]
    },
    {
     "name": "stdout",
     "output_type": "stream",
     "text": [
      "111 _ IB Done.\n",
      "111_OB\n",
      "Starting 111\n",
      "Data range is:  3563\n",
      "Features Index(['temp', 'feels_like', 'humidity', 'wind_speed', 'rain_1h', 'clouds_all',\n",
      "       'weather_main', 'Weekday', 'Hour', 'Month', 'TimeOfDay', 'Seasons',\n",
      "       'RushHour'],\n",
      "      dtype='object')\n",
      "Fitting 3 folds for each of 288 candidates, totalling 864 fits\n"
     ]
    },
    {
     "name": "stderr",
     "output_type": "stream",
     "text": [
      "[Parallel(n_jobs=-1)]: Using backend LokyBackend with 8 concurrent workers.\n",
      "[Parallel(n_jobs=-1)]: Done  25 tasks      | elapsed:   15.8s\n",
      "[Parallel(n_jobs=-1)]: Done 146 tasks      | elapsed:  1.7min\n",
      "[Parallel(n_jobs=-1)]: Done 349 tasks      | elapsed:  4.2min\n",
      "[Parallel(n_jobs=-1)]: Done 632 tasks      | elapsed:  7.7min\n",
      "[Parallel(n_jobs=-1)]: Done 864 out of 864 | elapsed: 10.7min finished\n"
     ]
    },
    {
     "name": "stdout",
     "output_type": "stream",
     "text": [
      "111 _ OB Done.\n",
      "114_IB\n",
      "Starting 114\n",
      "Data range is:  4107\n",
      "Features Index(['temp', 'feels_like', 'humidity', 'wind_speed', 'rain_1h', 'clouds_all',\n",
      "       'weather_main', 'Weekday', 'Hour', 'Month', 'TimeOfDay', 'Seasons',\n",
      "       'RushHour'],\n",
      "      dtype='object')\n",
      "Fitting 3 folds for each of 288 candidates, totalling 864 fits\n"
     ]
    },
    {
     "name": "stderr",
     "output_type": "stream",
     "text": [
      "[Parallel(n_jobs=-1)]: Using backend LokyBackend with 8 concurrent workers.\n",
      "[Parallel(n_jobs=-1)]: Done  25 tasks      | elapsed:   14.9s\n",
      "[Parallel(n_jobs=-1)]: Done 146 tasks      | elapsed:  1.7min\n",
      "[Parallel(n_jobs=-1)]: Done 349 tasks      | elapsed:  4.4min\n",
      "[Parallel(n_jobs=-1)]: Done 632 tasks      | elapsed:  8.1min\n",
      "[Parallel(n_jobs=-1)]: Done 864 out of 864 | elapsed: 11.2min finished\n"
     ]
    },
    {
     "name": "stdout",
     "output_type": "stream",
     "text": [
      "114 _ IB Done.\n",
      "114_OB\n",
      "Starting 114\n",
      "Data range is:  4153\n",
      "Features Index(['temp', 'feels_like', 'humidity', 'wind_speed', 'rain_1h', 'clouds_all',\n",
      "       'weather_main', 'Weekday', 'Hour', 'Month', 'TimeOfDay', 'Seasons',\n",
      "       'RushHour'],\n",
      "      dtype='object')\n",
      "Fitting 3 folds for each of 288 candidates, totalling 864 fits\n"
     ]
    },
    {
     "name": "stderr",
     "output_type": "stream",
     "text": [
      "[Parallel(n_jobs=-1)]: Using backend LokyBackend with 8 concurrent workers.\n",
      "[Parallel(n_jobs=-1)]: Done  25 tasks      | elapsed:   16.0s\n",
      "[Parallel(n_jobs=-1)]: Done 146 tasks      | elapsed:  1.8min\n",
      "[Parallel(n_jobs=-1)]: Done 349 tasks      | elapsed:  4.4min\n",
      "[Parallel(n_jobs=-1)]: Done 632 tasks      | elapsed:  8.2min\n",
      "[Parallel(n_jobs=-1)]: Done 864 out of 864 | elapsed: 11.2min finished\n"
     ]
    },
    {
     "name": "stdout",
     "output_type": "stream",
     "text": [
      "114 _ OB Done.\n",
      "116_IB\n",
      "Starting 116\n",
      "Data range is:  109\n",
      "Features Index(['temp', 'feels_like', 'humidity', 'wind_speed', 'rain_1h', 'clouds_all',\n",
      "       'weather_main', 'Weekday', 'Hour', 'Month', 'TimeOfDay', 'Seasons',\n",
      "       'RushHour'],\n",
      "      dtype='object')\n",
      "Fitting 3 folds for each of 288 candidates, totalling 864 fits\n"
     ]
    },
    {
     "name": "stderr",
     "output_type": "stream",
     "text": [
      "[Parallel(n_jobs=-1)]: Using backend LokyBackend with 8 concurrent workers.\n",
      "[Parallel(n_jobs=-1)]: Done  25 tasks      | elapsed: 137.9min\n",
      "[Parallel(n_jobs=-1)]: Done 146 tasks      | elapsed: 138.7min\n",
      "[Parallel(n_jobs=-1)]: Done 349 tasks      | elapsed: 139.9min\n",
      "[Parallel(n_jobs=-1)]: Done 632 tasks      | elapsed: 141.6min\n",
      "[Parallel(n_jobs=-1)]: Done 864 out of 864 | elapsed: 143.2min finished\n"
     ]
    },
    {
     "name": "stdout",
     "output_type": "stream",
     "text": [
      "116 _ IB Done.\n",
      "116_OB\n",
      "Starting 116\n",
      "Data range is:  110\n",
      "Features Index(['temp', 'feels_like', 'humidity', 'wind_speed', 'rain_1h', 'clouds_all',\n",
      "       'weather_main', 'Weekday', 'Hour', 'Month', 'TimeOfDay', 'Seasons',\n",
      "       'RushHour'],\n",
      "      dtype='object')\n",
      "Fitting 3 folds for each of 288 candidates, totalling 864 fits\n"
     ]
    },
    {
     "name": "stderr",
     "output_type": "stream",
     "text": [
      "[Parallel(n_jobs=-1)]: Using backend LokyBackend with 8 concurrent workers.\n",
      "[Parallel(n_jobs=-1)]: Done  25 tasks      | elapsed:    9.6s\n",
      "[Parallel(n_jobs=-1)]: Done 146 tasks      | elapsed:   48.4s\n",
      "[Parallel(n_jobs=-1)]: Done 349 tasks      | elapsed:  2.1min\n",
      "[Parallel(n_jobs=-1)]: Done 632 tasks      | elapsed:  3.9min\n",
      "[Parallel(n_jobs=-1)]: Done 864 out of 864 | elapsed:  5.4min finished\n"
     ]
    },
    {
     "name": "stdout",
     "output_type": "stream",
     "text": [
      "116 _ OB Done.\n",
      "118_IB\n",
      "Starting 118\n",
      "Data range is:  107\n",
      "Features Index(['temp', 'feels_like', 'humidity', 'wind_speed', 'rain_1h', 'clouds_all',\n",
      "       'weather_main', 'Weekday', 'Hour', 'Month', 'TimeOfDay', 'Seasons',\n",
      "       'RushHour'],\n",
      "      dtype='object')\n",
      "Fitting 3 folds for each of 288 candidates, totalling 864 fits\n"
     ]
    },
    {
     "name": "stderr",
     "output_type": "stream",
     "text": [
      "[Parallel(n_jobs=-1)]: Using backend LokyBackend with 8 concurrent workers.\n",
      "[Parallel(n_jobs=-1)]: Done  25 tasks      | elapsed:   10.9s\n",
      "[Parallel(n_jobs=-1)]: Done 146 tasks      | elapsed:  1.1min\n",
      "[Parallel(n_jobs=-1)]: Done 349 tasks      | elapsed:  2.8min\n",
      "[Parallel(n_jobs=-1)]: Done 632 tasks      | elapsed:  4.9min\n",
      "[Parallel(n_jobs=-1)]: Done 864 out of 864 | elapsed:  6.5min finished\n"
     ]
    },
    {
     "name": "stdout",
     "output_type": "stream",
     "text": [
      "118 _ IB Done.\n",
      "11_IB\n",
      "Starting 11\n",
      "Data range is:  12577\n",
      "Features Index(['temp', 'feels_like', 'humidity', 'wind_speed', 'rain_1h', 'clouds_all',\n",
      "       'weather_main', 'Weekday', 'Hour', 'Month', 'TimeOfDay', 'Seasons',\n",
      "       'RushHour'],\n",
      "      dtype='object')\n",
      "Fitting 3 folds for each of 288 candidates, totalling 864 fits\n"
     ]
    },
    {
     "name": "stderr",
     "output_type": "stream",
     "text": [
      "[Parallel(n_jobs=-1)]: Using backend LokyBackend with 8 concurrent workers.\n",
      "[Parallel(n_jobs=-1)]: Done  25 tasks      | elapsed:   11.5s\n",
      "[Parallel(n_jobs=-1)]: Done 146 tasks      | elapsed:  1.0min\n",
      "[Parallel(n_jobs=-1)]: Done 349 tasks      | elapsed:  2.5min\n",
      "[Parallel(n_jobs=-1)]: Done 632 tasks      | elapsed:  4.7min\n",
      "[Parallel(n_jobs=-1)]: Done 864 out of 864 | elapsed:  6.7min finished\n"
     ]
    },
    {
     "name": "stdout",
     "output_type": "stream",
     "text": [
      "11 _ IB Done.\n",
      "11_OB\n",
      "Starting 11\n",
      "Data range is:  12069\n",
      "Features Index(['temp', 'feels_like', 'humidity', 'wind_speed', 'rain_1h', 'clouds_all',\n",
      "       'weather_main', 'Weekday', 'Hour', 'Month', 'TimeOfDay', 'Seasons',\n",
      "       'RushHour'],\n",
      "      dtype='object')\n",
      "Fitting 3 folds for each of 288 candidates, totalling 864 fits\n"
     ]
    },
    {
     "name": "stderr",
     "output_type": "stream",
     "text": [
      "[Parallel(n_jobs=-1)]: Using backend LokyBackend with 8 concurrent workers.\n",
      "[Parallel(n_jobs=-1)]: Done  25 tasks      | elapsed:    9.4s\n",
      "[Parallel(n_jobs=-1)]: Done 146 tasks      | elapsed:  1.0min\n",
      "[Parallel(n_jobs=-1)]: Done 349 tasks      | elapsed:  2.5min\n",
      "[Parallel(n_jobs=-1)]: Done 632 tasks      | elapsed:  4.7min\n",
      "[Parallel(n_jobs=-1)]: Done 864 out of 864 | elapsed:  6.4min finished\n"
     ]
    },
    {
     "name": "stdout",
     "output_type": "stream",
     "text": [
      "11 _ OB Done.\n",
      "120_IB\n",
      "Starting 120\n",
      "Data range is:  12138\n",
      "Features Index(['temp', 'feels_like', 'humidity', 'wind_speed', 'rain_1h', 'clouds_all',\n",
      "       'weather_main', 'Weekday', 'Hour', 'Month', 'TimeOfDay', 'Seasons',\n",
      "       'RushHour'],\n",
      "      dtype='object')\n",
      "Fitting 3 folds for each of 288 candidates, totalling 864 fits\n"
     ]
    },
    {
     "name": "stderr",
     "output_type": "stream",
     "text": [
      "[Parallel(n_jobs=-1)]: Using backend LokyBackend with 8 concurrent workers.\n",
      "[Parallel(n_jobs=-1)]: Done  25 tasks      | elapsed:    8.5s\n",
      "[Parallel(n_jobs=-1)]: Done 146 tasks      | elapsed:   56.3s\n",
      "[Parallel(n_jobs=-1)]: Done 349 tasks      | elapsed:  3.0min\n",
      "[Parallel(n_jobs=-1)]: Done 632 tasks      | elapsed:  5.4min\n",
      "[Parallel(n_jobs=-1)]: Done 864 out of 864 | elapsed:  7.6min finished\n"
     ]
    },
    {
     "name": "stdout",
     "output_type": "stream",
     "text": [
      "120 _ IB Done.\n",
      "120_OB\n",
      "Starting 120\n",
      "Data range is:  11939\n",
      "Features Index(['temp', 'feels_like', 'humidity', 'wind_speed', 'rain_1h', 'clouds_all',\n",
      "       'weather_main', 'Weekday', 'Hour', 'Month', 'TimeOfDay', 'Seasons',\n",
      "       'RushHour'],\n",
      "      dtype='object')\n",
      "Fitting 3 folds for each of 288 candidates, totalling 864 fits\n"
     ]
    },
    {
     "name": "stderr",
     "output_type": "stream",
     "text": [
      "[Parallel(n_jobs=-1)]: Using backend LokyBackend with 8 concurrent workers.\n",
      "[Parallel(n_jobs=-1)]: Done  25 tasks      | elapsed:   10.7s\n",
      "[Parallel(n_jobs=-1)]: Done 146 tasks      | elapsed:  1.2min\n",
      "[Parallel(n_jobs=-1)]: Done 349 tasks      | elapsed:  2.9min\n",
      "[Parallel(n_jobs=-1)]: Done 632 tasks      | elapsed:  5.4min\n",
      "[Parallel(n_jobs=-1)]: Done 864 out of 864 | elapsed:  7.6min finished\n"
     ]
    },
    {
     "name": "stdout",
     "output_type": "stream",
     "text": [
      "120 _ OB Done.\n",
      "122_IB\n",
      "Starting 122\n",
      "Data range is:  8707\n",
      "Features Index(['temp', 'feels_like', 'humidity', 'wind_speed', 'rain_1h', 'clouds_all',\n",
      "       'weather_main', 'Weekday', 'Hour', 'Month', 'TimeOfDay', 'Seasons',\n",
      "       'RushHour'],\n",
      "      dtype='object')\n",
      "Fitting 3 folds for each of 288 candidates, totalling 864 fits\n"
     ]
    },
    {
     "name": "stderr",
     "output_type": "stream",
     "text": [
      "[Parallel(n_jobs=-1)]: Using backend LokyBackend with 8 concurrent workers.\n",
      "[Parallel(n_jobs=-1)]: Done  25 tasks      | elapsed:    7.9s\n",
      "[Parallel(n_jobs=-1)]: Done 146 tasks      | elapsed:   51.8s\n",
      "[Parallel(n_jobs=-1)]: Done 349 tasks      | elapsed:  2.1min\n",
      "[Parallel(n_jobs=-1)]: Done 632 tasks      | elapsed:  4.0min\n",
      "[Parallel(n_jobs=-1)]: Done 864 out of 864 | elapsed:  5.5min finished\n"
     ]
    },
    {
     "name": "stdout",
     "output_type": "stream",
     "text": [
      "122 _ IB Done.\n",
      "122_OB\n",
      "Starting 122\n",
      "Data range is:  8752\n",
      "Features Index(['temp', 'feels_like', 'humidity', 'wind_speed', 'rain_1h', 'clouds_all',\n",
      "       'weather_main', 'Weekday', 'Hour', 'Month', 'TimeOfDay', 'Seasons',\n",
      "       'RushHour'],\n",
      "      dtype='object')\n",
      "Fitting 3 folds for each of 288 candidates, totalling 864 fits\n"
     ]
    },
    {
     "name": "stderr",
     "output_type": "stream",
     "text": [
      "[Parallel(n_jobs=-1)]: Using backend LokyBackend with 8 concurrent workers.\n",
      "[Parallel(n_jobs=-1)]: Done  25 tasks      | elapsed:    8.3s\n",
      "[Parallel(n_jobs=-1)]: Done 146 tasks      | elapsed:   53.2s\n",
      "[Parallel(n_jobs=-1)]: Done 349 tasks      | elapsed:  2.2min\n",
      "[Parallel(n_jobs=-1)]: Done 632 tasks      | elapsed:  4.1min\n",
      "[Parallel(n_jobs=-1)]: Done 864 out of 864 | elapsed:  5.7min finished\n"
     ]
    },
    {
     "name": "stdout",
     "output_type": "stream",
     "text": [
      "122 _ OB Done.\n",
      "123_IB\n",
      "Starting 123\n",
      "Data range is:  21513\n",
      "Features Index(['temp', 'feels_like', 'humidity', 'wind_speed', 'rain_1h', 'clouds_all',\n",
      "       'weather_main', 'Weekday', 'Hour', 'Month', 'TimeOfDay', 'Seasons',\n",
      "       'RushHour'],\n",
      "      dtype='object')\n",
      "Fitting 3 folds for each of 288 candidates, totalling 864 fits\n"
     ]
    },
    {
     "name": "stderr",
     "output_type": "stream",
     "text": [
      "[Parallel(n_jobs=-1)]: Using backend LokyBackend with 8 concurrent workers.\n",
      "[Parallel(n_jobs=-1)]: Done  25 tasks      | elapsed:   22.8s\n",
      "[Parallel(n_jobs=-1)]: Done 146 tasks      | elapsed:  2.2min\n",
      "[Parallel(n_jobs=-1)]: Done 349 tasks      | elapsed:  5.6min\n",
      "[Parallel(n_jobs=-1)]: Done 632 tasks      | elapsed: 10.4min\n",
      "[Parallel(n_jobs=-1)]: Done 864 out of 864 | elapsed: 14.8min finished\n"
     ]
    },
    {
     "name": "stdout",
     "output_type": "stream",
     "text": [
      "123 _ IB Done.\n",
      "123_OB\n",
      "Starting 123\n",
      "Data range is:  21553\n",
      "Features Index(['temp', 'feels_like', 'humidity', 'wind_speed', 'rain_1h', 'clouds_all',\n",
      "       'weather_main', 'Weekday', 'Hour', 'Month', 'TimeOfDay', 'Seasons',\n",
      "       'RushHour'],\n",
      "      dtype='object')\n",
      "Fitting 3 folds for each of 288 candidates, totalling 864 fits\n"
     ]
    },
    {
     "name": "stderr",
     "output_type": "stream",
     "text": [
      "[Parallel(n_jobs=-1)]: Using backend LokyBackend with 8 concurrent workers.\n",
      "[Parallel(n_jobs=-1)]: Done  25 tasks      | elapsed:   21.9s\n",
      "[Parallel(n_jobs=-1)]: Done 146 tasks      | elapsed:  2.2min\n",
      "[Parallel(n_jobs=-1)]: Done 349 tasks      | elapsed:  5.6min\n",
      "[Parallel(n_jobs=-1)]: Done 632 tasks      | elapsed: 10.4min\n",
      "[Parallel(n_jobs=-1)]: Done 864 out of 864 | elapsed: 14.1min finished\n"
     ]
    },
    {
     "name": "stdout",
     "output_type": "stream",
     "text": [
      "123 _ OB Done.\n",
      "130_IB\n",
      "Starting 130\n",
      "Data range is:  23278\n",
      "Features Index(['temp', 'feels_like', 'humidity', 'wind_speed', 'rain_1h', 'clouds_all',\n",
      "       'weather_main', 'Weekday', 'Hour', 'Month', 'TimeOfDay', 'Seasons',\n",
      "       'RushHour'],\n",
      "      dtype='object')\n",
      "Fitting 3 folds for each of 288 candidates, totalling 864 fits\n"
     ]
    },
    {
     "name": "stderr",
     "output_type": "stream",
     "text": [
      "[Parallel(n_jobs=-1)]: Using backend LokyBackend with 8 concurrent workers.\n",
      "[Parallel(n_jobs=-1)]: Done  25 tasks      | elapsed:   27.1s\n",
      "[Parallel(n_jobs=-1)]: Done 146 tasks      | elapsed:  2.6min\n",
      "[Parallel(n_jobs=-1)]: Done 349 tasks      | elapsed:  6.3min\n",
      "[Parallel(n_jobs=-1)]: Done 632 tasks      | elapsed: 11.5min\n",
      "[Parallel(n_jobs=-1)]: Done 864 out of 864 | elapsed: 16.3min finished\n"
     ]
    },
    {
     "name": "stdout",
     "output_type": "stream",
     "text": [
      "130 _ IB Done.\n",
      "130_OB\n",
      "Starting 130\n",
      "Data range is:  22575\n",
      "Features Index(['temp', 'feels_like', 'humidity', 'wind_speed', 'rain_1h', 'clouds_all',\n",
      "       'weather_main', 'Weekday', 'Hour', 'Month', 'TimeOfDay', 'Seasons',\n",
      "       'RushHour'],\n",
      "      dtype='object')\n",
      "Fitting 3 folds for each of 288 candidates, totalling 864 fits\n"
     ]
    },
    {
     "name": "stderr",
     "output_type": "stream",
     "text": [
      "[Parallel(n_jobs=-1)]: Using backend LokyBackend with 8 concurrent workers.\n",
      "[Parallel(n_jobs=-1)]: Done  25 tasks      | elapsed:   24.3s\n",
      "[Parallel(n_jobs=-1)]: Done 146 tasks      | elapsed:  2.3min\n",
      "[Parallel(n_jobs=-1)]: Done 349 tasks      | elapsed:  5.5min\n",
      "[Parallel(n_jobs=-1)]: Done 632 tasks      | elapsed: 10.8min\n",
      "[Parallel(n_jobs=-1)]: Done 864 out of 864 | elapsed: 16.9min finished\n"
     ]
    },
    {
     "name": "stdout",
     "output_type": "stream",
     "text": [
      "130 _ OB Done.\n",
      "13_IB\n",
      "Starting 13\n",
      "Data range is:  6735\n",
      "Features Index(['temp', 'feels_like', 'humidity', 'wind_speed', 'rain_1h', 'clouds_all',\n",
      "       'weather_main', 'Weekday', 'Hour', 'Month', 'TimeOfDay', 'Seasons',\n",
      "       'RushHour'],\n",
      "      dtype='object')\n",
      "Fitting 3 folds for each of 288 candidates, totalling 864 fits\n"
     ]
    },
    {
     "name": "stderr",
     "output_type": "stream",
     "text": [
      "[Parallel(n_jobs=-1)]: Using backend LokyBackend with 8 concurrent workers.\n",
      "[Parallel(n_jobs=-1)]: Done  25 tasks      | elapsed:    9.4s\n",
      "[Parallel(n_jobs=-1)]: Done 146 tasks      | elapsed:  1.1min\n",
      "[Parallel(n_jobs=-1)]: Done 349 tasks      | elapsed:  2.7min\n",
      "[Parallel(n_jobs=-1)]: Done 632 tasks      | elapsed:  4.9min\n",
      "[Parallel(n_jobs=-1)]: Done 864 out of 864 | elapsed:  6.7min finished\n"
     ]
    },
    {
     "name": "stdout",
     "output_type": "stream",
     "text": [
      "13 _ IB Done.\n",
      "13_OB\n",
      "Starting 13\n",
      "Data range is:  4780\n",
      "Features Index(['temp', 'feels_like', 'humidity', 'wind_speed', 'rain_1h', 'clouds_all',\n",
      "       'weather_main', 'Weekday', 'Hour', 'Month', 'TimeOfDay', 'Seasons',\n",
      "       'RushHour'],\n",
      "      dtype='object')\n",
      "Fitting 3 folds for each of 288 candidates, totalling 864 fits\n"
     ]
    },
    {
     "name": "stderr",
     "output_type": "stream",
     "text": [
      "[Parallel(n_jobs=-1)]: Using backend LokyBackend with 8 concurrent workers.\n",
      "[Parallel(n_jobs=-1)]: Done  25 tasks      | elapsed:    6.8s\n",
      "[Parallel(n_jobs=-1)]: Done 146 tasks      | elapsed:   49.0s\n",
      "[Parallel(n_jobs=-1)]: Done 349 tasks      | elapsed:  2.0min\n",
      "[Parallel(n_jobs=-1)]: Done 632 tasks      | elapsed:  3.8min\n",
      "[Parallel(n_jobs=-1)]: Done 864 out of 864 | elapsed:  5.5min finished\n"
     ]
    },
    {
     "name": "stdout",
     "output_type": "stream",
     "text": [
      "13 _ OB Done.\n",
      "140_IB\n",
      "Starting 140\n",
      "Data range is:  18814\n",
      "Features Index(['temp', 'feels_like', 'humidity', 'wind_speed', 'rain_1h', 'clouds_all',\n",
      "       'weather_main', 'Weekday', 'Hour', 'Month', 'TimeOfDay', 'Seasons',\n",
      "       'RushHour'],\n",
      "      dtype='object')\n",
      "Fitting 3 folds for each of 288 candidates, totalling 864 fits\n"
     ]
    },
    {
     "name": "stderr",
     "output_type": "stream",
     "text": [
      "[Parallel(n_jobs=-1)]: Using backend LokyBackend with 8 concurrent workers.\n",
      "[Parallel(n_jobs=-1)]: Done  25 tasks      | elapsed:   23.5s\n",
      "[Parallel(n_jobs=-1)]: Done 146 tasks      | elapsed:  2.3min\n",
      "[Parallel(n_jobs=-1)]: Done 349 tasks      | elapsed:  5.6min\n",
      "[Parallel(n_jobs=-1)]: Done 632 tasks      | elapsed:  9.6min\n",
      "[Parallel(n_jobs=-1)]: Done 864 out of 864 | elapsed: 12.7min finished\n"
     ]
    },
    {
     "name": "stdout",
     "output_type": "stream",
     "text": [
      "140 _ IB Done.\n",
      "140_OB\n",
      "Starting 140\n",
      "Data range is:  21167\n",
      "Features Index(['temp', 'feels_like', 'humidity', 'wind_speed', 'rain_1h', 'clouds_all',\n",
      "       'weather_main', 'Weekday', 'Hour', 'Month', 'TimeOfDay', 'Seasons',\n",
      "       'RushHour'],\n",
      "      dtype='object')\n",
      "Fitting 3 folds for each of 288 candidates, totalling 864 fits\n"
     ]
    },
    {
     "name": "stderr",
     "output_type": "stream",
     "text": [
      "[Parallel(n_jobs=-1)]: Using backend LokyBackend with 8 concurrent workers.\n",
      "[Parallel(n_jobs=-1)]: Done  25 tasks      | elapsed:   17.6s\n",
      "[Parallel(n_jobs=-1)]: Done 146 tasks      | elapsed:  1.9min\n",
      "[Parallel(n_jobs=-1)]: Done 349 tasks      | elapsed:  4.8min\n",
      "[Parallel(n_jobs=-1)]: Done 632 tasks      | elapsed:  8.9min\n",
      "[Parallel(n_jobs=-1)]: Done 864 out of 864 | elapsed: 13.2min finished\n"
     ]
    },
    {
     "name": "stdout",
     "output_type": "stream",
     "text": [
      "140 _ OB Done.\n",
      "142_IB\n",
      "Starting 142\n",
      "Data range is:  1412\n",
      "Features Index(['temp', 'feels_like', 'humidity', 'wind_speed', 'rain_1h', 'clouds_all',\n",
      "       'weather_main', 'Weekday', 'Hour', 'Month', 'TimeOfDay', 'Seasons',\n",
      "       'RushHour'],\n",
      "      dtype='object')\n",
      "Fitting 3 folds for each of 288 candidates, totalling 864 fits\n"
     ]
    },
    {
     "name": "stderr",
     "output_type": "stream",
     "text": [
      "[Parallel(n_jobs=-1)]: Using backend LokyBackend with 8 concurrent workers.\n",
      "[Parallel(n_jobs=-1)]: Done  25 tasks      | elapsed:    5.2s\n",
      "[Parallel(n_jobs=-1)]: Done 146 tasks      | elapsed:   33.2s\n",
      "[Parallel(n_jobs=-1)]: Done 349 tasks      | elapsed:  1.3min\n",
      "[Parallel(n_jobs=-1)]: Done 632 tasks      | elapsed:  2.4min\n",
      "[Parallel(n_jobs=-1)]: Done 864 out of 864 | elapsed:  3.2min finished\n"
     ]
    },
    {
     "name": "stdout",
     "output_type": "stream",
     "text": [
      "142 _ IB Done.\n",
      "142_OB\n",
      "Starting 142\n",
      "Data range is:  1158\n",
      "Features Index(['temp', 'feels_like', 'humidity', 'wind_speed', 'rain_1h', 'clouds_all',\n",
      "       'weather_main', 'Weekday', 'Hour', 'Month', 'TimeOfDay', 'Seasons',\n",
      "       'RushHour'],\n",
      "      dtype='object')\n",
      "Fitting 3 folds for each of 288 candidates, totalling 864 fits\n"
     ]
    },
    {
     "name": "stderr",
     "output_type": "stream",
     "text": [
      "[Parallel(n_jobs=-1)]: Using backend LokyBackend with 8 concurrent workers.\n",
      "[Parallel(n_jobs=-1)]: Done  25 tasks      | elapsed:    3.8s\n",
      "[Parallel(n_jobs=-1)]: Done 146 tasks      | elapsed:   25.1s\n",
      "[Parallel(n_jobs=-1)]: Done 349 tasks      | elapsed:  1.0min\n",
      "[Parallel(n_jobs=-1)]: Done 632 tasks      | elapsed:  1.9min\n",
      "[Parallel(n_jobs=-1)]: Done 864 out of 864 | elapsed:  2.6min finished\n"
     ]
    },
    {
     "name": "stdout",
     "output_type": "stream",
     "text": [
      "142 _ OB Done.\n",
      "145_IB\n",
      "Starting 145\n",
      "Data range is:  24541\n",
      "Features Index(['temp', 'feels_like', 'humidity', 'wind_speed', 'rain_1h', 'clouds_all',\n",
      "       'weather_main', 'Weekday', 'Hour', 'Month', 'TimeOfDay', 'Seasons',\n",
      "       'RushHour'],\n",
      "      dtype='object')\n",
      "Fitting 3 folds for each of 288 candidates, totalling 864 fits\n"
     ]
    },
    {
     "name": "stderr",
     "output_type": "stream",
     "text": [
      "[Parallel(n_jobs=-1)]: Using backend LokyBackend with 8 concurrent workers.\n",
      "[Parallel(n_jobs=-1)]: Done  25 tasks      | elapsed:   23.2s\n",
      "[Parallel(n_jobs=-1)]: Done 146 tasks      | elapsed:  2.6min\n",
      "[Parallel(n_jobs=-1)]: Done 349 tasks      | elapsed:  5.7min\n",
      "[Parallel(n_jobs=-1)]: Done 632 tasks      | elapsed: 10.4min\n",
      "[Parallel(n_jobs=-1)]: Done 864 out of 864 | elapsed: 14.6min finished\n"
     ]
    },
    {
     "name": "stdout",
     "output_type": "stream",
     "text": [
      "145 _ IB Done.\n",
      "145_OB\n",
      "Starting 145\n",
      "Data range is:  26676\n",
      "Features Index(['temp', 'feels_like', 'humidity', 'wind_speed', 'rain_1h', 'clouds_all',\n",
      "       'weather_main', 'Weekday', 'Hour', 'Month', 'TimeOfDay', 'Seasons',\n",
      "       'RushHour'],\n",
      "      dtype='object')\n",
      "Fitting 3 folds for each of 288 candidates, totalling 864 fits\n"
     ]
    },
    {
     "name": "stderr",
     "output_type": "stream",
     "text": [
      "[Parallel(n_jobs=-1)]: Using backend LokyBackend with 8 concurrent workers.\n",
      "[Parallel(n_jobs=-1)]: Done  25 tasks      | elapsed:   21.3s\n",
      "[Parallel(n_jobs=-1)]: Done 146 tasks      | elapsed:  2.1min\n",
      "[Parallel(n_jobs=-1)]: Done 349 tasks      | elapsed:  5.1min\n",
      "[Parallel(n_jobs=-1)]: Done 632 tasks      | elapsed:  9.5min\n",
      "[Parallel(n_jobs=-1)]: Done 864 out of 864 | elapsed: 13.9min finished\n"
     ]
    },
    {
     "name": "stdout",
     "output_type": "stream",
     "text": [
      "145 _ OB Done.\n",
      "14C_IB\n",
      "Starting 14C\n",
      "Data range is:  431\n",
      "Features Index(['temp', 'feels_like', 'humidity', 'wind_speed', 'rain_1h', 'clouds_all',\n",
      "       'weather_main', 'Weekday', 'Hour', 'Month', 'TimeOfDay', 'Seasons',\n",
      "       'RushHour'],\n",
      "      dtype='object')\n",
      "Fitting 3 folds for each of 288 candidates, totalling 864 fits\n"
     ]
    },
    {
     "name": "stderr",
     "output_type": "stream",
     "text": [
      "[Parallel(n_jobs=-1)]: Using backend LokyBackend with 8 concurrent workers.\n",
      "[Parallel(n_jobs=-1)]: Done  25 tasks      | elapsed:    3.4s\n",
      "[Parallel(n_jobs=-1)]: Done 146 tasks      | elapsed:   23.6s\n",
      "[Parallel(n_jobs=-1)]: Done 349 tasks      | elapsed:   57.2s\n",
      "[Parallel(n_jobs=-1)]: Done 632 tasks      | elapsed:  1.6min\n",
      "[Parallel(n_jobs=-1)]: Done 864 out of 864 | elapsed:  2.2min finished\n"
     ]
    },
    {
     "name": "stdout",
     "output_type": "stream",
     "text": [
      "14C _ IB Done.\n",
      "14C_OB\n",
      "Starting 14C\n",
      "Data range is:  248\n",
      "Features Index(['temp', 'feels_like', 'humidity', 'wind_speed', 'rain_1h', 'clouds_all',\n",
      "       'weather_main', 'Weekday', 'Hour', 'Month', 'TimeOfDay', 'Seasons',\n",
      "       'RushHour'],\n",
      "      dtype='object')\n",
      "Fitting 3 folds for each of 288 candidates, totalling 864 fits\n"
     ]
    },
    {
     "name": "stderr",
     "output_type": "stream",
     "text": [
      "[Parallel(n_jobs=-1)]: Using backend LokyBackend with 8 concurrent workers.\n",
      "[Parallel(n_jobs=-1)]: Done  25 tasks      | elapsed:    3.0s\n",
      "[Parallel(n_jobs=-1)]: Done 146 tasks      | elapsed:   19.7s\n",
      "[Parallel(n_jobs=-1)]: Done 349 tasks      | elapsed:   47.9s\n",
      "[Parallel(n_jobs=-1)]: Done 632 tasks      | elapsed:  1.5min\n",
      "[Parallel(n_jobs=-1)]: Done 864 out of 864 | elapsed:  2.1min finished\n"
     ]
    },
    {
     "name": "stdout",
     "output_type": "stream",
     "text": [
      "14C _ OB Done.\n",
      "14_IB\n",
      "Starting 14\n",
      "Data range is:  16645\n",
      "Features Index(['temp', 'feels_like', 'humidity', 'wind_speed', 'rain_1h', 'clouds_all',\n",
      "       'weather_main', 'Weekday', 'Hour', 'Month', 'TimeOfDay', 'Seasons',\n",
      "       'RushHour'],\n",
      "      dtype='object')\n",
      "Fitting 3 folds for each of 288 candidates, totalling 864 fits\n"
     ]
    },
    {
     "name": "stderr",
     "output_type": "stream",
     "text": [
      "[Parallel(n_jobs=-1)]: Using backend LokyBackend with 8 concurrent workers.\n",
      "[Parallel(n_jobs=-1)]: Done  25 tasks      | elapsed:   18.4s\n",
      "[Parallel(n_jobs=-1)]: Done 146 tasks      | elapsed:  1.9min\n",
      "[Parallel(n_jobs=-1)]: Done 349 tasks      | elapsed:  4.5min\n",
      "[Parallel(n_jobs=-1)]: Done 632 tasks      | elapsed:  8.1min\n",
      "[Parallel(n_jobs=-1)]: Done 864 out of 864 | elapsed: 11.7min finished\n"
     ]
    },
    {
     "name": "stdout",
     "output_type": "stream",
     "text": [
      "14 _ IB Done.\n",
      "14_OB\n",
      "Starting 14\n",
      "Data range is:  16977\n",
      "Features Index(['temp', 'feels_like', 'humidity', 'wind_speed', 'rain_1h', 'clouds_all',\n",
      "       'weather_main', 'Weekday', 'Hour', 'Month', 'TimeOfDay', 'Seasons',\n",
      "       'RushHour'],\n",
      "      dtype='object')\n",
      "Fitting 3 folds for each of 288 candidates, totalling 864 fits\n"
     ]
    },
    {
     "name": "stderr",
     "output_type": "stream",
     "text": [
      "[Parallel(n_jobs=-1)]: Using backend LokyBackend with 8 concurrent workers.\n",
      "[Parallel(n_jobs=-1)]: Done  25 tasks      | elapsed:   15.6s\n",
      "[Parallel(n_jobs=-1)]: Done 146 tasks      | elapsed:  1.7min\n",
      "[Parallel(n_jobs=-1)]: Done 349 tasks      | elapsed:  4.3min\n",
      "[Parallel(n_jobs=-1)]: Done 632 tasks      | elapsed:  8.0min\n",
      "[Parallel(n_jobs=-1)]: Done 864 out of 864 | elapsed: 11.0min finished\n"
     ]
    },
    {
     "name": "stdout",
     "output_type": "stream",
     "text": [
      "14 _ OB Done.\n",
      "150_IB\n",
      "Starting 150\n",
      "Data range is:  11511\n",
      "Features Index(['temp', 'feels_like', 'humidity', 'wind_speed', 'rain_1h', 'clouds_all',\n",
      "       'weather_main', 'Weekday', 'Hour', 'Month', 'TimeOfDay', 'Seasons',\n",
      "       'RushHour'],\n",
      "      dtype='object')\n",
      "Fitting 3 folds for each of 288 candidates, totalling 864 fits\n"
     ]
    },
    {
     "name": "stderr",
     "output_type": "stream",
     "text": [
      "[Parallel(n_jobs=-1)]: Using backend LokyBackend with 8 concurrent workers.\n",
      "[Parallel(n_jobs=-1)]: Done  25 tasks      | elapsed:   13.3s\n",
      "[Parallel(n_jobs=-1)]: Done 146 tasks      | elapsed:  1.5min\n",
      "[Parallel(n_jobs=-1)]: Done 349 tasks      | elapsed:  3.5min\n",
      "[Parallel(n_jobs=-1)]: Done 632 tasks      | elapsed:  6.3min\n",
      "[Parallel(n_jobs=-1)]: Done 864 out of 864 | elapsed:  8.4min finished\n"
     ]
    },
    {
     "name": "stdout",
     "output_type": "stream",
     "text": [
      "150 _ IB Done.\n",
      "150_OB\n",
      "Starting 150\n",
      "Data range is:  14763\n",
      "Features Index(['temp', 'feels_like', 'humidity', 'wind_speed', 'rain_1h', 'clouds_all',\n",
      "       'weather_main', 'Weekday', 'Hour', 'Month', 'TimeOfDay', 'Seasons',\n",
      "       'RushHour'],\n",
      "      dtype='object')\n",
      "Fitting 3 folds for each of 288 candidates, totalling 864 fits\n"
     ]
    },
    {
     "name": "stderr",
     "output_type": "stream",
     "text": [
      "[Parallel(n_jobs=-1)]: Using backend LokyBackend with 8 concurrent workers.\n",
      "[Parallel(n_jobs=-1)]: Done  25 tasks      | elapsed:   13.1s\n",
      "[Parallel(n_jobs=-1)]: Done 146 tasks      | elapsed:  1.6min\n",
      "[Parallel(n_jobs=-1)]: Done 349 tasks      | elapsed:  4.0min\n",
      "[Parallel(n_jobs=-1)]: Done 632 tasks      | elapsed:  7.9min\n",
      "[Parallel(n_jobs=-1)]: Done 864 out of 864 | elapsed: 10.8min finished\n"
     ]
    },
    {
     "name": "stdout",
     "output_type": "stream",
     "text": [
      "150 _ OB Done.\n",
      "151_IB\n",
      "Starting 151\n",
      "Data range is:  12753\n",
      "Features Index(['temp', 'feels_like', 'humidity', 'wind_speed', 'rain_1h', 'clouds_all',\n",
      "       'weather_main', 'Weekday', 'Hour', 'Month', 'TimeOfDay', 'Seasons',\n",
      "       'RushHour'],\n",
      "      dtype='object')\n",
      "Fitting 3 folds for each of 288 candidates, totalling 864 fits\n"
     ]
    },
    {
     "name": "stderr",
     "output_type": "stream",
     "text": [
      "[Parallel(n_jobs=-1)]: Using backend LokyBackend with 8 concurrent workers.\n",
      "[Parallel(n_jobs=-1)]: Done  25 tasks      | elapsed:   15.8s\n",
      "[Parallel(n_jobs=-1)]: Done 146 tasks      | elapsed:  1.7min\n",
      "[Parallel(n_jobs=-1)]: Done 349 tasks      | elapsed:  4.0min\n",
      "[Parallel(n_jobs=-1)]: Done 632 tasks      | elapsed:  7.1min\n",
      "[Parallel(n_jobs=-1)]: Done 864 out of 864 | elapsed:  9.6min finished\n"
     ]
    },
    {
     "name": "stdout",
     "output_type": "stream",
     "text": [
      "151 _ IB Done.\n",
      "151_OB\n",
      "Starting 151\n",
      "Data range is:  11636\n",
      "Features Index(['temp', 'feels_like', 'humidity', 'wind_speed', 'rain_1h', 'clouds_all',\n",
      "       'weather_main', 'Weekday', 'Hour', 'Month', 'TimeOfDay', 'Seasons',\n",
      "       'RushHour'],\n",
      "      dtype='object')\n",
      "Fitting 3 folds for each of 288 candidates, totalling 864 fits\n"
     ]
    },
    {
     "name": "stderr",
     "output_type": "stream",
     "text": [
      "[Parallel(n_jobs=-1)]: Using backend LokyBackend with 8 concurrent workers.\n",
      "[Parallel(n_jobs=-1)]: Done  25 tasks      | elapsed:   12.4s\n",
      "[Parallel(n_jobs=-1)]: Done 146 tasks      | elapsed:  1.3min\n",
      "[Parallel(n_jobs=-1)]: Done 349 tasks      | elapsed:  3.4min\n",
      "[Parallel(n_jobs=-1)]: Done 632 tasks      | elapsed:  6.3min\n",
      "[Parallel(n_jobs=-1)]: Done 864 out of 864 | elapsed:  8.7min finished\n"
     ]
    },
    {
     "name": "stdout",
     "output_type": "stream",
     "text": [
      "151 _ OB Done.\n",
      "15A_IB\n",
      "Starting 15A\n",
      "Data range is:  12004\n",
      "Features Index(['temp', 'feels_like', 'humidity', 'wind_speed', 'rain_1h', 'clouds_all',\n",
      "       'weather_main', 'Weekday', 'Hour', 'Month', 'TimeOfDay', 'Seasons',\n",
      "       'RushHour'],\n",
      "      dtype='object')\n",
      "Fitting 3 folds for each of 288 candidates, totalling 864 fits\n"
     ]
    },
    {
     "name": "stderr",
     "output_type": "stream",
     "text": [
      "[Parallel(n_jobs=-1)]: Using backend LokyBackend with 8 concurrent workers.\n",
      "[Parallel(n_jobs=-1)]: Done  25 tasks      | elapsed:   13.7s\n",
      "[Parallel(n_jobs=-1)]: Done 146 tasks      | elapsed:  1.5min\n",
      "[Parallel(n_jobs=-1)]: Done 349 tasks      | elapsed:  3.6min\n",
      "[Parallel(n_jobs=-1)]: Done 632 tasks      | elapsed:  6.6min\n",
      "[Parallel(n_jobs=-1)]: Done 864 out of 864 | elapsed:  8.8min finished\n"
     ]
    },
    {
     "name": "stdout",
     "output_type": "stream",
     "text": [
      "15A _ IB Done.\n",
      "15A_OB\n",
      "Starting 15A\n",
      "Data range is:  15254\n",
      "Features Index(['temp', 'feels_like', 'humidity', 'wind_speed', 'rain_1h', 'clouds_all',\n",
      "       'weather_main', 'Weekday', 'Hour', 'Month', 'TimeOfDay', 'Seasons',\n",
      "       'RushHour'],\n",
      "      dtype='object')\n",
      "Fitting 3 folds for each of 288 candidates, totalling 864 fits\n"
     ]
    },
    {
     "name": "stderr",
     "output_type": "stream",
     "text": [
      "[Parallel(n_jobs=-1)]: Using backend LokyBackend with 8 concurrent workers.\n",
      "[Parallel(n_jobs=-1)]: Done  25 tasks      | elapsed:   14.8s\n",
      "[Parallel(n_jobs=-1)]: Done 146 tasks      | elapsed:  1.7min\n",
      "[Parallel(n_jobs=-1)]: Done 349 tasks      | elapsed:  4.0min\n",
      "[Parallel(n_jobs=-1)]: Done 632 tasks      | elapsed:  7.4min\n",
      "[Parallel(n_jobs=-1)]: Done 864 out of 864 | elapsed: 10.0min finished\n"
     ]
    },
    {
     "name": "stdout",
     "output_type": "stream",
     "text": [
      "15A _ OB Done.\n",
      "15B_IB\n",
      "Starting 15B\n",
      "Data range is:  12153\n",
      "Features Index(['temp', 'feels_like', 'humidity', 'wind_speed', 'rain_1h', 'clouds_all',\n",
      "       'weather_main', 'Weekday', 'Hour', 'Month', 'TimeOfDay', 'Seasons',\n",
      "       'RushHour'],\n",
      "      dtype='object')\n",
      "Fitting 3 folds for each of 288 candidates, totalling 864 fits\n"
     ]
    },
    {
     "name": "stderr",
     "output_type": "stream",
     "text": [
      "[Parallel(n_jobs=-1)]: Using backend LokyBackend with 8 concurrent workers.\n",
      "[Parallel(n_jobs=-1)]: Done  25 tasks      | elapsed:    9.7s\n",
      "[Parallel(n_jobs=-1)]: Done 146 tasks      | elapsed:  1.1min\n",
      "[Parallel(n_jobs=-1)]: Done 349 tasks      | elapsed:  2.6min\n",
      "[Parallel(n_jobs=-1)]: Done 632 tasks      | elapsed:  4.9min\n",
      "[Parallel(n_jobs=-1)]: Done 864 out of 864 | elapsed:  6.9min finished\n"
     ]
    },
    {
     "name": "stdout",
     "output_type": "stream",
     "text": [
      "15B _ IB Done.\n",
      "15B_OB\n",
      "Starting 15B\n",
      "Data range is:  15796\n",
      "Features Index(['temp', 'feels_like', 'humidity', 'wind_speed', 'rain_1h', 'clouds_all',\n",
      "       'weather_main', 'Weekday', 'Hour', 'Month', 'TimeOfDay', 'Seasons',\n",
      "       'RushHour'],\n",
      "      dtype='object')\n",
      "Fitting 3 folds for each of 288 candidates, totalling 864 fits\n"
     ]
    },
    {
     "name": "stderr",
     "output_type": "stream",
     "text": [
      "[Parallel(n_jobs=-1)]: Using backend LokyBackend with 8 concurrent workers.\n",
      "[Parallel(n_jobs=-1)]: Done  25 tasks      | elapsed:   12.1s\n",
      "[Parallel(n_jobs=-1)]: Done 146 tasks      | elapsed:  1.3min\n",
      "[Parallel(n_jobs=-1)]: Done 349 tasks      | elapsed:  3.3min\n",
      "[Parallel(n_jobs=-1)]: Done 632 tasks      | elapsed:  6.3min\n",
      "[Parallel(n_jobs=-1)]: Done 864 out of 864 | elapsed:  8.6min finished\n"
     ]
    },
    {
     "name": "stdout",
     "output_type": "stream",
     "text": [
      "15B _ OB Done.\n",
      "15D_IB\n",
      "Starting 15D\n",
      "Data range is:  134\n",
      "Features Index(['temp', 'feels_like', 'humidity', 'wind_speed', 'rain_1h', 'clouds_all',\n",
      "       'weather_main', 'Weekday', 'Hour', 'Month', 'TimeOfDay', 'Seasons',\n",
      "       'RushHour'],\n",
      "      dtype='object')\n",
      "Fitting 3 folds for each of 288 candidates, totalling 864 fits\n"
     ]
    },
    {
     "name": "stderr",
     "output_type": "stream",
     "text": [
      "[Parallel(n_jobs=-1)]: Using backend LokyBackend with 8 concurrent workers.\n",
      "[Parallel(n_jobs=-1)]: Done  25 tasks      | elapsed:    2.6s\n",
      "[Parallel(n_jobs=-1)]: Done 146 tasks      | elapsed:   16.5s\n",
      "[Parallel(n_jobs=-1)]: Done 349 tasks      | elapsed:   40.0s\n",
      "[Parallel(n_jobs=-1)]: Done 632 tasks      | elapsed:  1.2min\n",
      "[Parallel(n_jobs=-1)]: Done 864 out of 864 | elapsed:  1.7min finished\n"
     ]
    },
    {
     "name": "stdout",
     "output_type": "stream",
     "text": [
      "15D _ IB Done.\n",
      "15D_OB\n",
      "Starting 15D\n",
      "Data range is:  385\n",
      "Features Index(['temp', 'feels_like', 'humidity', 'wind_speed', 'rain_1h', 'clouds_all',\n",
      "       'weather_main', 'Weekday', 'Hour', 'Month', 'TimeOfDay', 'Seasons',\n",
      "       'RushHour'],\n",
      "      dtype='object')\n",
      "Fitting 3 folds for each of 288 candidates, totalling 864 fits\n"
     ]
    },
    {
     "name": "stderr",
     "output_type": "stream",
     "text": [
      "[Parallel(n_jobs=-1)]: Using backend LokyBackend with 8 concurrent workers.\n",
      "[Parallel(n_jobs=-1)]: Done  25 tasks      | elapsed:    2.6s\n",
      "[Parallel(n_jobs=-1)]: Done 146 tasks      | elapsed:   17.0s\n",
      "[Parallel(n_jobs=-1)]: Done 349 tasks      | elapsed:   41.5s\n",
      "[Parallel(n_jobs=-1)]: Done 632 tasks      | elapsed:  1.3min\n",
      "[Parallel(n_jobs=-1)]: Done 864 out of 864 | elapsed:  1.7min finished\n"
     ]
    },
    {
     "name": "stdout",
     "output_type": "stream",
     "text": [
      "15D _ OB Done.\n",
      "15_IB\n",
      "Starting 15\n",
      "Data range is:  25030\n",
      "Features Index(['temp', 'feels_like', 'humidity', 'wind_speed', 'rain_1h', 'clouds_all',\n",
      "       'weather_main', 'Weekday', 'Hour', 'Month', 'TimeOfDay', 'Seasons',\n",
      "       'RushHour'],\n",
      "      dtype='object')\n",
      "Fitting 3 folds for each of 288 candidates, totalling 864 fits\n"
     ]
    },
    {
     "name": "stderr",
     "output_type": "stream",
     "text": [
      "[Parallel(n_jobs=-1)]: Using backend LokyBackend with 8 concurrent workers.\n",
      "[Parallel(n_jobs=-1)]: Done  25 tasks      | elapsed:   18.9s\n",
      "[Parallel(n_jobs=-1)]: Done 146 tasks      | elapsed:  2.1min\n",
      "[Parallel(n_jobs=-1)]: Done 349 tasks      | elapsed:  5.1min\n",
      "[Parallel(n_jobs=-1)]: Done 632 tasks      | elapsed: 12.1min\n",
      "[Parallel(n_jobs=-1)]: Done 864 out of 864 | elapsed: 15.8min finished\n"
     ]
    },
    {
     "name": "stdout",
     "output_type": "stream",
     "text": [
      "15 _ IB Done.\n",
      "15_OB\n",
      "Starting 15\n",
      "Data range is:  20162\n",
      "Features Index(['temp', 'feels_like', 'humidity', 'wind_speed', 'rain_1h', 'clouds_all',\n",
      "       'weather_main', 'Weekday', 'Hour', 'Month', 'TimeOfDay', 'Seasons',\n",
      "       'RushHour'],\n",
      "      dtype='object')\n",
      "Fitting 3 folds for each of 288 candidates, totalling 864 fits\n"
     ]
    },
    {
     "name": "stderr",
     "output_type": "stream",
     "text": [
      "[Parallel(n_jobs=-1)]: Using backend LokyBackend with 8 concurrent workers.\n",
      "[Parallel(n_jobs=-1)]: Done  25 tasks      | elapsed:   16.0s\n",
      "[Parallel(n_jobs=-1)]: Done 146 tasks      | elapsed:  1.7min\n",
      "[Parallel(n_jobs=-1)]: Done 349 tasks      | elapsed:  4.3min\n",
      "[Parallel(n_jobs=-1)]: Done 632 tasks      | elapsed:  8.1min\n",
      "[Parallel(n_jobs=-1)]: Done 864 out of 864 | elapsed: 11.2min finished\n"
     ]
    },
    {
     "name": "stdout",
     "output_type": "stream",
     "text": [
      "15 _ OB Done.\n",
      "161_IB\n",
      "Starting 161\n",
      "Data range is:  180\n",
      "Features Index(['temp', 'feels_like', 'humidity', 'wind_speed', 'rain_1h', 'clouds_all',\n",
      "       'weather_main', 'Weekday', 'Hour', 'Month', 'TimeOfDay', 'Seasons',\n",
      "       'RushHour'],\n",
      "      dtype='object')\n",
      "Fitting 3 folds for each of 288 candidates, totalling 864 fits\n"
     ]
    },
    {
     "name": "stderr",
     "output_type": "stream",
     "text": [
      "[Parallel(n_jobs=-1)]: Using backend LokyBackend with 8 concurrent workers.\n",
      "[Parallel(n_jobs=-1)]: Done  25 tasks      | elapsed:    2.6s\n",
      "[Parallel(n_jobs=-1)]: Done 146 tasks      | elapsed:   17.1s\n",
      "[Parallel(n_jobs=-1)]: Done 349 tasks      | elapsed:   41.7s\n",
      "[Parallel(n_jobs=-1)]: Done 632 tasks      | elapsed:  1.3min\n",
      "[Parallel(n_jobs=-1)]: Done 864 out of 864 | elapsed:  1.7min finished\n"
     ]
    },
    {
     "name": "stdout",
     "output_type": "stream",
     "text": [
      "161 _ IB Done.\n",
      "161_OB\n",
      "Starting 161\n",
      "Data range is:  91\n",
      "Features Index(['temp', 'feels_like', 'humidity', 'wind_speed', 'rain_1h', 'clouds_all',\n",
      "       'weather_main', 'Weekday', 'Hour', 'Month', 'TimeOfDay', 'Seasons',\n",
      "       'RushHour'],\n",
      "      dtype='object')\n",
      "Fitting 3 folds for each of 288 candidates, totalling 864 fits\n"
     ]
    },
    {
     "name": "stderr",
     "output_type": "stream",
     "text": [
      "[Parallel(n_jobs=-1)]: Using backend LokyBackend with 8 concurrent workers.\n",
      "[Parallel(n_jobs=-1)]: Done  25 tasks      | elapsed:    2.6s\n",
      "[Parallel(n_jobs=-1)]: Done 146 tasks      | elapsed:   16.9s\n",
      "[Parallel(n_jobs=-1)]: Done 349 tasks      | elapsed:   40.8s\n",
      "[Parallel(n_jobs=-1)]: Done 632 tasks      | elapsed:  1.2min\n",
      "[Parallel(n_jobs=-1)]: Done 864 out of 864 | elapsed:  1.7min finished\n"
     ]
    },
    {
     "name": "stdout",
     "output_type": "stream",
     "text": [
      "161 _ OB Done.\n",
      "16C_IB\n",
      "Starting 16C\n",
      "Data range is:  286\n",
      "Features Index(['temp', 'feels_like', 'humidity', 'wind_speed', 'rain_1h', 'clouds_all',\n",
      "       'weather_main', 'Weekday', 'Hour', 'Month', 'TimeOfDay', 'Seasons',\n",
      "       'RushHour'],\n",
      "      dtype='object')\n",
      "Fitting 3 folds for each of 288 candidates, totalling 864 fits\n"
     ]
    },
    {
     "name": "stderr",
     "output_type": "stream",
     "text": [
      "[Parallel(n_jobs=-1)]: Using backend LokyBackend with 8 concurrent workers.\n",
      "[Parallel(n_jobs=-1)]: Done  25 tasks      | elapsed:    2.8s\n",
      "[Parallel(n_jobs=-1)]: Done 146 tasks      | elapsed:   17.5s\n",
      "[Parallel(n_jobs=-1)]: Done 349 tasks      | elapsed:   42.3s\n",
      "[Parallel(n_jobs=-1)]: Done 632 tasks      | elapsed:  1.3min\n",
      "[Parallel(n_jobs=-1)]: Done 864 out of 864 | elapsed:  1.8min finished\n"
     ]
    },
    {
     "name": "stdout",
     "output_type": "stream",
     "text": [
      "16C _ IB Done.\n",
      "16C_OB\n",
      "Starting 16C\n",
      "Data range is:  495\n",
      "Features Index(['temp', 'feels_like', 'humidity', 'wind_speed', 'rain_1h', 'clouds_all',\n",
      "       'weather_main', 'Weekday', 'Hour', 'Month', 'TimeOfDay', 'Seasons',\n",
      "       'RushHour'],\n",
      "      dtype='object')\n",
      "Fitting 3 folds for each of 288 candidates, totalling 864 fits\n"
     ]
    },
    {
     "name": "stderr",
     "output_type": "stream",
     "text": [
      "[Parallel(n_jobs=-1)]: Using backend LokyBackend with 8 concurrent workers.\n",
      "[Parallel(n_jobs=-1)]: Done  25 tasks      | elapsed:    2.7s\n",
      "[Parallel(n_jobs=-1)]: Done 146 tasks      | elapsed:   17.9s\n",
      "[Parallel(n_jobs=-1)]: Done 349 tasks      | elapsed:   43.5s\n",
      "[Parallel(n_jobs=-1)]: Done 632 tasks      | elapsed:  1.3min\n",
      "[Parallel(n_jobs=-1)]: Done 864 out of 864 | elapsed:  1.8min finished\n"
     ]
    },
    {
     "name": "stdout",
     "output_type": "stream",
     "text": [
      "16C _ OB Done.\n",
      "16D_OB\n",
      "Starting 16D\n",
      "Data range is:  76\n",
      "Features Index(['temp', 'feels_like', 'humidity', 'wind_speed', 'rain_1h', 'clouds_all',\n",
      "       'weather_main', 'Weekday', 'Hour', 'Month', 'TimeOfDay', 'Seasons',\n",
      "       'RushHour'],\n",
      "      dtype='object')\n",
      "Fitting 3 folds for each of 288 candidates, totalling 864 fits\n"
     ]
    },
    {
     "name": "stderr",
     "output_type": "stream",
     "text": [
      "[Parallel(n_jobs=-1)]: Using backend LokyBackend with 8 concurrent workers.\n",
      "[Parallel(n_jobs=-1)]: Done  25 tasks      | elapsed:    2.5s\n",
      "[Parallel(n_jobs=-1)]: Done 146 tasks      | elapsed:   16.7s\n",
      "[Parallel(n_jobs=-1)]: Done 349 tasks      | elapsed:   40.5s\n",
      "[Parallel(n_jobs=-1)]: Done 632 tasks      | elapsed:  1.2min\n",
      "[Parallel(n_jobs=-1)]: Done 864 out of 864 | elapsed:  1.7min finished\n"
     ]
    },
    {
     "name": "stdout",
     "output_type": "stream",
     "text": [
      "16D _ OB Done.\n",
      "16_IB\n",
      "Starting 16\n",
      "Data range is:  15185\n",
      "Features Index(['temp', 'feels_like', 'humidity', 'wind_speed', 'rain_1h', 'clouds_all',\n",
      "       'weather_main', 'Weekday', 'Hour', 'Month', 'TimeOfDay', 'Seasons',\n",
      "       'RushHour'],\n",
      "      dtype='object')\n",
      "Fitting 3 folds for each of 288 candidates, totalling 864 fits\n"
     ]
    },
    {
     "name": "stderr",
     "output_type": "stream",
     "text": [
      "[Parallel(n_jobs=-1)]: Using backend LokyBackend with 8 concurrent workers.\n",
      "[Parallel(n_jobs=-1)]: Done  25 tasks      | elapsed:   12.0s\n",
      "[Parallel(n_jobs=-1)]: Done 146 tasks      | elapsed:  1.3min\n",
      "[Parallel(n_jobs=-1)]: Done 349 tasks      | elapsed: 17.3min\n",
      "[Parallel(n_jobs=-1)]: Done 632 tasks      | elapsed: 19.9min\n",
      "[Parallel(n_jobs=-1)]: Done 864 out of 864 | elapsed: 22.2min finished\n"
     ]
    },
    {
     "name": "stdout",
     "output_type": "stream",
     "text": [
      "16 _ IB Done.\n",
      "16_OB\n",
      "Starting 16\n",
      "Data range is:  19167\n",
      "Features Index(['temp', 'feels_like', 'humidity', 'wind_speed', 'rain_1h', 'clouds_all',\n",
      "       'weather_main', 'Weekday', 'Hour', 'Month', 'TimeOfDay', 'Seasons',\n",
      "       'RushHour'],\n",
      "      dtype='object')\n",
      "Fitting 3 folds for each of 288 candidates, totalling 864 fits\n"
     ]
    },
    {
     "name": "stderr",
     "output_type": "stream",
     "text": [
      "[Parallel(n_jobs=-1)]: Using backend LokyBackend with 8 concurrent workers.\n",
      "[Parallel(n_jobs=-1)]: Done  25 tasks      | elapsed:   14.1s\n",
      "[Parallel(n_jobs=-1)]: Done 146 tasks      | elapsed:  1.7min\n",
      "[Parallel(n_jobs=-1)]: Done 349 tasks      | elapsed:  4.1min\n",
      "[Parallel(n_jobs=-1)]: Done 632 tasks      | elapsed:  7.5min\n",
      "[Parallel(n_jobs=-1)]: Done 864 out of 864 | elapsed: 11.7min finished\n"
     ]
    },
    {
     "name": "stdout",
     "output_type": "stream",
     "text": [
      "16 _ OB Done.\n",
      "17A_IB\n",
      "Starting 17A\n",
      "Data range is:  8796\n",
      "Features Index(['temp', 'feels_like', 'humidity', 'wind_speed', 'rain_1h', 'clouds_all',\n",
      "       'weather_main', 'Weekday', 'Hour', 'Month', 'TimeOfDay', 'Seasons',\n",
      "       'RushHour'],\n",
      "      dtype='object')\n",
      "Fitting 3 folds for each of 288 candidates, totalling 864 fits\n"
     ]
    },
    {
     "name": "stderr",
     "output_type": "stream",
     "text": [
      "[Parallel(n_jobs=-1)]: Using backend LokyBackend with 8 concurrent workers.\n",
      "[Parallel(n_jobs=-1)]: Done  25 tasks      | elapsed:   55.4s\n",
      "[Parallel(n_jobs=-1)]: Done 146 tasks      | elapsed:  3.4min\n",
      "[Parallel(n_jobs=-1)]: Done 349 tasks      | elapsed:  7.4min\n",
      "[Parallel(n_jobs=-1)]: Done 632 tasks      | elapsed: 13.3min\n",
      "[Parallel(n_jobs=-1)]: Done 864 out of 864 | elapsed: 18.0min finished\n"
     ]
    },
    {
     "name": "stdout",
     "output_type": "stream",
     "text": [
      "17A _ IB Done.\n",
      "17A_OB\n",
      "Starting 17A\n",
      "Data range is:  9379\n",
      "Features Index(['temp', 'feels_like', 'humidity', 'wind_speed', 'rain_1h', 'clouds_all',\n",
      "       'weather_main', 'Weekday', 'Hour', 'Month', 'TimeOfDay', 'Seasons',\n",
      "       'RushHour'],\n",
      "      dtype='object')\n",
      "Fitting 3 folds for each of 288 candidates, totalling 864 fits\n"
     ]
    },
    {
     "name": "stderr",
     "output_type": "stream",
     "text": [
      "[Parallel(n_jobs=-1)]: Using backend LokyBackend with 8 concurrent workers.\n",
      "[Parallel(n_jobs=-1)]: Done  25 tasks      | elapsed:   25.5s\n",
      "[Parallel(n_jobs=-1)]: Done 146 tasks      | elapsed:  2.7min\n",
      "[Parallel(n_jobs=-1)]: Done 349 tasks      | elapsed:  6.7min\n",
      "[Parallel(n_jobs=-1)]: Done 632 tasks      | elapsed: 86.2min\n",
      "[Parallel(n_jobs=-1)]: Done 864 out of 864 | elapsed: 90.0min finished\n"
     ]
    },
    {
     "name": "stdout",
     "output_type": "stream",
     "text": [
      "17A _ OB Done.\n",
      "17_IB\n",
      "Starting 17\n",
      "Data range is:  7107\n",
      "Features Index(['temp', 'feels_like', 'humidity', 'wind_speed', 'rain_1h', 'clouds_all',\n",
      "       'weather_main', 'Weekday', 'Hour', 'Month', 'TimeOfDay', 'Seasons',\n",
      "       'RushHour'],\n",
      "      dtype='object')\n",
      "Fitting 3 folds for each of 288 candidates, totalling 864 fits\n"
     ]
    },
    {
     "name": "stderr",
     "output_type": "stream",
     "text": [
      "[Parallel(n_jobs=-1)]: Using backend LokyBackend with 8 concurrent workers.\n",
      "[Parallel(n_jobs=-1)]: Done  25 tasks      | elapsed:    8.6s\n",
      "[Parallel(n_jobs=-1)]: Done 146 tasks      | elapsed:   47.9s\n",
      "[Parallel(n_jobs=-1)]: Done 349 tasks      | elapsed:  1.9min\n",
      "[Parallel(n_jobs=-1)]: Done 632 tasks      | elapsed:  3.4min\n",
      "[Parallel(n_jobs=-1)]: Done 864 out of 864 | elapsed:  4.7min finished\n"
     ]
    },
    {
     "name": "stdout",
     "output_type": "stream",
     "text": [
      "17 _ IB Done.\n",
      "17_OB\n",
      "Starting 17\n",
      "Data range is:  6896\n",
      "Features Index(['temp', 'feels_like', 'humidity', 'wind_speed', 'rain_1h', 'clouds_all',\n",
      "       'weather_main', 'Weekday', 'Hour', 'Month', 'TimeOfDay', 'Seasons',\n",
      "       'RushHour'],\n",
      "      dtype='object')\n",
      "Fitting 3 folds for each of 288 candidates, totalling 864 fits\n"
     ]
    },
    {
     "name": "stderr",
     "output_type": "stream",
     "text": [
      "[Parallel(n_jobs=-1)]: Using backend LokyBackend with 8 concurrent workers.\n",
      "[Parallel(n_jobs=-1)]: Done  25 tasks      | elapsed:    5.9s\n",
      "[Parallel(n_jobs=-1)]: Done 146 tasks      | elapsed:   40.4s\n",
      "[Parallel(n_jobs=-1)]: Done 349 tasks      | elapsed:  1.7min\n",
      "[Parallel(n_jobs=-1)]: Done 632 tasks      | elapsed:  3.2min\n",
      "[Parallel(n_jobs=-1)]: Done 864 out of 864 | elapsed:  4.4min finished\n"
     ]
    },
    {
     "name": "stdout",
     "output_type": "stream",
     "text": [
      "17 _ OB Done.\n",
      "184_IB\n",
      "Starting 184\n",
      "Data range is:  7150\n",
      "Features Index(['temp', 'feels_like', 'humidity', 'wind_speed', 'rain_1h', 'clouds_all',\n",
      "       'weather_main', 'Weekday', 'Hour', 'Month', 'TimeOfDay', 'Seasons',\n",
      "       'RushHour'],\n",
      "      dtype='object')\n",
      "Fitting 3 folds for each of 288 candidates, totalling 864 fits\n"
     ]
    },
    {
     "name": "stderr",
     "output_type": "stream",
     "text": [
      "[Parallel(n_jobs=-1)]: Using backend LokyBackend with 8 concurrent workers.\n",
      "[Parallel(n_jobs=-1)]: Done  25 tasks      | elapsed:    7.6s\n",
      "[Parallel(n_jobs=-1)]: Done 146 tasks      | elapsed:   45.4s\n",
      "[Parallel(n_jobs=-1)]: Done 349 tasks      | elapsed:  1.9min\n",
      "[Parallel(n_jobs=-1)]: Done 632 tasks      | elapsed:  3.4min\n",
      "[Parallel(n_jobs=-1)]: Done 864 out of 864 | elapsed:  4.7min finished\n"
     ]
    },
    {
     "name": "stdout",
     "output_type": "stream",
     "text": [
      "184 _ IB Done.\n",
      "184_OB\n",
      "Starting 184\n",
      "Data range is:  7415\n",
      "Features Index(['temp', 'feels_like', 'humidity', 'wind_speed', 'rain_1h', 'clouds_all',\n",
      "       'weather_main', 'Weekday', 'Hour', 'Month', 'TimeOfDay', 'Seasons',\n",
      "       'RushHour'],\n",
      "      dtype='object')\n",
      "Fitting 3 folds for each of 288 candidates, totalling 864 fits\n"
     ]
    },
    {
     "name": "stderr",
     "output_type": "stream",
     "text": [
      "[Parallel(n_jobs=-1)]: Using backend LokyBackend with 8 concurrent workers.\n",
      "[Parallel(n_jobs=-1)]: Done  25 tasks      | elapsed:    6.4s\n",
      "[Parallel(n_jobs=-1)]: Done 146 tasks      | elapsed:   42.1s\n",
      "[Parallel(n_jobs=-1)]: Done 349 tasks      | elapsed:  1.7min\n",
      "[Parallel(n_jobs=-1)]: Done 632 tasks      | elapsed:  3.2min\n",
      "[Parallel(n_jobs=-1)]: Done 864 out of 864 | elapsed:  4.4min finished\n"
     ]
    },
    {
     "name": "stdout",
     "output_type": "stream",
     "text": [
      "184 _ OB Done.\n",
      "185_IB\n",
      "Starting 185\n",
      "Data range is:  3373\n",
      "Features Index(['temp', 'feels_like', 'humidity', 'wind_speed', 'rain_1h', 'clouds_all',\n",
      "       'weather_main', 'Weekday', 'Hour', 'Month', 'TimeOfDay', 'Seasons',\n",
      "       'RushHour'],\n",
      "      dtype='object')\n",
      "Fitting 3 folds for each of 288 candidates, totalling 864 fits\n"
     ]
    },
    {
     "name": "stderr",
     "output_type": "stream",
     "text": [
      "[Parallel(n_jobs=-1)]: Using backend LokyBackend with 8 concurrent workers.\n",
      "[Parallel(n_jobs=-1)]: Done  25 tasks      | elapsed:    4.1s\n",
      "[Parallel(n_jobs=-1)]: Done 146 tasks      | elapsed:   26.5s\n",
      "[Parallel(n_jobs=-1)]: Done 349 tasks      | elapsed:  1.1min\n",
      "[Parallel(n_jobs=-1)]: Done 632 tasks      | elapsed:  2.0min\n",
      "[Parallel(n_jobs=-1)]: Done 864 out of 864 | elapsed:  2.7min finished\n"
     ]
    },
    {
     "name": "stdout",
     "output_type": "stream",
     "text": [
      "185 _ IB Done.\n",
      "185_OB\n",
      "Starting 185\n",
      "Data range is:  2001\n",
      "Features Index(['temp', 'feels_like', 'humidity', 'wind_speed', 'rain_1h', 'clouds_all',\n",
      "       'weather_main', 'Weekday', 'Hour', 'Month', 'TimeOfDay', 'Seasons',\n",
      "       'RushHour'],\n",
      "      dtype='object')\n",
      "Fitting 3 folds for each of 288 candidates, totalling 864 fits\n"
     ]
    },
    {
     "name": "stderr",
     "output_type": "stream",
     "text": [
      "[Parallel(n_jobs=-1)]: Using backend LokyBackend with 8 concurrent workers.\n",
      "[Parallel(n_jobs=-1)]: Done  25 tasks      | elapsed:    3.4s\n",
      "[Parallel(n_jobs=-1)]: Done 146 tasks      | elapsed:   21.7s\n",
      "[Parallel(n_jobs=-1)]: Done 349 tasks      | elapsed:   53.1s\n",
      "[Parallel(n_jobs=-1)]: Done 632 tasks      | elapsed:  1.6min\n",
      "[Parallel(n_jobs=-1)]: Done 864 out of 864 | elapsed:  2.2min finished\n"
     ]
    },
    {
     "name": "stdout",
     "output_type": "stream",
     "text": [
      "185 _ OB Done.\n",
      "18_IB\n",
      "Starting 18\n",
      "Data range is:  10352\n",
      "Features Index(['temp', 'feels_like', 'humidity', 'wind_speed', 'rain_1h', 'clouds_all',\n",
      "       'weather_main', 'Weekday', 'Hour', 'Month', 'TimeOfDay', 'Seasons',\n",
      "       'RushHour'],\n",
      "      dtype='object')\n",
      "Fitting 3 folds for each of 288 candidates, totalling 864 fits\n"
     ]
    },
    {
     "name": "stderr",
     "output_type": "stream",
     "text": [
      "[Parallel(n_jobs=-1)]: Using backend LokyBackend with 8 concurrent workers.\n",
      "[Parallel(n_jobs=-1)]: Done  25 tasks      | elapsed:    7.7s\n",
      "[Parallel(n_jobs=-1)]: Done 146 tasks      | elapsed:   52.3s\n",
      "[Parallel(n_jobs=-1)]: Done 349 tasks      | elapsed:  2.2min\n",
      "[Parallel(n_jobs=-1)]: Done 632 tasks      | elapsed: 98.2min\n",
      "[Parallel(n_jobs=-1)]: Done 864 out of 864 | elapsed: 99.8min finished\n"
     ]
    },
    {
     "name": "stdout",
     "output_type": "stream",
     "text": [
      "18 _ IB Done.\n",
      "18_OB\n",
      "Starting 18\n",
      "Data range is:  8122\n",
      "Features Index(['temp', 'feels_like', 'humidity', 'wind_speed', 'rain_1h', 'clouds_all',\n",
      "       'weather_main', 'Weekday', 'Hour', 'Month', 'TimeOfDay', 'Seasons',\n",
      "       'RushHour'],\n",
      "      dtype='object')\n",
      "Fitting 3 folds for each of 288 candidates, totalling 864 fits\n"
     ]
    },
    {
     "name": "stderr",
     "output_type": "stream",
     "text": [
      "[Parallel(n_jobs=-1)]: Using backend LokyBackend with 8 concurrent workers.\n",
      "[Parallel(n_jobs=-1)]: Done  25 tasks      | elapsed:    6.3s\n",
      "[Parallel(n_jobs=-1)]: Done 146 tasks      | elapsed:   41.6s\n",
      "[Parallel(n_jobs=-1)]: Done 349 tasks      | elapsed:  1.7min\n",
      "[Parallel(n_jobs=-1)]: Done 632 tasks      | elapsed:  3.3min\n",
      "[Parallel(n_jobs=-1)]: Done 864 out of 864 | elapsed:  4.5min finished\n"
     ]
    },
    {
     "name": "stdout",
     "output_type": "stream",
     "text": [
      "18 _ OB Done.\n",
      "1_IB\n",
      "Starting 1\n",
      "Data range is:  14582\n",
      "Features Index(['temp', 'feels_like', 'humidity', 'wind_speed', 'rain_1h', 'clouds_all',\n",
      "       'weather_main', 'Weekday', 'Hour', 'Month', 'TimeOfDay', 'Seasons',\n",
      "       'RushHour'],\n",
      "      dtype='object')\n",
      "Fitting 3 folds for each of 288 candidates, totalling 864 fits\n"
     ]
    },
    {
     "name": "stderr",
     "output_type": "stream",
     "text": [
      "[Parallel(n_jobs=-1)]: Using backend LokyBackend with 8 concurrent workers.\n",
      "[Parallel(n_jobs=-1)]: Done  25 tasks      | elapsed:   10.2s\n",
      "[Parallel(n_jobs=-1)]: Done 146 tasks      | elapsed:  1.1min\n",
      "[Parallel(n_jobs=-1)]: Done 349 tasks      | elapsed:  2.8min\n",
      "[Parallel(n_jobs=-1)]: Done 632 tasks      | elapsed:  5.3min\n",
      "[Parallel(n_jobs=-1)]: Done 864 out of 864 | elapsed:  7.3min finished\n"
     ]
    },
    {
     "name": "stdout",
     "output_type": "stream",
     "text": [
      "1 _ IB Done.\n",
      "1_OB\n",
      "Starting 1\n",
      "Data range is:  13765\n",
      "Features Index(['temp', 'feels_like', 'humidity', 'wind_speed', 'rain_1h', 'clouds_all',\n",
      "       'weather_main', 'Weekday', 'Hour', 'Month', 'TimeOfDay', 'Seasons',\n",
      "       'RushHour'],\n",
      "      dtype='object')\n",
      "Fitting 3 folds for each of 288 candidates, totalling 864 fits\n"
     ]
    },
    {
     "name": "stderr",
     "output_type": "stream",
     "text": [
      "[Parallel(n_jobs=-1)]: Using backend LokyBackend with 8 concurrent workers.\n",
      "[Parallel(n_jobs=-1)]: Done  25 tasks      | elapsed:   11.7s\n",
      "[Parallel(n_jobs=-1)]: Done 146 tasks      | elapsed:  1.2min\n",
      "[Parallel(n_jobs=-1)]: Done 349 tasks      | elapsed:  2.8min\n",
      "[Parallel(n_jobs=-1)]: Done 632 tasks      | elapsed:  5.2min\n",
      "[Parallel(n_jobs=-1)]: Done 864 out of 864 | elapsed:  7.6min finished\n"
     ]
    },
    {
     "name": "stdout",
     "output_type": "stream",
     "text": [
      "1 _ OB Done.\n",
      "220_IB\n",
      "Starting 220\n",
      "Data range is:  2004\n",
      "Features Index(['temp', 'feels_like', 'humidity', 'wind_speed', 'rain_1h', 'clouds_all',\n",
      "       'weather_main', 'Weekday', 'Hour', 'Month', 'TimeOfDay', 'Seasons',\n",
      "       'RushHour'],\n",
      "      dtype='object')\n",
      "Fitting 3 folds for each of 288 candidates, totalling 864 fits\n"
     ]
    },
    {
     "name": "stderr",
     "output_type": "stream",
     "text": [
      "[Parallel(n_jobs=-1)]: Using backend LokyBackend with 8 concurrent workers.\n",
      "[Parallel(n_jobs=-1)]: Done  25 tasks      | elapsed:    4.0s\n",
      "[Parallel(n_jobs=-1)]: Done 146 tasks      | elapsed:   26.4s\n",
      "[Parallel(n_jobs=-1)]: Done 349 tasks      | elapsed:  1.1min\n",
      "[Parallel(n_jobs=-1)]: Done 632 tasks      | elapsed:  2.0min\n",
      "[Parallel(n_jobs=-1)]: Done 864 out of 864 | elapsed:  2.7min finished\n"
     ]
    },
    {
     "name": "stdout",
     "output_type": "stream",
     "text": [
      "220 _ IB Done.\n",
      "220_OB\n",
      "Starting 220\n",
      "Data range is:  1776\n",
      "Features Index(['temp', 'feels_like', 'humidity', 'wind_speed', 'rain_1h', 'clouds_all',\n",
      "       'weather_main', 'Weekday', 'Hour', 'Month', 'TimeOfDay', 'Seasons',\n",
      "       'RushHour'],\n",
      "      dtype='object')\n",
      "Fitting 3 folds for each of 288 candidates, totalling 864 fits\n"
     ]
    },
    {
     "name": "stderr",
     "output_type": "stream",
     "text": [
      "[Parallel(n_jobs=-1)]: Using backend LokyBackend with 8 concurrent workers.\n",
      "[Parallel(n_jobs=-1)]: Done  25 tasks      | elapsed:    3.9s\n",
      "[Parallel(n_jobs=-1)]: Done 146 tasks      | elapsed:   25.6s\n",
      "[Parallel(n_jobs=-1)]: Done 349 tasks      | elapsed:  1.0min\n",
      "[Parallel(n_jobs=-1)]: Done 632 tasks      | elapsed:  1.9min\n",
      "[Parallel(n_jobs=-1)]: Done 864 out of 864 | elapsed:  2.6min finished\n"
     ]
    },
    {
     "name": "stdout",
     "output_type": "stream",
     "text": [
      "220 _ OB Done.\n",
      "236_IB\n",
      "Starting 236\n",
      "Data range is:  463\n",
      "Features Index(['temp', 'feels_like', 'humidity', 'wind_speed', 'rain_1h', 'clouds_all',\n",
      "       'weather_main', 'Weekday', 'Hour', 'Month', 'TimeOfDay', 'Seasons',\n",
      "       'RushHour'],\n",
      "      dtype='object')\n",
      "Fitting 3 folds for each of 288 candidates, totalling 864 fits\n"
     ]
    },
    {
     "name": "stderr",
     "output_type": "stream",
     "text": [
      "[Parallel(n_jobs=-1)]: Using backend LokyBackend with 8 concurrent workers.\n",
      "[Parallel(n_jobs=-1)]: Done  25 tasks      | elapsed:    3.2s\n",
      "[Parallel(n_jobs=-1)]: Done 146 tasks      | elapsed:   20.4s\n",
      "[Parallel(n_jobs=-1)]: Done 349 tasks      | elapsed:   50.2s\n",
      "[Parallel(n_jobs=-1)]: Done 632 tasks      | elapsed:  1.6min\n",
      "[Parallel(n_jobs=-1)]: Done 864 out of 864 | elapsed:  2.2min finished\n"
     ]
    },
    {
     "name": "stdout",
     "output_type": "stream",
     "text": [
      "236 _ IB Done.\n",
      "236_OB\n",
      "Starting 236\n",
      "Data range is:  622\n",
      "Features Index(['temp', 'feels_like', 'humidity', 'wind_speed', 'rain_1h', 'clouds_all',\n",
      "       'weather_main', 'Weekday', 'Hour', 'Month', 'TimeOfDay', 'Seasons',\n",
      "       'RushHour'],\n",
      "      dtype='object')\n",
      "Fitting 3 folds for each of 288 candidates, totalling 864 fits\n"
     ]
    },
    {
     "name": "stderr",
     "output_type": "stream",
     "text": [
      "[Parallel(n_jobs=-1)]: Using backend LokyBackend with 8 concurrent workers.\n",
      "[Parallel(n_jobs=-1)]: Done  25 tasks      | elapsed:    3.3s\n",
      "[Parallel(n_jobs=-1)]: Done 146 tasks      | elapsed:   21.5s\n",
      "[Parallel(n_jobs=-1)]: Done 349 tasks      | elapsed:   52.1s\n",
      "[Parallel(n_jobs=-1)]: Done 632 tasks      | elapsed:  1.6min\n",
      "[Parallel(n_jobs=-1)]: Done 864 out of 864 | elapsed:  2.3min finished\n"
     ]
    },
    {
     "name": "stdout",
     "output_type": "stream",
     "text": [
      "236 _ OB Done.\n",
      "238_IB\n",
      "Starting 238\n",
      "Data range is:  3882\n",
      "Features Index(['temp', 'feels_like', 'humidity', 'wind_speed', 'rain_1h', 'clouds_all',\n",
      "       'weather_main', 'Weekday', 'Hour', 'Month', 'TimeOfDay', 'Seasons',\n",
      "       'RushHour'],\n",
      "      dtype='object')\n",
      "Fitting 3 folds for each of 288 candidates, totalling 864 fits\n"
     ]
    },
    {
     "name": "stderr",
     "output_type": "stream",
     "text": [
      "[Parallel(n_jobs=-1)]: Using backend LokyBackend with 8 concurrent workers.\n",
      "[Parallel(n_jobs=-1)]: Done  25 tasks      | elapsed:    5.2s\n",
      "[Parallel(n_jobs=-1)]: Done 146 tasks      | elapsed:   34.2s\n",
      "[Parallel(n_jobs=-1)]: Done 349 tasks      | elapsed:  1.4min\n",
      "[Parallel(n_jobs=-1)]: Done 632 tasks      | elapsed:  2.7min\n",
      "[Parallel(n_jobs=-1)]: Done 864 out of 864 | elapsed:  3.7min finished\n"
     ]
    },
    {
     "name": "stdout",
     "output_type": "stream",
     "text": [
      "238 _ IB Done.\n",
      "238_OB\n",
      "Starting 238\n",
      "Data range is:  4144\n",
      "Features Index(['temp', 'feels_like', 'humidity', 'wind_speed', 'rain_1h', 'clouds_all',\n",
      "       'weather_main', 'Weekday', 'Hour', 'Month', 'TimeOfDay', 'Seasons',\n",
      "       'RushHour'],\n",
      "      dtype='object')\n",
      "Fitting 3 folds for each of 288 candidates, totalling 864 fits\n"
     ]
    },
    {
     "name": "stderr",
     "output_type": "stream",
     "text": [
      "[Parallel(n_jobs=-1)]: Using backend LokyBackend with 8 concurrent workers.\n",
      "[Parallel(n_jobs=-1)]: Done  25 tasks      | elapsed:    5.5s\n",
      "[Parallel(n_jobs=-1)]: Done 146 tasks      | elapsed:   36.2s\n",
      "[Parallel(n_jobs=-1)]: Done 349 tasks      | elapsed:  1.5min\n",
      "[Parallel(n_jobs=-1)]: Done 632 tasks      | elapsed:  2.8min\n",
      "[Parallel(n_jobs=-1)]: Done 864 out of 864 | elapsed:  3.8min finished\n"
     ]
    },
    {
     "name": "stdout",
     "output_type": "stream",
     "text": [
      "238 _ OB Done.\n",
      "239_IB\n",
      "Starting 239\n",
      "Data range is:  3254\n",
      "Features Index(['temp', 'feels_like', 'humidity', 'wind_speed', 'rain_1h', 'clouds_all',\n",
      "       'weather_main', 'Weekday', 'Hour', 'Month', 'TimeOfDay', 'Seasons',\n",
      "       'RushHour'],\n",
      "      dtype='object')\n",
      "Fitting 3 folds for each of 288 candidates, totalling 864 fits\n"
     ]
    },
    {
     "name": "stderr",
     "output_type": "stream",
     "text": [
      "[Parallel(n_jobs=-1)]: Using backend LokyBackend with 8 concurrent workers.\n",
      "[Parallel(n_jobs=-1)]: Done  25 tasks      | elapsed:    5.2s\n",
      "[Parallel(n_jobs=-1)]: Done 146 tasks      | elapsed:   33.8s\n",
      "[Parallel(n_jobs=-1)]: Done 349 tasks      | elapsed:  1.4min\n",
      "[Parallel(n_jobs=-1)]: Done 632 tasks      | elapsed:  2.6min\n",
      "[Parallel(n_jobs=-1)]: Done 864 out of 864 | elapsed:  3.7min finished\n"
     ]
    },
    {
     "name": "stdout",
     "output_type": "stream",
     "text": [
      "239 _ IB Done.\n",
      "239_OB\n",
      "Starting 239\n",
      "Data range is:  2939\n",
      "Features Index(['temp', 'feels_like', 'humidity', 'wind_speed', 'rain_1h', 'clouds_all',\n",
      "       'weather_main', 'Weekday', 'Hour', 'Month', 'TimeOfDay', 'Seasons',\n",
      "       'RushHour'],\n",
      "      dtype='object')\n",
      "Fitting 3 folds for each of 288 candidates, totalling 864 fits\n"
     ]
    },
    {
     "name": "stderr",
     "output_type": "stream",
     "text": [
      "[Parallel(n_jobs=-1)]: Using backend LokyBackend with 8 concurrent workers.\n",
      "[Parallel(n_jobs=-1)]: Done  25 tasks      | elapsed:    5.1s\n",
      "[Parallel(n_jobs=-1)]: Done 146 tasks      | elapsed:   34.3s\n",
      "[Parallel(n_jobs=-1)]: Done 349 tasks      | elapsed:  1.4min\n",
      "[Parallel(n_jobs=-1)]: Done 632 tasks      | elapsed:  2.5min\n",
      "[Parallel(n_jobs=-1)]: Done 864 out of 864 | elapsed:  3.5min finished\n"
     ]
    },
    {
     "name": "stdout",
     "output_type": "stream",
     "text": [
      "239 _ OB Done.\n",
      "25A_IB\n",
      "Starting 25A\n",
      "Data range is:  13582\n",
      "Features Index(['temp', 'feels_like', 'humidity', 'wind_speed', 'rain_1h', 'clouds_all',\n",
      "       'weather_main', 'Weekday', 'Hour', 'Month', 'TimeOfDay', 'Seasons',\n",
      "       'RushHour'],\n",
      "      dtype='object')\n",
      "Fitting 3 folds for each of 288 candidates, totalling 864 fits\n"
     ]
    },
    {
     "name": "stderr",
     "output_type": "stream",
     "text": [
      "[Parallel(n_jobs=-1)]: Using backend LokyBackend with 8 concurrent workers.\n",
      "[Parallel(n_jobs=-1)]: Done  25 tasks      | elapsed:   13.2s\n",
      "[Parallel(n_jobs=-1)]: Done 146 tasks      | elapsed:  1.6min\n",
      "[Parallel(n_jobs=-1)]: Done 349 tasks      | elapsed:  3.8min\n",
      "[Parallel(n_jobs=-1)]: Done 632 tasks      | elapsed:  6.9min\n",
      "[Parallel(n_jobs=-1)]: Done 864 out of 864 | elapsed:  9.4min finished\n"
     ]
    },
    {
     "name": "stdout",
     "output_type": "stream",
     "text": [
      "25A _ IB Done.\n",
      "25A_OB\n",
      "Starting 25A\n",
      "Data range is:  13318\n",
      "Features Index(['temp', 'feels_like', 'humidity', 'wind_speed', 'rain_1h', 'clouds_all',\n",
      "       'weather_main', 'Weekday', 'Hour', 'Month', 'TimeOfDay', 'Seasons',\n",
      "       'RushHour'],\n",
      "      dtype='object')\n",
      "Fitting 3 folds for each of 288 candidates, totalling 864 fits\n"
     ]
    },
    {
     "name": "stderr",
     "output_type": "stream",
     "text": [
      "[Parallel(n_jobs=-1)]: Using backend LokyBackend with 8 concurrent workers.\n",
      "[Parallel(n_jobs=-1)]: Done  25 tasks      | elapsed:   12.1s\n",
      "[Parallel(n_jobs=-1)]: Done 146 tasks      | elapsed:  1.3min\n",
      "[Parallel(n_jobs=-1)]: Done 349 tasks      | elapsed:  3.3min\n",
      "[Parallel(n_jobs=-1)]: Done 632 tasks      | elapsed:  6.1min\n",
      "[Parallel(n_jobs=-1)]: Done 864 out of 864 | elapsed:  8.6min finished\n"
     ]
    },
    {
     "name": "stdout",
     "output_type": "stream",
     "text": [
      "25A _ OB Done.\n",
      "25B_IB\n",
      "Starting 25B\n",
      "Data range is:  11019\n",
      "Features Index(['temp', 'feels_like', 'humidity', 'wind_speed', 'rain_1h', 'clouds_all',\n",
      "       'weather_main', 'Weekday', 'Hour', 'Month', 'TimeOfDay', 'Seasons',\n",
      "       'RushHour'],\n",
      "      dtype='object')\n",
      "Fitting 3 folds for each of 288 candidates, totalling 864 fits\n"
     ]
    },
    {
     "name": "stderr",
     "output_type": "stream",
     "text": [
      "[Parallel(n_jobs=-1)]: Using backend LokyBackend with 8 concurrent workers.\n",
      "[Parallel(n_jobs=-1)]: Done  25 tasks      | elapsed:   11.5s\n",
      "[Parallel(n_jobs=-1)]: Done 146 tasks      | elapsed:  1.3min\n",
      "[Parallel(n_jobs=-1)]: Done 349 tasks      | elapsed:  3.1min\n",
      "[Parallel(n_jobs=-1)]: Done 632 tasks      | elapsed:  5.6min\n",
      "[Parallel(n_jobs=-1)]: Done 864 out of 864 | elapsed:  7.6min finished\n"
     ]
    },
    {
     "name": "stdout",
     "output_type": "stream",
     "text": [
      "25B _ IB Done.\n",
      "25B_OB\n",
      "Starting 25B\n",
      "Data range is:  12551\n",
      "Features Index(['temp', 'feels_like', 'humidity', 'wind_speed', 'rain_1h', 'clouds_all',\n",
      "       'weather_main', 'Weekday', 'Hour', 'Month', 'TimeOfDay', 'Seasons',\n",
      "       'RushHour'],\n",
      "      dtype='object')\n",
      "Fitting 3 folds for each of 288 candidates, totalling 864 fits\n"
     ]
    },
    {
     "name": "stderr",
     "output_type": "stream",
     "text": [
      "[Parallel(n_jobs=-1)]: Using backend LokyBackend with 8 concurrent workers.\n",
      "[Parallel(n_jobs=-1)]: Done  25 tasks      | elapsed:   12.1s\n",
      "[Parallel(n_jobs=-1)]: Done 146 tasks      | elapsed:  1.4min\n",
      "[Parallel(n_jobs=-1)]: Done 349 tasks      | elapsed:  3.3min\n",
      "[Parallel(n_jobs=-1)]: Done 632 tasks      | elapsed:  6.1min\n",
      "[Parallel(n_jobs=-1)]: Done 864 out of 864 | elapsed:  8.3min finished\n"
     ]
    },
    {
     "name": "stdout",
     "output_type": "stream",
     "text": [
      "25B _ OB Done.\n",
      "25D_IB\n",
      "Starting 25D\n",
      "Data range is:  549\n",
      "Features Index(['temp', 'feels_like', 'humidity', 'wind_speed', 'rain_1h', 'clouds_all',\n",
      "       'weather_main', 'Weekday', 'Hour', 'Month', 'TimeOfDay', 'Seasons',\n",
      "       'RushHour'],\n",
      "      dtype='object')\n",
      "Fitting 3 folds for each of 288 candidates, totalling 864 fits\n"
     ]
    },
    {
     "name": "stderr",
     "output_type": "stream",
     "text": [
      "[Parallel(n_jobs=-1)]: Using backend LokyBackend with 8 concurrent workers.\n",
      "[Parallel(n_jobs=-1)]: Done  25 tasks      | elapsed:    3.4s\n",
      "[Parallel(n_jobs=-1)]: Done 146 tasks      | elapsed:   20.7s\n",
      "[Parallel(n_jobs=-1)]: Done 349 tasks      | elapsed:   50.0s\n",
      "[Parallel(n_jobs=-1)]: Done 632 tasks      | elapsed:  1.5min\n",
      "[Parallel(n_jobs=-1)]: Done 864 out of 864 | elapsed:  2.1min finished\n"
     ]
    },
    {
     "name": "stdout",
     "output_type": "stream",
     "text": [
      "25D _ IB Done.\n",
      "25D_OB\n",
      "Starting 25D\n",
      "Data range is:  735\n",
      "Features Index(['temp', 'feels_like', 'humidity', 'wind_speed', 'rain_1h', 'clouds_all',\n",
      "       'weather_main', 'Weekday', 'Hour', 'Month', 'TimeOfDay', 'Seasons',\n",
      "       'RushHour'],\n",
      "      dtype='object')\n",
      "Fitting 3 folds for each of 288 candidates, totalling 864 fits\n"
     ]
    },
    {
     "name": "stderr",
     "output_type": "stream",
     "text": [
      "[Parallel(n_jobs=-1)]: Using backend LokyBackend with 8 concurrent workers.\n",
      "[Parallel(n_jobs=-1)]: Done  25 tasks      | elapsed:    3.3s\n",
      "[Parallel(n_jobs=-1)]: Done 146 tasks      | elapsed:   21.2s\n",
      "[Parallel(n_jobs=-1)]: Done 349 tasks      | elapsed:   52.7s\n",
      "[Parallel(n_jobs=-1)]: Done 632 tasks      | elapsed:  1.8min\n",
      "[Parallel(n_jobs=-1)]: Done 864 out of 864 | elapsed:  2.4min finished\n"
     ]
    },
    {
     "name": "stdout",
     "output_type": "stream",
     "text": [
      "25D _ OB Done.\n",
      "25X_IB\n",
      "Starting 25X\n",
      "Data range is:  146\n",
      "Features Index(['temp', 'feels_like', 'humidity', 'wind_speed', 'rain_1h', 'clouds_all',\n",
      "       'weather_main', 'Weekday', 'Hour', 'Month', 'TimeOfDay', 'Seasons',\n",
      "       'RushHour'],\n",
      "      dtype='object')\n",
      "Fitting 3 folds for each of 288 candidates, totalling 864 fits\n"
     ]
    },
    {
     "name": "stderr",
     "output_type": "stream",
     "text": [
      "[Parallel(n_jobs=-1)]: Using backend LokyBackend with 8 concurrent workers.\n",
      "[Parallel(n_jobs=-1)]: Done  25 tasks      | elapsed:    3.3s\n",
      "[Parallel(n_jobs=-1)]: Done 146 tasks      | elapsed:   21.1s\n",
      "[Parallel(n_jobs=-1)]: Done 349 tasks      | elapsed:   49.5s\n",
      "[Parallel(n_jobs=-1)]: Done 632 tasks      | elapsed:  1.5min\n",
      "[Parallel(n_jobs=-1)]: Done 864 out of 864 | elapsed:  2.1min finished\n"
     ]
    },
    {
     "name": "stdout",
     "output_type": "stream",
     "text": [
      "25X _ IB Done.\n",
      "25X_OB\n",
      "Starting 25X\n",
      "Data range is:  325\n",
      "Features Index(['temp', 'feels_like', 'humidity', 'wind_speed', 'rain_1h', 'clouds_all',\n",
      "       'weather_main', 'Weekday', 'Hour', 'Month', 'TimeOfDay', 'Seasons',\n",
      "       'RushHour'],\n",
      "      dtype='object')\n",
      "Fitting 3 folds for each of 288 candidates, totalling 864 fits\n"
     ]
    },
    {
     "name": "stderr",
     "output_type": "stream",
     "text": [
      "[Parallel(n_jobs=-1)]: Using backend LokyBackend with 8 concurrent workers.\n",
      "[Parallel(n_jobs=-1)]: Done  25 tasks      | elapsed:    3.0s\n",
      "[Parallel(n_jobs=-1)]: Done 146 tasks      | elapsed:   21.7s\n",
      "[Parallel(n_jobs=-1)]: Done 349 tasks      | elapsed:   51.6s\n",
      "[Parallel(n_jobs=-1)]: Done 632 tasks      | elapsed:  1.5min\n",
      "[Parallel(n_jobs=-1)]: Done 864 out of 864 | elapsed:  2.1min finished\n"
     ]
    },
    {
     "name": "stdout",
     "output_type": "stream",
     "text": [
      "25X _ OB Done.\n",
      "25_IB\n",
      "Starting 25\n",
      "Data range is:  4258\n",
      "Features Index(['temp', 'feels_like', 'humidity', 'wind_speed', 'rain_1h', 'clouds_all',\n",
      "       'weather_main', 'Weekday', 'Hour', 'Month', 'TimeOfDay', 'Seasons',\n",
      "       'RushHour'],\n",
      "      dtype='object')\n",
      "Fitting 3 folds for each of 288 candidates, totalling 864 fits\n"
     ]
    },
    {
     "name": "stderr",
     "output_type": "stream",
     "text": [
      "[Parallel(n_jobs=-1)]: Using backend LokyBackend with 8 concurrent workers.\n",
      "[Parallel(n_jobs=-1)]: Done  25 tasks      | elapsed:    5.4s\n",
      "[Parallel(n_jobs=-1)]: Done 146 tasks      | elapsed:   36.1s\n",
      "[Parallel(n_jobs=-1)]: Done 349 tasks      | elapsed:  1.5min\n",
      "[Parallel(n_jobs=-1)]: Done 632 tasks      | elapsed:  2.7min\n",
      "[Parallel(n_jobs=-1)]: Done 864 out of 864 | elapsed:  3.8min finished\n"
     ]
    },
    {
     "name": "stdout",
     "output_type": "stream",
     "text": [
      "25 _ IB Done.\n",
      "25_OB\n",
      "Starting 25\n",
      "Data range is:  4688\n",
      "Features Index(['temp', 'feels_like', 'humidity', 'wind_speed', 'rain_1h', 'clouds_all',\n",
      "       'weather_main', 'Weekday', 'Hour', 'Month', 'TimeOfDay', 'Seasons',\n",
      "       'RushHour'],\n",
      "      dtype='object')\n",
      "Fitting 3 folds for each of 288 candidates, totalling 864 fits\n"
     ]
    },
    {
     "name": "stderr",
     "output_type": "stream",
     "text": [
      "[Parallel(n_jobs=-1)]: Using backend LokyBackend with 8 concurrent workers.\n",
      "[Parallel(n_jobs=-1)]: Done  25 tasks      | elapsed:    5.8s\n",
      "[Parallel(n_jobs=-1)]: Done 146 tasks      | elapsed:   39.1s\n",
      "[Parallel(n_jobs=-1)]: Done 349 tasks      | elapsed:  1.6min\n",
      "[Parallel(n_jobs=-1)]: Done 632 tasks      | elapsed:  2.9min\n",
      "[Parallel(n_jobs=-1)]: Done 864 out of 864 | elapsed:  4.0min finished\n"
     ]
    },
    {
     "name": "stdout",
     "output_type": "stream",
     "text": [
      "25 _ OB Done.\n",
      "26_IB\n",
      "Starting 26\n",
      "Data range is:  3654\n",
      "Features Index(['temp', 'feels_like', 'humidity', 'wind_speed', 'rain_1h', 'clouds_all',\n",
      "       'weather_main', 'Weekday', 'Hour', 'Month', 'TimeOfDay', 'Seasons',\n",
      "       'RushHour'],\n",
      "      dtype='object')\n",
      "Fitting 3 folds for each of 288 candidates, totalling 864 fits\n"
     ]
    },
    {
     "name": "stderr",
     "output_type": "stream",
     "text": [
      "[Parallel(n_jobs=-1)]: Using backend LokyBackend with 8 concurrent workers.\n",
      "[Parallel(n_jobs=-1)]: Done  25 tasks      | elapsed:    3.8s\n",
      "[Parallel(n_jobs=-1)]: Done 146 tasks      | elapsed:   25.3s\n",
      "[Parallel(n_jobs=-1)]: Done 349 tasks      | elapsed:  1.0min\n",
      "[Parallel(n_jobs=-1)]: Done 632 tasks      | elapsed:  1.9min\n",
      "[Parallel(n_jobs=-1)]: Done 864 out of 864 | elapsed:  2.7min finished\n"
     ]
    },
    {
     "name": "stdout",
     "output_type": "stream",
     "text": [
      "26 _ IB Done.\n",
      "26_OB\n",
      "Starting 26\n",
      "Data range is:  4220\n",
      "Features Index(['temp', 'feels_like', 'humidity', 'wind_speed', 'rain_1h', 'clouds_all',\n",
      "       'weather_main', 'Weekday', 'Hour', 'Month', 'TimeOfDay', 'Seasons',\n",
      "       'RushHour'],\n",
      "      dtype='object')\n",
      "Fitting 3 folds for each of 288 candidates, totalling 864 fits\n"
     ]
    },
    {
     "name": "stderr",
     "output_type": "stream",
     "text": [
      "[Parallel(n_jobs=-1)]: Using backend LokyBackend with 8 concurrent workers.\n",
      "[Parallel(n_jobs=-1)]: Done  25 tasks      | elapsed:    4.1s\n",
      "[Parallel(n_jobs=-1)]: Done 146 tasks      | elapsed:   28.0s\n",
      "[Parallel(n_jobs=-1)]: Done 349 tasks      | elapsed:  1.2min\n",
      "[Parallel(n_jobs=-1)]: Done 632 tasks      | elapsed:  2.1min\n",
      "[Parallel(n_jobs=-1)]: Done 864 out of 864 | elapsed:  3.0min finished\n"
     ]
    },
    {
     "name": "stdout",
     "output_type": "stream",
     "text": [
      "26 _ OB Done.\n",
      "270_IB\n",
      "Starting 270\n",
      "Data range is:  5210\n",
      "Features Index(['temp', 'feels_like', 'humidity', 'wind_speed', 'rain_1h', 'clouds_all',\n",
      "       'weather_main', 'Weekday', 'Hour', 'Month', 'TimeOfDay', 'Seasons',\n",
      "       'RushHour'],\n",
      "      dtype='object')\n",
      "Fitting 3 folds for each of 288 candidates, totalling 864 fits\n"
     ]
    },
    {
     "name": "stderr",
     "output_type": "stream",
     "text": [
      "[Parallel(n_jobs=-1)]: Using backend LokyBackend with 8 concurrent workers.\n",
      "[Parallel(n_jobs=-1)]: Done  25 tasks      | elapsed:    5.0s\n",
      "[Parallel(n_jobs=-1)]: Done 146 tasks      | elapsed:   33.6s\n",
      "[Parallel(n_jobs=-1)]: Done 349 tasks      | elapsed:  1.4min\n",
      "[Parallel(n_jobs=-1)]: Done 632 tasks      | elapsed:  2.6min\n",
      "[Parallel(n_jobs=-1)]: Done 864 out of 864 | elapsed:  3.6min finished\n"
     ]
    },
    {
     "name": "stdout",
     "output_type": "stream",
     "text": [
      "270 _ IB Done.\n",
      "270_OB\n",
      "Starting 270\n",
      "Data range is:  5562\n",
      "Features Index(['temp', 'feels_like', 'humidity', 'wind_speed', 'rain_1h', 'clouds_all',\n",
      "       'weather_main', 'Weekday', 'Hour', 'Month', 'TimeOfDay', 'Seasons',\n",
      "       'RushHour'],\n",
      "      dtype='object')\n",
      "Fitting 3 folds for each of 288 candidates, totalling 864 fits\n"
     ]
    },
    {
     "name": "stderr",
     "output_type": "stream",
     "text": [
      "[Parallel(n_jobs=-1)]: Using backend LokyBackend with 8 concurrent workers.\n",
      "[Parallel(n_jobs=-1)]: Done  25 tasks      | elapsed:    5.6s\n",
      "[Parallel(n_jobs=-1)]: Done 146 tasks      | elapsed:   36.4s\n",
      "[Parallel(n_jobs=-1)]: Done 349 tasks      | elapsed:  1.5min\n",
      "[Parallel(n_jobs=-1)]: Done 632 tasks      | elapsed:  2.8min\n",
      "[Parallel(n_jobs=-1)]: Done 864 out of 864 | elapsed:  3.8min finished\n"
     ]
    },
    {
     "name": "stdout",
     "output_type": "stream",
     "text": [
      "270 _ OB Done.\n",
      "27A_IB\n",
      "Starting 27A\n",
      "Data range is:  9062\n",
      "Features Index(['temp', 'feels_like', 'humidity', 'wind_speed', 'rain_1h', 'clouds_all',\n",
      "       'weather_main', 'Weekday', 'Hour', 'Month', 'TimeOfDay', 'Seasons',\n",
      "       'RushHour'],\n",
      "      dtype='object')\n",
      "Fitting 3 folds for each of 288 candidates, totalling 864 fits\n"
     ]
    },
    {
     "name": "stderr",
     "output_type": "stream",
     "text": [
      "[Parallel(n_jobs=-1)]: Using backend LokyBackend with 8 concurrent workers.\n",
      "[Parallel(n_jobs=-1)]: Done  25 tasks      | elapsed:    7.5s\n",
      "[Parallel(n_jobs=-1)]: Done 146 tasks      | elapsed:   49.3s\n",
      "[Parallel(n_jobs=-1)]: Done 349 tasks      | elapsed:  2.0min\n",
      "[Parallel(n_jobs=-1)]: Done 632 tasks      | elapsed:  3.8min\n",
      "[Parallel(n_jobs=-1)]: Done 864 out of 864 | elapsed:  5.2min finished\n"
     ]
    },
    {
     "name": "stdout",
     "output_type": "stream",
     "text": [
      "27A _ IB Done.\n",
      "27A_OB\n",
      "Starting 27A\n",
      "Data range is:  9483\n",
      "Features Index(['temp', 'feels_like', 'humidity', 'wind_speed', 'rain_1h', 'clouds_all',\n",
      "       'weather_main', 'Weekday', 'Hour', 'Month', 'TimeOfDay', 'Seasons',\n",
      "       'RushHour'],\n",
      "      dtype='object')\n",
      "Fitting 3 folds for each of 288 candidates, totalling 864 fits\n"
     ]
    },
    {
     "name": "stderr",
     "output_type": "stream",
     "text": [
      "[Parallel(n_jobs=-1)]: Using backend LokyBackend with 8 concurrent workers.\n",
      "[Parallel(n_jobs=-1)]: Done  25 tasks      | elapsed:    7.7s\n",
      "[Parallel(n_jobs=-1)]: Done 146 tasks      | elapsed:   49.8s\n",
      "[Parallel(n_jobs=-1)]: Done 349 tasks      | elapsed:  2.0min\n",
      "[Parallel(n_jobs=-1)]: Done 632 tasks      | elapsed:  3.8min\n",
      "[Parallel(n_jobs=-1)]: Done 864 out of 864 | elapsed:  5.3min finished\n"
     ]
    },
    {
     "name": "stdout",
     "output_type": "stream",
     "text": [
      "27A _ OB Done.\n",
      "27B_IB\n",
      "Starting 27B\n",
      "Data range is:  10953\n",
      "Features Index(['temp', 'feels_like', 'humidity', 'wind_speed', 'rain_1h', 'clouds_all',\n",
      "       'weather_main', 'Weekday', 'Hour', 'Month', 'TimeOfDay', 'Seasons',\n",
      "       'RushHour'],\n",
      "      dtype='object')\n",
      "Fitting 3 folds for each of 288 candidates, totalling 864 fits\n"
     ]
    },
    {
     "name": "stderr",
     "output_type": "stream",
     "text": [
      "[Parallel(n_jobs=-1)]: Using backend LokyBackend with 8 concurrent workers.\n",
      "[Parallel(n_jobs=-1)]: Done  25 tasks      | elapsed:    8.6s\n",
      "[Parallel(n_jobs=-1)]: Done 146 tasks      | elapsed:   56.0s\n",
      "[Parallel(n_jobs=-1)]: Done 349 tasks      | elapsed: 93.5min\n",
      "[Parallel(n_jobs=-1)]: Done 632 tasks      | elapsed: 95.5min\n",
      "[Parallel(n_jobs=-1)]: Done 864 out of 864 | elapsed: 97.0min finished\n"
     ]
    },
    {
     "name": "stdout",
     "output_type": "stream",
     "text": [
      "27B _ IB Done.\n",
      "27B_OB\n",
      "Starting 27B\n",
      "Data range is:  8781\n",
      "Features Index(['temp', 'feels_like', 'humidity', 'wind_speed', 'rain_1h', 'clouds_all',\n",
      "       'weather_main', 'Weekday', 'Hour', 'Month', 'TimeOfDay', 'Seasons',\n",
      "       'RushHour'],\n",
      "      dtype='object')\n",
      "Fitting 3 folds for each of 288 candidates, totalling 864 fits\n"
     ]
    },
    {
     "name": "stderr",
     "output_type": "stream",
     "text": [
      "[Parallel(n_jobs=-1)]: Using backend LokyBackend with 8 concurrent workers.\n",
      "[Parallel(n_jobs=-1)]: Done  25 tasks      | elapsed:    6.4s\n",
      "[Parallel(n_jobs=-1)]: Done 146 tasks      | elapsed:   43.6s\n",
      "[Parallel(n_jobs=-1)]: Done 349 tasks      | elapsed:  1.8min\n",
      "[Parallel(n_jobs=-1)]: Done 632 tasks      | elapsed:  3.3min\n",
      "[Parallel(n_jobs=-1)]: Done 864 out of 864 | elapsed:  4.6min finished\n"
     ]
    },
    {
     "name": "stdout",
     "output_type": "stream",
     "text": [
      "27B _ OB Done.\n",
      "27X_IB\n",
      "Starting 27X\n",
      "Data range is:  428\n",
      "Features Index(['temp', 'feels_like', 'humidity', 'wind_speed', 'rain_1h', 'clouds_all',\n",
      "       'weather_main', 'Weekday', 'Hour', 'Month', 'TimeOfDay', 'Seasons',\n",
      "       'RushHour'],\n",
      "      dtype='object')\n",
      "Fitting 3 folds for each of 288 candidates, totalling 864 fits\n"
     ]
    },
    {
     "name": "stderr",
     "output_type": "stream",
     "text": [
      "[Parallel(n_jobs=-1)]: Using backend LokyBackend with 8 concurrent workers.\n",
      "[Parallel(n_jobs=-1)]: Done  25 tasks      | elapsed:    2.7s\n",
      "[Parallel(n_jobs=-1)]: Done 146 tasks      | elapsed:   15.6s\n",
      "[Parallel(n_jobs=-1)]: Done 349 tasks      | elapsed:   37.3s\n",
      "[Parallel(n_jobs=-1)]: Done 632 tasks      | elapsed:  1.1min\n",
      "[Parallel(n_jobs=-1)]: Done 864 out of 864 | elapsed:  1.6min finished\n"
     ]
    },
    {
     "name": "stdout",
     "output_type": "stream",
     "text": [
      "27X _ IB Done.\n",
      "27X_OB\n",
      "Starting 27X\n",
      "Data range is:  425\n",
      "Features Index(['temp', 'feels_like', 'humidity', 'wind_speed', 'rain_1h', 'clouds_all',\n",
      "       'weather_main', 'Weekday', 'Hour', 'Month', 'TimeOfDay', 'Seasons',\n",
      "       'RushHour'],\n",
      "      dtype='object')\n",
      "Fitting 3 folds for each of 288 candidates, totalling 864 fits\n"
     ]
    },
    {
     "name": "stderr",
     "output_type": "stream",
     "text": [
      "[Parallel(n_jobs=-1)]: Using backend LokyBackend with 8 concurrent workers.\n",
      "[Parallel(n_jobs=-1)]: Done  25 tasks      | elapsed:    2.4s\n",
      "[Parallel(n_jobs=-1)]: Done 146 tasks      | elapsed:   15.2s\n",
      "[Parallel(n_jobs=-1)]: Done 349 tasks      | elapsed:   37.0s\n",
      "[Parallel(n_jobs=-1)]: Done 632 tasks      | elapsed:  1.1min\n",
      "[Parallel(n_jobs=-1)]: Done 864 out of 864 | elapsed:  1.5min finished\n"
     ]
    },
    {
     "name": "stdout",
     "output_type": "stream",
     "text": [
      "27X _ OB Done.\n",
      "27_IB\n",
      "Starting 27\n",
      "Data range is:  19959\n",
      "Features Index(['temp', 'feels_like', 'humidity', 'wind_speed', 'rain_1h', 'clouds_all',\n",
      "       'weather_main', 'Weekday', 'Hour', 'Month', 'TimeOfDay', 'Seasons',\n",
      "       'RushHour'],\n",
      "      dtype='object')\n",
      "Fitting 3 folds for each of 288 candidates, totalling 864 fits\n"
     ]
    },
    {
     "name": "stderr",
     "output_type": "stream",
     "text": [
      "[Parallel(n_jobs=-1)]: Using backend LokyBackend with 8 concurrent workers.\n",
      "[Parallel(n_jobs=-1)]: Done  25 tasks      | elapsed:   16.1s\n",
      "[Parallel(n_jobs=-1)]: Done 146 tasks      | elapsed:  1.6min\n",
      "[Parallel(n_jobs=-1)]: Done 349 tasks      | elapsed:  3.8min\n",
      "[Parallel(n_jobs=-1)]: Done 632 tasks      | elapsed:  7.4min\n",
      "[Parallel(n_jobs=-1)]: Done 864 out of 864 | elapsed: 10.8min finished\n"
     ]
    },
    {
     "name": "stdout",
     "output_type": "stream",
     "text": [
      "27 _ IB Done.\n",
      "27_OB\n",
      "Starting 27\n",
      "Data range is:  20616\n",
      "Features Index(['temp', 'feels_like', 'humidity', 'wind_speed', 'rain_1h', 'clouds_all',\n",
      "       'weather_main', 'Weekday', 'Hour', 'Month', 'TimeOfDay', 'Seasons',\n",
      "       'RushHour'],\n",
      "      dtype='object')\n",
      "Fitting 3 folds for each of 288 candidates, totalling 864 fits\n"
     ]
    },
    {
     "name": "stderr",
     "output_type": "stream",
     "text": [
      "[Parallel(n_jobs=-1)]: Using backend LokyBackend with 8 concurrent workers.\n",
      "[Parallel(n_jobs=-1)]: Done  25 tasks      | elapsed:   15.1s\n",
      "[Parallel(n_jobs=-1)]: Done 146 tasks      | elapsed:  1.6min\n",
      "[Parallel(n_jobs=-1)]: Done 349 tasks      | elapsed:  4.1min\n",
      "[Parallel(n_jobs=-1)]: Done 632 tasks      | elapsed:  7.8min\n",
      "[Parallel(n_jobs=-1)]: Done 864 out of 864 | elapsed: 11.1min finished\n"
     ]
    },
    {
     "name": "stdout",
     "output_type": "stream",
     "text": [
      "27 _ OB Done.\n",
      "29A_IB\n",
      "Starting 29A\n",
      "Data range is:  15263\n",
      "Features Index(['temp', 'feels_like', 'humidity', 'wind_speed', 'rain_1h', 'clouds_all',\n",
      "       'weather_main', 'Weekday', 'Hour', 'Month', 'TimeOfDay', 'Seasons',\n",
      "       'RushHour'],\n",
      "      dtype='object')\n",
      "Fitting 3 folds for each of 288 candidates, totalling 864 fits\n"
     ]
    },
    {
     "name": "stderr",
     "output_type": "stream",
     "text": [
      "[Parallel(n_jobs=-1)]: Using backend LokyBackend with 8 concurrent workers.\n",
      "[Parallel(n_jobs=-1)]: Done  25 tasks      | elapsed:   11.5s\n",
      "[Parallel(n_jobs=-1)]: Done 146 tasks      | elapsed:  1.3min\n",
      "[Parallel(n_jobs=-1)]: Done 349 tasks      | elapsed:  3.1min\n",
      "[Parallel(n_jobs=-1)]: Done 632 tasks      | elapsed:  5.9min\n",
      "[Parallel(n_jobs=-1)]: Done 864 out of 864 | elapsed:  8.2min finished\n"
     ]
    },
    {
     "name": "stdout",
     "output_type": "stream",
     "text": [
      "29A _ IB Done.\n",
      "29A_OB\n",
      "Starting 29A\n",
      "Data range is:  13108\n",
      "Features Index(['temp', 'feels_like', 'humidity', 'wind_speed', 'rain_1h', 'clouds_all',\n",
      "       'weather_main', 'Weekday', 'Hour', 'Month', 'TimeOfDay', 'Seasons',\n",
      "       'RushHour'],\n",
      "      dtype='object')\n",
      "Fitting 3 folds for each of 288 candidates, totalling 864 fits\n"
     ]
    },
    {
     "name": "stderr",
     "output_type": "stream",
     "text": [
      "[Parallel(n_jobs=-1)]: Using backend LokyBackend with 8 concurrent workers.\n",
      "[Parallel(n_jobs=-1)]: Done  25 tasks      | elapsed:   10.5s\n",
      "[Parallel(n_jobs=-1)]: Done 146 tasks      | elapsed:  1.2min\n",
      "[Parallel(n_jobs=-1)]: Done 349 tasks      | elapsed:  2.9min\n",
      "[Parallel(n_jobs=-1)]: Done 632 tasks      | elapsed:  5.2min\n",
      "[Parallel(n_jobs=-1)]: Done 864 out of 864 | elapsed:  7.1min finished\n"
     ]
    },
    {
     "name": "stdout",
     "output_type": "stream",
     "text": [
      "29A _ OB Done.\n",
      "31A_IB\n",
      "Starting 31A\n",
      "Data range is:  2897\n",
      "Features Index(['temp', 'feels_like', 'humidity', 'wind_speed', 'rain_1h', 'clouds_all',\n",
      "       'weather_main', 'Weekday', 'Hour', 'Month', 'TimeOfDay', 'Seasons',\n",
      "       'RushHour'],\n",
      "      dtype='object')\n",
      "Fitting 3 folds for each of 288 candidates, totalling 864 fits\n"
     ]
    },
    {
     "name": "stderr",
     "output_type": "stream",
     "text": [
      "[Parallel(n_jobs=-1)]: Using backend LokyBackend with 8 concurrent workers.\n",
      "[Parallel(n_jobs=-1)]: Done  25 tasks      | elapsed:    3.5s\n",
      "[Parallel(n_jobs=-1)]: Done 146 tasks      | elapsed:   23.4s\n",
      "[Parallel(n_jobs=-1)]: Done 349 tasks      | elapsed:   58.0s\n",
      "[Parallel(n_jobs=-1)]: Done 632 tasks      | elapsed:  1.8min\n",
      "[Parallel(n_jobs=-1)]: Done 864 out of 864 | elapsed:  2.5min finished\n"
     ]
    },
    {
     "name": "stdout",
     "output_type": "stream",
     "text": [
      "31A _ IB Done.\n",
      "31A_OB\n",
      "Starting 31A\n",
      "Data range is:  2598\n",
      "Features Index(['temp', 'feels_like', 'humidity', 'wind_speed', 'rain_1h', 'clouds_all',\n",
      "       'weather_main', 'Weekday', 'Hour', 'Month', 'TimeOfDay', 'Seasons',\n",
      "       'RushHour'],\n",
      "      dtype='object')\n",
      "Fitting 3 folds for each of 288 candidates, totalling 864 fits\n"
     ]
    },
    {
     "name": "stderr",
     "output_type": "stream",
     "text": [
      "[Parallel(n_jobs=-1)]: Using backend LokyBackend with 8 concurrent workers.\n",
      "[Parallel(n_jobs=-1)]: Done  25 tasks      | elapsed:    3.7s\n",
      "[Parallel(n_jobs=-1)]: Done 146 tasks      | elapsed:   24.1s\n",
      "[Parallel(n_jobs=-1)]: Done 349 tasks      | elapsed:   58.7s\n",
      "[Parallel(n_jobs=-1)]: Done 632 tasks      | elapsed:  1.8min\n",
      "[Parallel(n_jobs=-1)]: Done 864 out of 864 | elapsed:  2.5min finished\n"
     ]
    },
    {
     "name": "stdout",
     "output_type": "stream",
     "text": [
      "31A _ OB Done.\n",
      "31B_IB\n",
      "Starting 31B\n",
      "Data range is:  715\n",
      "Features Index(['temp', 'feels_like', 'humidity', 'wind_speed', 'rain_1h', 'clouds_all',\n",
      "       'weather_main', 'Weekday', 'Hour', 'Month', 'TimeOfDay', 'Seasons',\n",
      "       'RushHour'],\n",
      "      dtype='object')\n",
      "Fitting 3 folds for each of 288 candidates, totalling 864 fits\n"
     ]
    },
    {
     "name": "stderr",
     "output_type": "stream",
     "text": [
      "[Parallel(n_jobs=-1)]: Using backend LokyBackend with 8 concurrent workers.\n",
      "[Parallel(n_jobs=-1)]: Done  25 tasks      | elapsed:    2.7s\n",
      "[Parallel(n_jobs=-1)]: Done 146 tasks      | elapsed:   17.4s\n",
      "[Parallel(n_jobs=-1)]: Done 349 tasks      | elapsed:   42.2s\n",
      "[Parallel(n_jobs=-1)]: Done 632 tasks      | elapsed:  1.3min\n",
      "[Parallel(n_jobs=-1)]: Done 864 out of 864 | elapsed:  1.7min finished\n"
     ]
    },
    {
     "name": "stdout",
     "output_type": "stream",
     "text": [
      "31B _ IB Done.\n",
      "31B_OB\n",
      "Starting 31B\n",
      "Data range is:  661\n",
      "Features Index(['temp', 'feels_like', 'humidity', 'wind_speed', 'rain_1h', 'clouds_all',\n",
      "       'weather_main', 'Weekday', 'Hour', 'Month', 'TimeOfDay', 'Seasons',\n",
      "       'RushHour'],\n",
      "      dtype='object')\n",
      "Fitting 3 folds for each of 288 candidates, totalling 864 fits\n"
     ]
    },
    {
     "name": "stderr",
     "output_type": "stream",
     "text": [
      "[Parallel(n_jobs=-1)]: Using backend LokyBackend with 8 concurrent workers.\n",
      "[Parallel(n_jobs=-1)]: Done  25 tasks      | elapsed:    2.6s\n",
      "[Parallel(n_jobs=-1)]: Done 146 tasks      | elapsed:   17.1s\n",
      "[Parallel(n_jobs=-1)]: Done 349 tasks      | elapsed:   43.0s\n",
      "[Parallel(n_jobs=-1)]: Done 632 tasks      | elapsed:  1.3min\n",
      "[Parallel(n_jobs=-1)]: Done 864 out of 864 | elapsed:  1.8min finished\n"
     ]
    },
    {
     "name": "stdout",
     "output_type": "stream",
     "text": [
      "31B _ OB Done.\n",
      "31D_IB\n",
      "Starting 31D\n",
      "Data range is:  174\n",
      "Features Index(['temp', 'feels_like', 'humidity', 'wind_speed', 'rain_1h', 'clouds_all',\n",
      "       'weather_main', 'Weekday', 'Hour', 'Month', 'TimeOfDay', 'Seasons',\n",
      "       'RushHour'],\n",
      "      dtype='object')\n",
      "Fitting 3 folds for each of 288 candidates, totalling 864 fits\n"
     ]
    },
    {
     "name": "stderr",
     "output_type": "stream",
     "text": [
      "[Parallel(n_jobs=-1)]: Using backend LokyBackend with 8 concurrent workers.\n",
      "[Parallel(n_jobs=-1)]: Done  25 tasks      | elapsed:    2.4s\n",
      "[Parallel(n_jobs=-1)]: Done 146 tasks      | elapsed:   15.8s\n",
      "[Parallel(n_jobs=-1)]: Done 349 tasks      | elapsed:   38.4s\n",
      "[Parallel(n_jobs=-1)]: Done 632 tasks      | elapsed:  1.2min\n",
      "[Parallel(n_jobs=-1)]: Done 864 out of 864 | elapsed:  1.6min finished\n"
     ]
    },
    {
     "name": "stdout",
     "output_type": "stream",
     "text": [
      "31D _ IB Done.\n",
      "31D_OB\n",
      "Starting 31D\n",
      "Data range is:  180\n",
      "Features Index(['temp', 'feels_like', 'humidity', 'wind_speed', 'rain_1h', 'clouds_all',\n",
      "       'weather_main', 'Weekday', 'Hour', 'Month', 'TimeOfDay', 'Seasons',\n",
      "       'RushHour'],\n",
      "      dtype='object')\n",
      "Fitting 3 folds for each of 288 candidates, totalling 864 fits\n"
     ]
    },
    {
     "name": "stderr",
     "output_type": "stream",
     "text": [
      "[Parallel(n_jobs=-1)]: Using backend LokyBackend with 8 concurrent workers.\n",
      "[Parallel(n_jobs=-1)]: Done  25 tasks      | elapsed:    2.5s\n",
      "[Parallel(n_jobs=-1)]: Done 146 tasks      | elapsed:   15.8s\n",
      "[Parallel(n_jobs=-1)]: Done 349 tasks      | elapsed:   38.3s\n",
      "[Parallel(n_jobs=-1)]: Done 632 tasks      | elapsed:  1.2min\n",
      "[Parallel(n_jobs=-1)]: Done 864 out of 864 | elapsed:  1.6min finished\n"
     ]
    },
    {
     "name": "stdout",
     "output_type": "stream",
     "text": [
      "31D _ OB Done.\n",
      "31_IB\n",
      "Starting 31\n",
      "Data range is:  11420\n",
      "Features Index(['temp', 'feels_like', 'humidity', 'wind_speed', 'rain_1h', 'clouds_all',\n",
      "       'weather_main', 'Weekday', 'Hour', 'Month', 'TimeOfDay', 'Seasons',\n",
      "       'RushHour'],\n",
      "      dtype='object')\n",
      "Fitting 3 folds for each of 288 candidates, totalling 864 fits\n"
     ]
    },
    {
     "name": "stderr",
     "output_type": "stream",
     "text": [
      "[Parallel(n_jobs=-1)]: Using backend LokyBackend with 8 concurrent workers.\n",
      "[Parallel(n_jobs=-1)]: Done  25 tasks      | elapsed:    8.8s\n",
      "[Parallel(n_jobs=-1)]: Done 146 tasks      | elapsed:   57.4s\n",
      "[Parallel(n_jobs=-1)]: Done 349 tasks      | elapsed:  2.4min\n",
      "[Parallel(n_jobs=-1)]: Done 632 tasks      | elapsed:  4.4min\n",
      "[Parallel(n_jobs=-1)]: Done 864 out of 864 | elapsed:  6.1min finished\n"
     ]
    },
    {
     "name": "stdout",
     "output_type": "stream",
     "text": [
      "31 _ IB Done.\n",
      "31_OB\n",
      "Starting 31\n",
      "Data range is:  9968\n",
      "Features Index(['temp', 'feels_like', 'humidity', 'wind_speed', 'rain_1h', 'clouds_all',\n",
      "       'weather_main', 'Weekday', 'Hour', 'Month', 'TimeOfDay', 'Seasons',\n",
      "       'RushHour'],\n",
      "      dtype='object')\n",
      "Fitting 3 folds for each of 288 candidates, totalling 864 fits\n"
     ]
    },
    {
     "name": "stderr",
     "output_type": "stream",
     "text": [
      "[Parallel(n_jobs=-1)]: Using backend LokyBackend with 8 concurrent workers.\n",
      "[Parallel(n_jobs=-1)]: Done  25 tasks      | elapsed:    8.4s\n",
      "[Parallel(n_jobs=-1)]: Done 146 tasks      | elapsed:   54.3s\n",
      "[Parallel(n_jobs=-1)]: Done 349 tasks      | elapsed:  2.3min\n",
      "[Parallel(n_jobs=-1)]: Done 632 tasks      | elapsed:  4.3min\n",
      "[Parallel(n_jobs=-1)]: Done 864 out of 864 | elapsed:  6.0min finished\n"
     ]
    },
    {
     "name": "stdout",
     "output_type": "stream",
     "text": [
      "31 _ OB Done.\n",
      "32X_IB\n",
      "Starting 32X\n",
      "Data range is:  258\n",
      "Features Index(['temp', 'feels_like', 'humidity', 'wind_speed', 'rain_1h', 'clouds_all',\n",
      "       'weather_main', 'Weekday', 'Hour', 'Month', 'TimeOfDay', 'Seasons',\n",
      "       'RushHour'],\n",
      "      dtype='object')\n",
      "Fitting 3 folds for each of 288 candidates, totalling 864 fits\n"
     ]
    },
    {
     "name": "stderr",
     "output_type": "stream",
     "text": [
      "[Parallel(n_jobs=-1)]: Using backend LokyBackend with 8 concurrent workers.\n",
      "[Parallel(n_jobs=-1)]: Done  25 tasks      | elapsed:    2.6s\n",
      "[Parallel(n_jobs=-1)]: Done 146 tasks      | elapsed:   17.1s\n",
      "[Parallel(n_jobs=-1)]: Done 349 tasks      | elapsed:   41.6s\n",
      "[Parallel(n_jobs=-1)]: Done 632 tasks      | elapsed:  1.3min\n",
      "[Parallel(n_jobs=-1)]: Done 864 out of 864 | elapsed:  1.8min finished\n"
     ]
    },
    {
     "name": "stdout",
     "output_type": "stream",
     "text": [
      "32X _ IB Done.\n",
      "32X_OB\n",
      "Starting 32X\n",
      "Data range is:  400\n",
      "Features Index(['temp', 'feels_like', 'humidity', 'wind_speed', 'rain_1h', 'clouds_all',\n",
      "       'weather_main', 'Weekday', 'Hour', 'Month', 'TimeOfDay', 'Seasons',\n",
      "       'RushHour'],\n",
      "      dtype='object')\n",
      "Fitting 3 folds for each of 288 candidates, totalling 864 fits\n"
     ]
    },
    {
     "name": "stderr",
     "output_type": "stream",
     "text": [
      "[Parallel(n_jobs=-1)]: Using backend LokyBackend with 8 concurrent workers.\n",
      "[Parallel(n_jobs=-1)]: Done  25 tasks      | elapsed:    3.0s\n",
      "[Parallel(n_jobs=-1)]: Done 146 tasks      | elapsed:   19.1s\n",
      "[Parallel(n_jobs=-1)]: Done 349 tasks      | elapsed:   46.8s\n",
      "[Parallel(n_jobs=-1)]: Done 632 tasks      | elapsed:  1.4min\n",
      "[Parallel(n_jobs=-1)]: Done 864 out of 864 | elapsed:  1.9min finished\n"
     ]
    },
    {
     "name": "stdout",
     "output_type": "stream",
     "text": [
      "32X _ OB Done.\n",
      "32_IB\n",
      "Starting 32\n",
      "Data range is:  6991\n",
      "Features Index(['temp', 'feels_like', 'humidity', 'wind_speed', 'rain_1h', 'clouds_all',\n",
      "       'weather_main', 'Weekday', 'Hour', 'Month', 'TimeOfDay', 'Seasons',\n",
      "       'RushHour'],\n",
      "      dtype='object')\n",
      "Fitting 3 folds for each of 288 candidates, totalling 864 fits\n"
     ]
    },
    {
     "name": "stderr",
     "output_type": "stream",
     "text": [
      "[Parallel(n_jobs=-1)]: Using backend LokyBackend with 8 concurrent workers.\n",
      "[Parallel(n_jobs=-1)]: Done  25 tasks      | elapsed:    6.4s\n",
      "[Parallel(n_jobs=-1)]: Done 146 tasks      | elapsed:   42.5s\n",
      "[Parallel(n_jobs=-1)]: Done 349 tasks      | elapsed:  1.8min\n",
      "[Parallel(n_jobs=-1)]: Done 632 tasks      | elapsed:  3.4min\n",
      "[Parallel(n_jobs=-1)]: Done 864 out of 864 | elapsed:  4.7min finished\n"
     ]
    },
    {
     "name": "stdout",
     "output_type": "stream",
     "text": [
      "32 _ IB Done.\n",
      "32_OB\n",
      "Starting 32\n",
      "Data range is:  6983\n",
      "Features Index(['temp', 'feels_like', 'humidity', 'wind_speed', 'rain_1h', 'clouds_all',\n",
      "       'weather_main', 'Weekday', 'Hour', 'Month', 'TimeOfDay', 'Seasons',\n",
      "       'RushHour'],\n",
      "      dtype='object')\n",
      "Fitting 3 folds for each of 288 candidates, totalling 864 fits\n"
     ]
    },
    {
     "name": "stderr",
     "output_type": "stream",
     "text": [
      "[Parallel(n_jobs=-1)]: Using backend LokyBackend with 8 concurrent workers.\n",
      "[Parallel(n_jobs=-1)]: Done  25 tasks      | elapsed:    7.4s\n",
      "[Parallel(n_jobs=-1)]: Done 146 tasks      | elapsed:   49.0s\n",
      "[Parallel(n_jobs=-1)]: Done 349 tasks      | elapsed:  1.9min\n",
      "[Parallel(n_jobs=-1)]: Done 632 tasks      | elapsed:  3.4min\n",
      "[Parallel(n_jobs=-1)]: Done 864 out of 864 | elapsed:  4.7min finished\n"
     ]
    },
    {
     "name": "stdout",
     "output_type": "stream",
     "text": [
      "32 _ OB Done.\n",
      "33A_IB\n",
      "Starting 33A\n",
      "Data range is:  1304\n",
      "Features Index(['temp', 'feels_like', 'humidity', 'wind_speed', 'rain_1h', 'clouds_all',\n",
      "       'weather_main', 'Weekday', 'Hour', 'Month', 'TimeOfDay', 'Seasons',\n",
      "       'RushHour'],\n",
      "      dtype='object')\n",
      "Fitting 3 folds for each of 288 candidates, totalling 864 fits\n"
     ]
    },
    {
     "name": "stderr",
     "output_type": "stream",
     "text": [
      "[Parallel(n_jobs=-1)]: Using backend LokyBackend with 8 concurrent workers.\n",
      "[Parallel(n_jobs=-1)]: Done  25 tasks      | elapsed:    4.0s\n",
      "[Parallel(n_jobs=-1)]: Done 146 tasks      | elapsed:   24.1s\n",
      "[Parallel(n_jobs=-1)]: Done 349 tasks      | elapsed:   58.7s\n",
      "[Parallel(n_jobs=-1)]: Done 632 tasks      | elapsed:  1.8min\n",
      "[Parallel(n_jobs=-1)]: Done 864 out of 864 | elapsed:  2.5min finished\n"
     ]
    },
    {
     "name": "stdout",
     "output_type": "stream",
     "text": [
      "33A _ IB Done.\n",
      "33A_OB\n",
      "Starting 33A\n",
      "Data range is:  1046\n",
      "Features Index(['temp', 'feels_like', 'humidity', 'wind_speed', 'rain_1h', 'clouds_all',\n",
      "       'weather_main', 'Weekday', 'Hour', 'Month', 'TimeOfDay', 'Seasons',\n",
      "       'RushHour'],\n",
      "      dtype='object')\n",
      "Fitting 3 folds for each of 288 candidates, totalling 864 fits\n"
     ]
    },
    {
     "name": "stderr",
     "output_type": "stream",
     "text": [
      "[Parallel(n_jobs=-1)]: Using backend LokyBackend with 8 concurrent workers.\n",
      "[Parallel(n_jobs=-1)]: Done  25 tasks      | elapsed:    3.1s\n",
      "[Parallel(n_jobs=-1)]: Done 146 tasks      | elapsed:   21.0s\n",
      "[Parallel(n_jobs=-1)]: Done 349 tasks      | elapsed:   55.1s\n",
      "[Parallel(n_jobs=-1)]: Done 632 tasks      | elapsed:  1.7min\n",
      "[Parallel(n_jobs=-1)]: Done 864 out of 864 | elapsed:  2.3min finished\n"
     ]
    },
    {
     "name": "stdout",
     "output_type": "stream",
     "text": [
      "33A _ OB Done.\n",
      "33B_IB\n",
      "Starting 33B\n",
      "Data range is:  4833\n",
      "Features Index(['temp', 'feels_like', 'humidity', 'wind_speed', 'rain_1h', 'clouds_all',\n",
      "       'weather_main', 'Weekday', 'Hour', 'Month', 'TimeOfDay', 'Seasons',\n",
      "       'RushHour'],\n",
      "      dtype='object')\n",
      "Fitting 3 folds for each of 288 candidates, totalling 864 fits\n"
     ]
    },
    {
     "name": "stderr",
     "output_type": "stream",
     "text": [
      "[Parallel(n_jobs=-1)]: Using backend LokyBackend with 8 concurrent workers.\n",
      "[Parallel(n_jobs=-1)]: Done  25 tasks      | elapsed:    6.5s\n",
      "[Parallel(n_jobs=-1)]: Done 146 tasks      | elapsed:   37.3s\n",
      "[Parallel(n_jobs=-1)]: Done 349 tasks      | elapsed:  1.5min\n",
      "[Parallel(n_jobs=-1)]: Done 632 tasks      | elapsed:  2.8min\n",
      "[Parallel(n_jobs=-1)]: Done 864 out of 864 | elapsed:  3.9min finished\n"
     ]
    },
    {
     "name": "stdout",
     "output_type": "stream",
     "text": [
      "33B _ IB Done.\n",
      "33B_OB\n",
      "Starting 33B\n",
      "Data range is:  6379\n",
      "Features Index(['temp', 'feels_like', 'humidity', 'wind_speed', 'rain_1h', 'clouds_all',\n",
      "       'weather_main', 'Weekday', 'Hour', 'Month', 'TimeOfDay', 'Seasons',\n",
      "       'RushHour'],\n",
      "      dtype='object')\n",
      "Fitting 3 folds for each of 288 candidates, totalling 864 fits\n"
     ]
    },
    {
     "name": "stderr",
     "output_type": "stream",
     "text": [
      "[Parallel(n_jobs=-1)]: Using backend LokyBackend with 8 concurrent workers.\n",
      "[Parallel(n_jobs=-1)]: Done  25 tasks      | elapsed:    6.6s\n",
      "[Parallel(n_jobs=-1)]: Done 146 tasks      | elapsed:   44.3s\n",
      "[Parallel(n_jobs=-1)]: Done 349 tasks      | elapsed:  1.8min\n",
      "[Parallel(n_jobs=-1)]: Done 632 tasks      | elapsed:  3.2min\n",
      "[Parallel(n_jobs=-1)]: Done 864 out of 864 | elapsed:  4.4min finished\n"
     ]
    },
    {
     "name": "stdout",
     "output_type": "stream",
     "text": [
      "33B _ OB Done.\n",
      "33D_IB\n",
      "Starting 33D\n",
      "Data range is:  103\n",
      "Features Index(['temp', 'feels_like', 'humidity', 'wind_speed', 'rain_1h', 'clouds_all',\n",
      "       'weather_main', 'Weekday', 'Hour', 'Month', 'TimeOfDay', 'Seasons',\n",
      "       'RushHour'],\n",
      "      dtype='object')\n",
      "Fitting 3 folds for each of 288 candidates, totalling 864 fits\n"
     ]
    },
    {
     "name": "stderr",
     "output_type": "stream",
     "text": [
      "[Parallel(n_jobs=-1)]: Using backend LokyBackend with 8 concurrent workers.\n",
      "[Parallel(n_jobs=-1)]: Done  25 tasks      | elapsed:    2.6s\n",
      "[Parallel(n_jobs=-1)]: Done 146 tasks      | elapsed:   16.9s\n",
      "[Parallel(n_jobs=-1)]: Done 349 tasks      | elapsed:   40.8s\n",
      "[Parallel(n_jobs=-1)]: Done 632 tasks      | elapsed:  1.2min\n",
      "[Parallel(n_jobs=-1)]: Done 864 out of 864 | elapsed:  1.7min finished\n"
     ]
    },
    {
     "name": "stdout",
     "output_type": "stream",
     "text": [
      "33D _ IB Done.\n",
      "33D_OB\n",
      "Starting 33D\n",
      "Data range is:  136\n",
      "Features Index(['temp', 'feels_like', 'humidity', 'wind_speed', 'rain_1h', 'clouds_all',\n",
      "       'weather_main', 'Weekday', 'Hour', 'Month', 'TimeOfDay', 'Seasons',\n",
      "       'RushHour'],\n",
      "      dtype='object')\n",
      "Fitting 3 folds for each of 288 candidates, totalling 864 fits\n"
     ]
    },
    {
     "name": "stderr",
     "output_type": "stream",
     "text": [
      "[Parallel(n_jobs=-1)]: Using backend LokyBackend with 8 concurrent workers.\n",
      "[Parallel(n_jobs=-1)]: Done  25 tasks      | elapsed:    2.5s\n",
      "[Parallel(n_jobs=-1)]: Done 146 tasks      | elapsed:   17.7s\n",
      "[Parallel(n_jobs=-1)]: Done 349 tasks      | elapsed:   44.0s\n",
      "[Parallel(n_jobs=-1)]: Done 632 tasks      | elapsed:  1.3min\n",
      "[Parallel(n_jobs=-1)]: Done 864 out of 864 | elapsed:  1.8min finished\n"
     ]
    },
    {
     "name": "stdout",
     "output_type": "stream",
     "text": [
      "33D _ OB Done.\n",
      "33E_OB\n",
      "Starting 33E\n",
      "Data range is:  14\n",
      "Features Index(['temp', 'feels_like', 'humidity', 'wind_speed', 'rain_1h', 'clouds_all',\n",
      "       'weather_main', 'Weekday', 'Hour', 'Month', 'TimeOfDay', 'Seasons',\n",
      "       'RushHour'],\n",
      "      dtype='object')\n",
      "Fitting 3 folds for each of 288 candidates, totalling 864 fits\n"
     ]
    },
    {
     "name": "stderr",
     "output_type": "stream",
     "text": [
      "[Parallel(n_jobs=-1)]: Using backend LokyBackend with 8 concurrent workers.\n",
      "[Parallel(n_jobs=-1)]: Done  25 tasks      | elapsed:    2.4s\n",
      "[Parallel(n_jobs=-1)]: Done 146 tasks      | elapsed:   16.0s\n",
      "[Parallel(n_jobs=-1)]: Done 349 tasks      | elapsed:   39.2s\n",
      "[Parallel(n_jobs=-1)]: Done 632 tasks      | elapsed:  1.2min\n",
      "[Parallel(n_jobs=-1)]: Done 864 out of 864 | elapsed:  1.7min finished\n"
     ]
    },
    {
     "name": "stdout",
     "output_type": "stream",
     "text": [
      "33E _ OB Done.\n",
      "33X_IB\n",
      "Starting 33X\n",
      "Data range is:  883\n",
      "Features Index(['temp', 'feels_like', 'humidity', 'wind_speed', 'rain_1h', 'clouds_all',\n",
      "       'weather_main', 'Weekday', 'Hour', 'Month', 'TimeOfDay', 'Seasons',\n",
      "       'RushHour'],\n",
      "      dtype='object')\n",
      "Fitting 3 folds for each of 288 candidates, totalling 864 fits\n"
     ]
    },
    {
     "name": "stderr",
     "output_type": "stream",
     "text": [
      "[Parallel(n_jobs=-1)]: Using backend LokyBackend with 8 concurrent workers.\n",
      "[Parallel(n_jobs=-1)]: Done  25 tasks      | elapsed:    2.9s\n",
      "[Parallel(n_jobs=-1)]: Done 146 tasks      | elapsed:   18.9s\n",
      "[Parallel(n_jobs=-1)]: Done 349 tasks      | elapsed:   45.8s\n",
      "[Parallel(n_jobs=-1)]: Done 632 tasks      | elapsed:  1.4min\n",
      "[Parallel(n_jobs=-1)]: Done 864 out of 864 | elapsed:  1.9min finished\n"
     ]
    },
    {
     "name": "stdout",
     "output_type": "stream",
     "text": [
      "33X _ IB Done.\n",
      "33X_OB\n",
      "Starting 33X\n",
      "Data range is:  949\n",
      "Features Index(['temp', 'feels_like', 'humidity', 'wind_speed', 'rain_1h', 'clouds_all',\n",
      "       'weather_main', 'Weekday', 'Hour', 'Month', 'TimeOfDay', 'Seasons',\n",
      "       'RushHour'],\n",
      "      dtype='object')\n",
      "Fitting 3 folds for each of 288 candidates, totalling 864 fits\n"
     ]
    },
    {
     "name": "stderr",
     "output_type": "stream",
     "text": [
      "[Parallel(n_jobs=-1)]: Using backend LokyBackend with 8 concurrent workers.\n",
      "[Parallel(n_jobs=-1)]: Done  25 tasks      | elapsed:    2.9s\n",
      "[Parallel(n_jobs=-1)]: Done 146 tasks      | elapsed:   18.9s\n",
      "[Parallel(n_jobs=-1)]: Done 349 tasks      | elapsed:   46.1s\n",
      "[Parallel(n_jobs=-1)]: Done 632 tasks      | elapsed:  1.5min\n",
      "[Parallel(n_jobs=-1)]: Done 864 out of 864 | elapsed:  2.0min finished\n"
     ]
    },
    {
     "name": "stdout",
     "output_type": "stream",
     "text": [
      "33X _ OB Done.\n",
      "33_IB\n",
      "Starting 33\n",
      "Data range is:  3038\n",
      "Features Index(['temp', 'feels_like', 'humidity', 'wind_speed', 'rain_1h', 'clouds_all',\n",
      "       'weather_main', 'Weekday', 'Hour', 'Month', 'TimeOfDay', 'Seasons',\n",
      "       'RushHour'],\n",
      "      dtype='object')\n",
      "Fitting 3 folds for each of 288 candidates, totalling 864 fits\n"
     ]
    },
    {
     "name": "stderr",
     "output_type": "stream",
     "text": [
      "[Parallel(n_jobs=-1)]: Using backend LokyBackend with 8 concurrent workers.\n",
      "[Parallel(n_jobs=-1)]: Done  25 tasks      | elapsed:    4.7s\n",
      "[Parallel(n_jobs=-1)]: Done 146 tasks      | elapsed:   29.8s\n",
      "[Parallel(n_jobs=-1)]: Done 349 tasks      | elapsed:  1.2min\n",
      "[Parallel(n_jobs=-1)]: Done 632 tasks      | elapsed:  2.2min\n",
      "[Parallel(n_jobs=-1)]: Done 864 out of 864 | elapsed:  2.9min finished\n"
     ]
    },
    {
     "name": "stdout",
     "output_type": "stream",
     "text": [
      "33 _ IB Done.\n",
      "33_OB\n",
      "Starting 33\n",
      "Data range is:  3265\n",
      "Features Index(['temp', 'feels_like', 'humidity', 'wind_speed', 'rain_1h', 'clouds_all',\n",
      "       'weather_main', 'Weekday', 'Hour', 'Month', 'TimeOfDay', 'Seasons',\n",
      "       'RushHour'],\n",
      "      dtype='object')\n",
      "Fitting 3 folds for each of 288 candidates, totalling 864 fits\n"
     ]
    },
    {
     "name": "stderr",
     "output_type": "stream",
     "text": [
      "[Parallel(n_jobs=-1)]: Using backend LokyBackend with 8 concurrent workers.\n",
      "[Parallel(n_jobs=-1)]: Done  25 tasks      | elapsed:    4.9s\n",
      "[Parallel(n_jobs=-1)]: Done 146 tasks      | elapsed:   31.9s\n",
      "[Parallel(n_jobs=-1)]: Done 349 tasks      | elapsed:  1.3min\n",
      "[Parallel(n_jobs=-1)]: Done 632 tasks      | elapsed:  2.4min\n",
      "[Parallel(n_jobs=-1)]: Done 864 out of 864 | elapsed:  3.3min finished\n"
     ]
    },
    {
     "name": "stdout",
     "output_type": "stream",
     "text": [
      "33 _ OB Done.\n",
      "37_IB\n",
      "Starting 37\n",
      "Data range is:  8165\n",
      "Features Index(['temp', 'feels_like', 'humidity', 'wind_speed', 'rain_1h', 'clouds_all',\n",
      "       'weather_main', 'Weekday', 'Hour', 'Month', 'TimeOfDay', 'Seasons',\n",
      "       'RushHour'],\n",
      "      dtype='object')\n",
      "Fitting 3 folds for each of 288 candidates, totalling 864 fits\n"
     ]
    },
    {
     "name": "stderr",
     "output_type": "stream",
     "text": [
      "[Parallel(n_jobs=-1)]: Using backend LokyBackend with 8 concurrent workers.\n",
      "[Parallel(n_jobs=-1)]: Done  25 tasks      | elapsed:    8.8s\n",
      "[Parallel(n_jobs=-1)]: Done 146 tasks      | elapsed:   58.8s\n",
      "[Parallel(n_jobs=-1)]: Done 349 tasks      | elapsed:  2.5min\n",
      "[Parallel(n_jobs=-1)]: Done 632 tasks      | elapsed:  4.7min\n",
      "[Parallel(n_jobs=-1)]: Done 864 out of 864 | elapsed:  6.5min finished\n"
     ]
    },
    {
     "name": "stdout",
     "output_type": "stream",
     "text": [
      "37 _ IB Done.\n",
      "37_OB\n",
      "Starting 37\n",
      "Data range is:  14992\n",
      "Features Index(['temp', 'feels_like', 'humidity', 'wind_speed', 'rain_1h', 'clouds_all',\n",
      "       'weather_main', 'Weekday', 'Hour', 'Month', 'TimeOfDay', 'Seasons',\n",
      "       'RushHour'],\n",
      "      dtype='object')\n",
      "Fitting 3 folds for each of 288 candidates, totalling 864 fits\n"
     ]
    },
    {
     "name": "stderr",
     "output_type": "stream",
     "text": [
      "[Parallel(n_jobs=-1)]: Using backend LokyBackend with 8 concurrent workers.\n",
      "[Parallel(n_jobs=-1)]: Done  25 tasks      | elapsed:   13.3s\n",
      "[Parallel(n_jobs=-1)]: Done 146 tasks      | elapsed:  1.5min\n",
      "[Parallel(n_jobs=-1)]: Done 349 tasks      | elapsed:  3.8min\n",
      "[Parallel(n_jobs=-1)]: Done 632 tasks      | elapsed:  7.1min\n",
      "[Parallel(n_jobs=-1)]: Done 864 out of 864 | elapsed: 10.1min finished\n"
     ]
    },
    {
     "name": "stdout",
     "output_type": "stream",
     "text": [
      "37 _ OB Done.\n",
      "38A_IB\n",
      "Starting 38A\n",
      "Data range is:  6225\n",
      "Features Index(['temp', 'feels_like', 'humidity', 'wind_speed', 'rain_1h', 'clouds_all',\n",
      "       'weather_main', 'Weekday', 'Hour', 'Month', 'TimeOfDay', 'Seasons',\n",
      "       'RushHour'],\n",
      "      dtype='object')\n",
      "Fitting 3 folds for each of 288 candidates, totalling 864 fits\n"
     ]
    },
    {
     "name": "stderr",
     "output_type": "stream",
     "text": [
      "[Parallel(n_jobs=-1)]: Using backend LokyBackend with 8 concurrent workers.\n",
      "[Parallel(n_jobs=-1)]: Done  25 tasks      | elapsed:    7.1s\n",
      "[Parallel(n_jobs=-1)]: Done 146 tasks      | elapsed:   50.1s\n",
      "[Parallel(n_jobs=-1)]: Done 349 tasks      | elapsed:  2.1min\n",
      "[Parallel(n_jobs=-1)]: Done 632 tasks      | elapsed:  4.0min\n",
      "[Parallel(n_jobs=-1)]: Done 864 out of 864 | elapsed:  5.6min finished\n"
     ]
    },
    {
     "name": "stdout",
     "output_type": "stream",
     "text": [
      "38A _ IB Done.\n",
      "38A_OB\n",
      "Starting 38A\n",
      "Data range is:  7381\n",
      "Features Index(['temp', 'feels_like', 'humidity', 'wind_speed', 'rain_1h', 'clouds_all',\n",
      "       'weather_main', 'Weekday', 'Hour', 'Month', 'TimeOfDay', 'Seasons',\n",
      "       'RushHour'],\n",
      "      dtype='object')\n",
      "Fitting 3 folds for each of 288 candidates, totalling 864 fits\n"
     ]
    },
    {
     "name": "stderr",
     "output_type": "stream",
     "text": [
      "[Parallel(n_jobs=-1)]: Using backend LokyBackend with 8 concurrent workers.\n",
      "[Parallel(n_jobs=-1)]: Done  25 tasks      | elapsed:    7.6s\n",
      "[Parallel(n_jobs=-1)]: Done 146 tasks      | elapsed:   50.1s\n",
      "[Parallel(n_jobs=-1)]: Done 349 tasks      | elapsed:  2.1min\n",
      "[Parallel(n_jobs=-1)]: Done 632 tasks      | elapsed:  3.8min\n",
      "[Parallel(n_jobs=-1)]: Done 864 out of 864 | elapsed:  5.3min finished\n"
     ]
    },
    {
     "name": "stdout",
     "output_type": "stream",
     "text": [
      "38A _ OB Done.\n",
      "38B_IB\n",
      "Starting 38B\n",
      "Data range is:  1315\n",
      "Features Index(['temp', 'feels_like', 'humidity', 'wind_speed', 'rain_1h', 'clouds_all',\n",
      "       'weather_main', 'Weekday', 'Hour', 'Month', 'TimeOfDay', 'Seasons',\n",
      "       'RushHour'],\n",
      "      dtype='object')\n",
      "Fitting 3 folds for each of 288 candidates, totalling 864 fits\n"
     ]
    },
    {
     "name": "stderr",
     "output_type": "stream",
     "text": [
      "[Parallel(n_jobs=-1)]: Using backend LokyBackend with 8 concurrent workers.\n",
      "[Parallel(n_jobs=-1)]: Done  25 tasks      | elapsed:    3.6s\n",
      "[Parallel(n_jobs=-1)]: Done 146 tasks      | elapsed:   25.6s\n",
      "[Parallel(n_jobs=-1)]: Done 349 tasks      | elapsed:  1.0min\n",
      "[Parallel(n_jobs=-1)]: Done 632 tasks      | elapsed:  1.9min\n",
      "[Parallel(n_jobs=-1)]: Done 864 out of 864 | elapsed:  2.7min finished\n"
     ]
    },
    {
     "name": "stdout",
     "output_type": "stream",
     "text": [
      "38B _ IB Done.\n",
      "38B_OB\n",
      "Starting 38B\n",
      "Data range is:  997\n",
      "Features Index(['temp', 'feels_like', 'humidity', 'wind_speed', 'rain_1h', 'clouds_all',\n",
      "       'weather_main', 'Weekday', 'Hour', 'Month', 'TimeOfDay', 'Seasons',\n",
      "       'RushHour'],\n",
      "      dtype='object')\n",
      "Fitting 3 folds for each of 288 candidates, totalling 864 fits\n"
     ]
    },
    {
     "name": "stderr",
     "output_type": "stream",
     "text": [
      "[Parallel(n_jobs=-1)]: Using backend LokyBackend with 8 concurrent workers.\n",
      "[Parallel(n_jobs=-1)]: Done  25 tasks      | elapsed:    3.4s\n",
      "[Parallel(n_jobs=-1)]: Done 146 tasks      | elapsed:   22.2s\n",
      "[Parallel(n_jobs=-1)]: Done 349 tasks      | elapsed:   54.1s\n",
      "[Parallel(n_jobs=-1)]: Done 632 tasks      | elapsed:  1.6min\n",
      "[Parallel(n_jobs=-1)]: Done 864 out of 864 | elapsed:  2.3min finished\n"
     ]
    },
    {
     "name": "stdout",
     "output_type": "stream",
     "text": [
      "38B _ OB Done.\n",
      "38D_IB\n",
      "Starting 38D\n",
      "Data range is:  63\n",
      "Features Index(['temp', 'feels_like', 'humidity', 'wind_speed', 'rain_1h', 'clouds_all',\n",
      "       'weather_main', 'Weekday', 'Hour', 'Month', 'TimeOfDay', 'Seasons',\n",
      "       'RushHour'],\n",
      "      dtype='object')\n",
      "Fitting 3 folds for each of 288 candidates, totalling 864 fits\n"
     ]
    },
    {
     "name": "stderr",
     "output_type": "stream",
     "text": [
      "[Parallel(n_jobs=-1)]: Using backend LokyBackend with 8 concurrent workers.\n",
      "[Parallel(n_jobs=-1)]: Done  25 tasks      | elapsed:    2.9s\n",
      "[Parallel(n_jobs=-1)]: Done 146 tasks      | elapsed:   19.2s\n",
      "[Parallel(n_jobs=-1)]: Done 349 tasks      | elapsed:   46.3s\n",
      "[Parallel(n_jobs=-1)]: Done 632 tasks      | elapsed:  1.4min\n",
      "[Parallel(n_jobs=-1)]: Done 864 out of 864 | elapsed:  2.0min finished\n"
     ]
    },
    {
     "name": "stdout",
     "output_type": "stream",
     "text": [
      "38D _ IB Done.\n",
      "38D_OB\n",
      "Starting 38D\n",
      "Data range is:  236\n",
      "Features Index(['temp', 'feels_like', 'humidity', 'wind_speed', 'rain_1h', 'clouds_all',\n",
      "       'weather_main', 'Weekday', 'Hour', 'Month', 'TimeOfDay', 'Seasons',\n",
      "       'RushHour'],\n",
      "      dtype='object')\n",
      "Fitting 3 folds for each of 288 candidates, totalling 864 fits\n"
     ]
    },
    {
     "name": "stderr",
     "output_type": "stream",
     "text": [
      "[Parallel(n_jobs=-1)]: Using backend LokyBackend with 8 concurrent workers.\n",
      "[Parallel(n_jobs=-1)]: Done  25 tasks      | elapsed:    3.0s\n",
      "[Parallel(n_jobs=-1)]: Done 146 tasks      | elapsed:   19.7s\n",
      "[Parallel(n_jobs=-1)]: Done 349 tasks      | elapsed:   47.6s\n",
      "[Parallel(n_jobs=-1)]: Done 632 tasks      | elapsed:  1.4min\n",
      "[Parallel(n_jobs=-1)]: Done 864 out of 864 | elapsed:  2.0min finished\n"
     ]
    },
    {
     "name": "stdout",
     "output_type": "stream",
     "text": [
      "38D _ OB Done.\n",
      "38_IB\n",
      "Starting 38\n",
      "Data range is:  7608\n",
      "Features Index(['temp', 'feels_like', 'humidity', 'wind_speed', 'rain_1h', 'clouds_all',\n",
      "       'weather_main', 'Weekday', 'Hour', 'Month', 'TimeOfDay', 'Seasons',\n",
      "       'RushHour'],\n",
      "      dtype='object')\n",
      "Fitting 3 folds for each of 288 candidates, totalling 864 fits\n"
     ]
    },
    {
     "name": "stderr",
     "output_type": "stream",
     "text": [
      "[Parallel(n_jobs=-1)]: Using backend LokyBackend with 8 concurrent workers.\n",
      "[Parallel(n_jobs=-1)]: Done  25 tasks      | elapsed:    8.9s\n",
      "[Parallel(n_jobs=-1)]: Done 146 tasks      | elapsed:   58.4s\n",
      "[Parallel(n_jobs=-1)]: Done 349 tasks      | elapsed:  2.3min\n",
      "[Parallel(n_jobs=-1)]: Done 632 tasks      | elapsed:  4.2min\n",
      "[Parallel(n_jobs=-1)]: Done 864 out of 864 | elapsed:  5.8min finished\n"
     ]
    },
    {
     "name": "stdout",
     "output_type": "stream",
     "text": [
      "38 _ IB Done.\n",
      "38_OB\n",
      "Starting 38\n",
      "Data range is:  6735\n",
      "Features Index(['temp', 'feels_like', 'humidity', 'wind_speed', 'rain_1h', 'clouds_all',\n",
      "       'weather_main', 'Weekday', 'Hour', 'Month', 'TimeOfDay', 'Seasons',\n",
      "       'RushHour'],\n",
      "      dtype='object')\n",
      "Fitting 3 folds for each of 288 candidates, totalling 864 fits\n"
     ]
    },
    {
     "name": "stderr",
     "output_type": "stream",
     "text": [
      "[Parallel(n_jobs=-1)]: Using backend LokyBackend with 8 concurrent workers.\n",
      "[Parallel(n_jobs=-1)]: Done  25 tasks      | elapsed:    7.9s\n",
      "[Parallel(n_jobs=-1)]: Done 146 tasks      | elapsed:   51.9s\n",
      "[Parallel(n_jobs=-1)]: Done 349 tasks      | elapsed:  2.1min\n",
      "[Parallel(n_jobs=-1)]: Done 632 tasks      | elapsed:  4.0min\n",
      "[Parallel(n_jobs=-1)]: Done 864 out of 864 | elapsed:  5.3min finished\n"
     ]
    },
    {
     "name": "stdout",
     "output_type": "stream",
     "text": [
      "38 _ OB Done.\n",
      "39A_IB\n",
      "Starting 39A\n",
      "Data range is:  23953\n",
      "Features Index(['temp', 'feels_like', 'humidity', 'wind_speed', 'rain_1h', 'clouds_all',\n",
      "       'weather_main', 'Weekday', 'Hour', 'Month', 'TimeOfDay', 'Seasons',\n",
      "       'RushHour'],\n",
      "      dtype='object')\n",
      "Fitting 3 folds for each of 288 candidates, totalling 864 fits\n"
     ]
    },
    {
     "name": "stderr",
     "output_type": "stream",
     "text": [
      "[Parallel(n_jobs=-1)]: Using backend LokyBackend with 8 concurrent workers.\n",
      "[Parallel(n_jobs=-1)]: Done  25 tasks      | elapsed:   20.6s\n",
      "[Parallel(n_jobs=-1)]: Done 146 tasks      | elapsed:  2.2min\n",
      "[Parallel(n_jobs=-1)]: Done 349 tasks      | elapsed:  5.6min\n",
      "[Parallel(n_jobs=-1)]: Done 632 tasks      | elapsed: 10.5min\n",
      "[Parallel(n_jobs=-1)]: Done 864 out of 864 | elapsed: 14.6min finished\n"
     ]
    },
    {
     "name": "stdout",
     "output_type": "stream",
     "text": [
      "39A _ IB Done.\n",
      "39A_OB\n",
      "Starting 39A\n",
      "Data range is:  21119\n",
      "Features Index(['temp', 'feels_like', 'humidity', 'wind_speed', 'rain_1h', 'clouds_all',\n",
      "       'weather_main', 'Weekday', 'Hour', 'Month', 'TimeOfDay', 'Seasons',\n",
      "       'RushHour'],\n",
      "      dtype='object')\n",
      "Fitting 3 folds for each of 288 candidates, totalling 864 fits\n"
     ]
    },
    {
     "name": "stderr",
     "output_type": "stream",
     "text": [
      "[Parallel(n_jobs=-1)]: Using backend LokyBackend with 8 concurrent workers.\n",
      "[Parallel(n_jobs=-1)]: Done  25 tasks      | elapsed:   20.8s\n",
      "[Parallel(n_jobs=-1)]: Done 146 tasks      | elapsed:  2.3min\n",
      "[Parallel(n_jobs=-1)]: Done 349 tasks      | elapsed:  5.4min\n",
      "[Parallel(n_jobs=-1)]: Done 632 tasks      | elapsed: 10.1min\n",
      "[Parallel(n_jobs=-1)]: Done 864 out of 864 | elapsed: 14.2min finished\n"
     ]
    },
    {
     "name": "stdout",
     "output_type": "stream",
     "text": [
      "39A _ OB Done.\n",
      "39X_IB\n",
      "Starting 39X\n",
      "Data range is:  763\n",
      "Features Index(['temp', 'feels_like', 'humidity', 'wind_speed', 'rain_1h', 'clouds_all',\n",
      "       'weather_main', 'Weekday', 'Hour', 'Month', 'TimeOfDay', 'Seasons',\n",
      "       'RushHour'],\n",
      "      dtype='object')\n",
      "Fitting 3 folds for each of 288 candidates, totalling 864 fits\n"
     ]
    },
    {
     "name": "stderr",
     "output_type": "stream",
     "text": [
      "[Parallel(n_jobs=-1)]: Using backend LokyBackend with 8 concurrent workers.\n",
      "[Parallel(n_jobs=-1)]: Done  25 tasks      | elapsed:    3.3s\n",
      "[Parallel(n_jobs=-1)]: Done 146 tasks      | elapsed:   21.3s\n",
      "[Parallel(n_jobs=-1)]: Done 349 tasks      | elapsed:   54.1s\n",
      "[Parallel(n_jobs=-1)]: Done 632 tasks      | elapsed:  1.7min\n",
      "[Parallel(n_jobs=-1)]: Done 864 out of 864 | elapsed:  2.4min finished\n"
     ]
    },
    {
     "name": "stdout",
     "output_type": "stream",
     "text": [
      "39X _ IB Done.\n",
      "39X_OB\n",
      "Starting 39X\n",
      "Data range is:  501\n",
      "Features Index(['temp', 'feels_like', 'humidity', 'wind_speed', 'rain_1h', 'clouds_all',\n",
      "       'weather_main', 'Weekday', 'Hour', 'Month', 'TimeOfDay', 'Seasons',\n",
      "       'RushHour'],\n",
      "      dtype='object')\n",
      "Fitting 3 folds for each of 288 candidates, totalling 864 fits\n"
     ]
    },
    {
     "name": "stderr",
     "output_type": "stream",
     "text": [
      "[Parallel(n_jobs=-1)]: Using backend LokyBackend with 8 concurrent workers.\n",
      "[Parallel(n_jobs=-1)]: Done  25 tasks      | elapsed:    3.1s\n",
      "[Parallel(n_jobs=-1)]: Done 146 tasks      | elapsed:   21.2s\n",
      "[Parallel(n_jobs=-1)]: Done 349 tasks      | elapsed:   52.3s\n",
      "[Parallel(n_jobs=-1)]: Done 632 tasks      | elapsed:  1.6min\n",
      "[Parallel(n_jobs=-1)]: Done 864 out of 864 | elapsed:  2.2min finished\n"
     ]
    },
    {
     "name": "stdout",
     "output_type": "stream",
     "text": [
      "39X _ OB Done.\n",
      "39_IB\n",
      "Starting 39\n",
      "Data range is:  10801\n",
      "Features Index(['temp', 'feels_like', 'humidity', 'wind_speed', 'rain_1h', 'clouds_all',\n",
      "       'weather_main', 'Weekday', 'Hour', 'Month', 'TimeOfDay', 'Seasons',\n",
      "       'RushHour'],\n",
      "      dtype='object')\n",
      "Fitting 3 folds for each of 288 candidates, totalling 864 fits\n"
     ]
    },
    {
     "name": "stderr",
     "output_type": "stream",
     "text": [
      "[Parallel(n_jobs=-1)]: Using backend LokyBackend with 8 concurrent workers.\n",
      "[Parallel(n_jobs=-1)]: Done  25 tasks      | elapsed:   11.1s\n",
      "[Parallel(n_jobs=-1)]: Done 146 tasks      | elapsed:  1.3min\n",
      "[Parallel(n_jobs=-1)]: Done 349 tasks      | elapsed:  3.2min\n",
      "[Parallel(n_jobs=-1)]: Done 632 tasks      | elapsed:  5.5min\n",
      "[Parallel(n_jobs=-1)]: Done 864 out of 864 | elapsed:  7.3min finished\n"
     ]
    },
    {
     "name": "stdout",
     "output_type": "stream",
     "text": [
      "39 _ IB Done.\n",
      "39_OB\n",
      "Starting 39\n",
      "Data range is:  9626\n",
      "Features Index(['temp', 'feels_like', 'humidity', 'wind_speed', 'rain_1h', 'clouds_all',\n",
      "       'weather_main', 'Weekday', 'Hour', 'Month', 'TimeOfDay', 'Seasons',\n",
      "       'RushHour'],\n",
      "      dtype='object')\n",
      "Fitting 3 folds for each of 288 candidates, totalling 864 fits\n"
     ]
    },
    {
     "name": "stderr",
     "output_type": "stream",
     "text": [
      "[Parallel(n_jobs=-1)]: Using backend LokyBackend with 8 concurrent workers.\n",
      "[Parallel(n_jobs=-1)]: Done  25 tasks      | elapsed:    9.0s\n",
      "[Parallel(n_jobs=-1)]: Done 146 tasks      | elapsed:  1.0min\n",
      "[Parallel(n_jobs=-1)]: Done 349 tasks      | elapsed:  2.6min\n",
      "[Parallel(n_jobs=-1)]: Done 632 tasks      | elapsed:  4.7min\n",
      "[Parallel(n_jobs=-1)]: Done 864 out of 864 | elapsed:  6.3min finished\n"
     ]
    },
    {
     "name": "stdout",
     "output_type": "stream",
     "text": [
      "39 _ OB Done.\n",
      "40B_IB\n",
      "Starting 40B\n",
      "Data range is:  1358\n",
      "Features Index(['temp', 'feels_like', 'humidity', 'wind_speed', 'rain_1h', 'clouds_all',\n",
      "       'weather_main', 'Weekday', 'Hour', 'Month', 'TimeOfDay', 'Seasons',\n",
      "       'RushHour'],\n",
      "      dtype='object')\n",
      "Fitting 3 folds for each of 288 candidates, totalling 864 fits\n"
     ]
    },
    {
     "name": "stderr",
     "output_type": "stream",
     "text": [
      "[Parallel(n_jobs=-1)]: Using backend LokyBackend with 8 concurrent workers.\n",
      "[Parallel(n_jobs=-1)]: Done  25 tasks      | elapsed:    3.3s\n",
      "[Parallel(n_jobs=-1)]: Done 146 tasks      | elapsed:   21.2s\n",
      "[Parallel(n_jobs=-1)]: Done 349 tasks      | elapsed:   52.4s\n",
      "[Parallel(n_jobs=-1)]: Done 632 tasks      | elapsed:  1.8min\n",
      "[Parallel(n_jobs=-1)]: Done 864 out of 864 | elapsed:  2.5min finished\n"
     ]
    },
    {
     "name": "stdout",
     "output_type": "stream",
     "text": [
      "40B _ IB Done.\n",
      "40B_OB\n",
      "Starting 40B\n",
      "Data range is:  1565\n",
      "Features Index(['temp', 'feels_like', 'humidity', 'wind_speed', 'rain_1h', 'clouds_all',\n",
      "       'weather_main', 'Weekday', 'Hour', 'Month', 'TimeOfDay', 'Seasons',\n",
      "       'RushHour'],\n",
      "      dtype='object')\n",
      "Fitting 3 folds for each of 288 candidates, totalling 864 fits\n"
     ]
    },
    {
     "name": "stderr",
     "output_type": "stream",
     "text": [
      "[Parallel(n_jobs=-1)]: Using backend LokyBackend with 8 concurrent workers.\n",
      "[Parallel(n_jobs=-1)]: Done  25 tasks      | elapsed:    3.7s\n",
      "[Parallel(n_jobs=-1)]: Done 146 tasks      | elapsed:   24.7s\n",
      "[Parallel(n_jobs=-1)]: Done 349 tasks      | elapsed:  1.0min\n",
      "[Parallel(n_jobs=-1)]: Done 632 tasks      | elapsed:  1.8min\n",
      "[Parallel(n_jobs=-1)]: Done 864 out of 864 | elapsed:  2.5min finished\n"
     ]
    },
    {
     "name": "stdout",
     "output_type": "stream",
     "text": [
      "40B _ OB Done.\n",
      "40D_IB\n",
      "Starting 40D\n",
      "Data range is:  7837\n",
      "Features Index(['temp', 'feels_like', 'humidity', 'wind_speed', 'rain_1h', 'clouds_all',\n",
      "       'weather_main', 'Weekday', 'Hour', 'Month', 'TimeOfDay', 'Seasons',\n",
      "       'RushHour'],\n",
      "      dtype='object')\n",
      "Fitting 3 folds for each of 288 candidates, totalling 864 fits\n"
     ]
    },
    {
     "name": "stderr",
     "output_type": "stream",
     "text": [
      "[Parallel(n_jobs=-1)]: Using backend LokyBackend with 8 concurrent workers.\n",
      "[Parallel(n_jobs=-1)]: Done  25 tasks      | elapsed:    7.5s\n",
      "[Parallel(n_jobs=-1)]: Done 146 tasks      | elapsed:   45.6s\n",
      "[Parallel(n_jobs=-1)]: Done 349 tasks      | elapsed:  1.9min\n",
      "[Parallel(n_jobs=-1)]: Done 632 tasks      | elapsed:  3.6min\n",
      "[Parallel(n_jobs=-1)]: Done 864 out of 864 | elapsed:  5.1min finished\n"
     ]
    },
    {
     "name": "stdout",
     "output_type": "stream",
     "text": [
      "40D _ IB Done.\n",
      "40D_OB\n",
      "Starting 40D\n",
      "Data range is:  8060\n",
      "Features Index(['temp', 'feels_like', 'humidity', 'wind_speed', 'rain_1h', 'clouds_all',\n",
      "       'weather_main', 'Weekday', 'Hour', 'Month', 'TimeOfDay', 'Seasons',\n",
      "       'RushHour'],\n",
      "      dtype='object')\n",
      "Fitting 3 folds for each of 288 candidates, totalling 864 fits\n"
     ]
    },
    {
     "name": "stderr",
     "output_type": "stream",
     "text": [
      "[Parallel(n_jobs=-1)]: Using backend LokyBackend with 8 concurrent workers.\n",
      "[Parallel(n_jobs=-1)]: Done  25 tasks      | elapsed:    8.6s\n",
      "[Parallel(n_jobs=-1)]: Done 146 tasks      | elapsed:   57.0s\n",
      "[Parallel(n_jobs=-1)]: Done 349 tasks      | elapsed:  2.5min\n",
      "[Parallel(n_jobs=-1)]: Done 632 tasks      | elapsed:  4.8min\n",
      "[Parallel(n_jobs=-1)]: Done 864 out of 864 | elapsed:  6.6min finished\n"
     ]
    },
    {
     "name": "stdout",
     "output_type": "stream",
     "text": [
      "40D _ OB Done.\n",
      "40E_IB\n",
      "Starting 40E\n",
      "Data range is:  584\n",
      "Features Index(['temp', 'feels_like', 'humidity', 'wind_speed', 'rain_1h', 'clouds_all',\n",
      "       'weather_main', 'Weekday', 'Hour', 'Month', 'TimeOfDay', 'Seasons',\n",
      "       'RushHour'],\n",
      "      dtype='object')\n",
      "Fitting 3 folds for each of 288 candidates, totalling 864 fits\n"
     ]
    },
    {
     "name": "stderr",
     "output_type": "stream",
     "text": [
      "[Parallel(n_jobs=-1)]: Using backend LokyBackend with 8 concurrent workers.\n",
      "[Parallel(n_jobs=-1)]: Done  25 tasks      | elapsed:    2.7s\n",
      "[Parallel(n_jobs=-1)]: Done 146 tasks      | elapsed:   19.5s\n",
      "[Parallel(n_jobs=-1)]: Done 349 tasks      | elapsed:   48.5s\n",
      "[Parallel(n_jobs=-1)]: Done 632 tasks      | elapsed:  1.5min\n",
      "[Parallel(n_jobs=-1)]: Done 864 out of 864 | elapsed:  2.2min finished\n"
     ]
    },
    {
     "name": "stdout",
     "output_type": "stream",
     "text": [
      "40E _ IB Done.\n",
      "40E_OB\n",
      "Starting 40E\n",
      "Data range is:  491\n",
      "Features Index(['temp', 'feels_like', 'humidity', 'wind_speed', 'rain_1h', 'clouds_all',\n",
      "       'weather_main', 'Weekday', 'Hour', 'Month', 'TimeOfDay', 'Seasons',\n",
      "       'RushHour'],\n",
      "      dtype='object')\n",
      "Fitting 3 folds for each of 288 candidates, totalling 864 fits\n"
     ]
    },
    {
     "name": "stderr",
     "output_type": "stream",
     "text": [
      "[Parallel(n_jobs=-1)]: Using backend LokyBackend with 8 concurrent workers.\n",
      "[Parallel(n_jobs=-1)]: Done  25 tasks      | elapsed:    3.4s\n",
      "[Parallel(n_jobs=-1)]: Done 146 tasks      | elapsed:   19.5s\n",
      "[Parallel(n_jobs=-1)]: Done 349 tasks      | elapsed:   47.2s\n",
      "[Parallel(n_jobs=-1)]: Done 632 tasks      | elapsed:  1.4min\n",
      "[Parallel(n_jobs=-1)]: Done 864 out of 864 | elapsed:  2.0min finished\n"
     ]
    },
    {
     "name": "stdout",
     "output_type": "stream",
     "text": [
      "40E _ OB Done.\n",
      "40_IB\n",
      "Starting 40\n",
      "Data range is:  25000\n",
      "Features Index(['temp', 'feels_like', 'humidity', 'wind_speed', 'rain_1h', 'clouds_all',\n",
      "       'weather_main', 'Weekday', 'Hour', 'Month', 'TimeOfDay', 'Seasons',\n",
      "       'RushHour'],\n",
      "      dtype='object')\n",
      "Fitting 3 folds for each of 288 candidates, totalling 864 fits\n"
     ]
    },
    {
     "name": "stderr",
     "output_type": "stream",
     "text": [
      "[Parallel(n_jobs=-1)]: Using backend LokyBackend with 8 concurrent workers.\n",
      "[Parallel(n_jobs=-1)]: Done  25 tasks      | elapsed:   20.2s\n",
      "[Parallel(n_jobs=-1)]: Done 146 tasks      | elapsed:  2.2min\n",
      "[Parallel(n_jobs=-1)]: Done 349 tasks      | elapsed:  5.3min\n",
      "[Parallel(n_jobs=-1)]: Done 632 tasks      | elapsed:  9.7min\n",
      "[Parallel(n_jobs=-1)]: Done 864 out of 864 | elapsed: 13.3min finished\n"
     ]
    },
    {
     "name": "stdout",
     "output_type": "stream",
     "text": [
      "40 _ IB Done.\n",
      "40_OB\n",
      "Starting 40\n",
      "Data range is:  23250\n",
      "Features Index(['temp', 'feels_like', 'humidity', 'wind_speed', 'rain_1h', 'clouds_all',\n",
      "       'weather_main', 'Weekday', 'Hour', 'Month', 'TimeOfDay', 'Seasons',\n",
      "       'RushHour'],\n",
      "      dtype='object')\n",
      "Fitting 3 folds for each of 288 candidates, totalling 864 fits\n"
     ]
    },
    {
     "name": "stderr",
     "output_type": "stream",
     "text": [
      "[Parallel(n_jobs=-1)]: Using backend LokyBackend with 8 concurrent workers.\n",
      "[Parallel(n_jobs=-1)]: Done  25 tasks      | elapsed:   16.6s\n",
      "[Parallel(n_jobs=-1)]: Done 146 tasks      | elapsed:  1.8min\n",
      "[Parallel(n_jobs=-1)]: Done 349 tasks      | elapsed:  4.6min\n",
      "[Parallel(n_jobs=-1)]: Done 632 tasks      | elapsed:  8.6min\n",
      "[Parallel(n_jobs=-1)]: Done 864 out of 864 | elapsed: 11.9min finished\n"
     ]
    },
    {
     "name": "stdout",
     "output_type": "stream",
     "text": [
      "40 _ OB Done.\n",
      "41A_IB\n",
      "Starting 41A\n",
      "Data range is:  400\n",
      "Features Index(['temp', 'feels_like', 'humidity', 'wind_speed', 'rain_1h', 'clouds_all',\n",
      "       'weather_main', 'Weekday', 'Hour', 'Month', 'TimeOfDay', 'Seasons',\n",
      "       'RushHour'],\n",
      "      dtype='object')\n",
      "Fitting 3 folds for each of 288 candidates, totalling 864 fits\n"
     ]
    },
    {
     "name": "stderr",
     "output_type": "stream",
     "text": [
      "[Parallel(n_jobs=-1)]: Using backend LokyBackend with 8 concurrent workers.\n",
      "[Parallel(n_jobs=-1)]: Done  25 tasks      | elapsed:    2.3s\n",
      "[Parallel(n_jobs=-1)]: Done 146 tasks      | elapsed:   15.4s\n",
      "[Parallel(n_jobs=-1)]: Done 349 tasks      | elapsed:   37.6s\n",
      "[Parallel(n_jobs=-1)]: Done 632 tasks      | elapsed:  1.1min\n",
      "[Parallel(n_jobs=-1)]: Done 864 out of 864 | elapsed:  1.6min finished\n"
     ]
    },
    {
     "name": "stdout",
     "output_type": "stream",
     "text": [
      "41A _ IB Done.\n",
      "41B_IB\n",
      "Starting 41B\n",
      "Data range is:  1204\n",
      "Features Index(['temp', 'feels_like', 'humidity', 'wind_speed', 'rain_1h', 'clouds_all',\n",
      "       'weather_main', 'Weekday', 'Hour', 'Month', 'TimeOfDay', 'Seasons',\n",
      "       'RushHour'],\n",
      "      dtype='object')\n",
      "Fitting 3 folds for each of 288 candidates, totalling 864 fits\n"
     ]
    },
    {
     "name": "stderr",
     "output_type": "stream",
     "text": [
      "[Parallel(n_jobs=-1)]: Using backend LokyBackend with 8 concurrent workers.\n",
      "[Parallel(n_jobs=-1)]: Done  25 tasks      | elapsed:    2.7s\n",
      "[Parallel(n_jobs=-1)]: Done 146 tasks      | elapsed:   18.8s\n",
      "[Parallel(n_jobs=-1)]: Done 349 tasks      | elapsed:   46.0s\n",
      "[Parallel(n_jobs=-1)]: Done 632 tasks      | elapsed:  3.4min\n",
      "[Parallel(n_jobs=-1)]: Done 864 out of 864 | elapsed: 56.5min finished\n"
     ]
    },
    {
     "name": "stdout",
     "output_type": "stream",
     "text": [
      "41B _ IB Done.\n",
      "41B_OB\n",
      "Starting 41B\n",
      "Data range is:  1217\n",
      "Features Index(['temp', 'feels_like', 'humidity', 'wind_speed', 'rain_1h', 'clouds_all',\n",
      "       'weather_main', 'Weekday', 'Hour', 'Month', 'TimeOfDay', 'Seasons',\n",
      "       'RushHour'],\n",
      "      dtype='object')\n",
      "Fitting 3 folds for each of 288 candidates, totalling 864 fits\n"
     ]
    },
    {
     "name": "stderr",
     "output_type": "stream",
     "text": [
      "[Parallel(n_jobs=-1)]: Using backend LokyBackend with 8 concurrent workers.\n",
      "[Parallel(n_jobs=-1)]: Done  25 tasks      | elapsed:    3.0s\n",
      "[Parallel(n_jobs=-1)]: Done 146 tasks      | elapsed:   21.4s\n",
      "[Parallel(n_jobs=-1)]: Done 349 tasks      | elapsed:   52.7s\n",
      "[Parallel(n_jobs=-1)]: Done 632 tasks      | elapsed:  1.6min\n",
      "[Parallel(n_jobs=-1)]: Done 864 out of 864 | elapsed:  2.1min finished\n"
     ]
    },
    {
     "name": "stdout",
     "output_type": "stream",
     "text": [
      "41B _ OB Done.\n",
      "41C_IB\n",
      "Starting 41C\n",
      "Data range is:  10477\n",
      "Features Index(['temp', 'feels_like', 'humidity', 'wind_speed', 'rain_1h', 'clouds_all',\n",
      "       'weather_main', 'Weekday', 'Hour', 'Month', 'TimeOfDay', 'Seasons',\n",
      "       'RushHour'],\n",
      "      dtype='object')\n",
      "Fitting 3 folds for each of 288 candidates, totalling 864 fits\n"
     ]
    },
    {
     "name": "stderr",
     "output_type": "stream",
     "text": [
      "[Parallel(n_jobs=-1)]: Using backend LokyBackend with 8 concurrent workers.\n",
      "[Parallel(n_jobs=-1)]: Done  25 tasks      | elapsed:    7.9s\n",
      "[Parallel(n_jobs=-1)]: Done 146 tasks      | elapsed:   53.2s\n",
      "[Parallel(n_jobs=-1)]: Done 349 tasks      | elapsed:  2.2min\n",
      "[Parallel(n_jobs=-1)]: Done 632 tasks      | elapsed:  4.2min\n",
      "[Parallel(n_jobs=-1)]: Done 864 out of 864 | elapsed:  5.9min finished\n"
     ]
    },
    {
     "name": "stdout",
     "output_type": "stream",
     "text": [
      "41C _ IB Done.\n",
      "41C_OB\n",
      "Starting 41C\n",
      "Data range is:  12141\n",
      "Features Index(['temp', 'feels_like', 'humidity', 'wind_speed', 'rain_1h', 'clouds_all',\n",
      "       'weather_main', 'Weekday', 'Hour', 'Month', 'TimeOfDay', 'Seasons',\n",
      "       'RushHour'],\n",
      "      dtype='object')\n",
      "Fitting 3 folds for each of 288 candidates, totalling 864 fits\n"
     ]
    },
    {
     "name": "stderr",
     "output_type": "stream",
     "text": [
      "[Parallel(n_jobs=-1)]: Using backend LokyBackend with 8 concurrent workers.\n",
      "[Parallel(n_jobs=-1)]: Done  25 tasks      | elapsed:    9.7s\n",
      "[Parallel(n_jobs=-1)]: Done 146 tasks      | elapsed:  1.1min\n",
      "[Parallel(n_jobs=-1)]: Done 349 tasks      | elapsed:  2.7min\n",
      "[Parallel(n_jobs=-1)]: Done 632 tasks      | elapsed:  5.1min\n",
      "[Parallel(n_jobs=-1)]: Done 864 out of 864 | elapsed:  7.1min finished\n"
     ]
    },
    {
     "name": "stdout",
     "output_type": "stream",
     "text": [
      "41C _ OB Done.\n",
      "41D_IB\n",
      "Starting 41D\n",
      "Data range is:  9\n",
      "Features Index(['temp', 'feels_like', 'humidity', 'wind_speed', 'rain_1h', 'clouds_all',\n",
      "       'weather_main', 'Weekday', 'Hour', 'Month', 'TimeOfDay', 'Seasons',\n",
      "       'RushHour'],\n",
      "      dtype='object')\n",
      "Fitting 3 folds for each of 288 candidates, totalling 864 fits\n"
     ]
    },
    {
     "name": "stderr",
     "output_type": "stream",
     "text": [
      "[Parallel(n_jobs=-1)]: Using backend LokyBackend with 8 concurrent workers.\n",
      "[Parallel(n_jobs=-1)]: Done  25 tasks      | elapsed:    3.0s\n",
      "[Parallel(n_jobs=-1)]: Done 146 tasks      | elapsed:   18.5s\n",
      "[Parallel(n_jobs=-1)]: Done 349 tasks      | elapsed:   45.8s\n",
      "[Parallel(n_jobs=-1)]: Done 632 tasks      | elapsed:  1.4min\n",
      "[Parallel(n_jobs=-1)]: Done 864 out of 864 | elapsed:  1.9min finished\n",
      "Traceback (most recent call last):\n",
      "  File \"<ipython-input-3-550f1f028c85>\", line 98, in create_models_with_outliers\n",
      "    xg =grid_search.fit(X_train, y_train)\n",
      "  File \"C:\\Users\\jelly\\anaconda3\\envs\\comp47350py38\\lib\\site-packages\\sklearn\\pipeline.py\", line 335, in fit\n",
      "    self._final_estimator.fit(Xt, y, **fit_params_last_step)\n",
      "  File \"C:\\Users\\jelly\\anaconda3\\envs\\comp47350py38\\lib\\site-packages\\sklearn\\utils\\validation.py\", line 72, in inner_f\n",
      "    return f(**kwargs)\n",
      "  File \"C:\\Users\\jelly\\anaconda3\\envs\\comp47350py38\\lib\\site-packages\\sklearn\\model_selection\\_search.py\", line 736, in fit\n",
      "    self._run_search(evaluate_candidates)\n",
      "  File \"C:\\Users\\jelly\\anaconda3\\envs\\comp47350py38\\lib\\site-packages\\sklearn\\model_selection\\_search.py\", line 1188, in _run_search\n",
      "    evaluate_candidates(ParameterGrid(self.param_grid))\n",
      "  File \"C:\\Users\\jelly\\anaconda3\\envs\\comp47350py38\\lib\\site-packages\\sklearn\\model_selection\\_search.py\", line 714, in evaluate_candidates\n",
      "    in product(candidate_params,\n",
      "  File \"C:\\Users\\jelly\\anaconda3\\envs\\comp47350py38\\lib\\site-packages\\sklearn\\model_selection\\_split.py\", line 331, in split\n",
      "    raise ValueError(\n",
      "ValueError: Cannot have number of splits n_splits=5 greater than the number of samples: n_samples=3.\n"
     ]
    },
    {
     "name": "stdout",
     "output_type": "stream",
     "text": [
      "41D _ IB Done.\n",
      "41D_OB\n",
      "Starting 41D\n",
      "Data range is:  5\n",
      "Features Index(['temp', 'feels_like', 'humidity', 'wind_speed', 'rain_1h', 'clouds_all',\n",
      "       'weather_main', 'Weekday', 'Hour', 'Month', 'TimeOfDay', 'Seasons',\n",
      "       'RushHour'],\n",
      "      dtype='object')\n",
      "41X_IB\n",
      "Starting 41X\n",
      "Data range is:  470\n",
      "Features Index(['temp', 'feels_like', 'humidity', 'wind_speed', 'rain_1h', 'clouds_all',\n",
      "       'weather_main', 'Weekday', 'Hour', 'Month', 'TimeOfDay', 'Seasons',\n",
      "       'RushHour'],\n",
      "      dtype='object')\n",
      "Fitting 3 folds for each of 288 candidates, totalling 864 fits\n"
     ]
    },
    {
     "name": "stderr",
     "output_type": "stream",
     "text": [
      "[Parallel(n_jobs=-1)]: Using backend LokyBackend with 8 concurrent workers.\n",
      "[Parallel(n_jobs=-1)]: Done  25 tasks      | elapsed:    3.1s\n",
      "[Parallel(n_jobs=-1)]: Done 146 tasks      | elapsed:   20.0s\n",
      "[Parallel(n_jobs=-1)]: Done 349 tasks      | elapsed:   49.0s\n",
      "[Parallel(n_jobs=-1)]: Done 632 tasks      | elapsed:  1.5min\n",
      "[Parallel(n_jobs=-1)]: Done 864 out of 864 | elapsed:  2.1min finished\n"
     ]
    },
    {
     "name": "stdout",
     "output_type": "stream",
     "text": [
      "41X _ IB Done.\n",
      "41X_OB\n",
      "Starting 41X\n",
      "Data range is:  345\n",
      "Features Index(['temp', 'feels_like', 'humidity', 'wind_speed', 'rain_1h', 'clouds_all',\n",
      "       'weather_main', 'Weekday', 'Hour', 'Month', 'TimeOfDay', 'Seasons',\n",
      "       'RushHour'],\n",
      "      dtype='object')\n",
      "Fitting 3 folds for each of 288 candidates, totalling 864 fits\n"
     ]
    },
    {
     "name": "stderr",
     "output_type": "stream",
     "text": [
      "[Parallel(n_jobs=-1)]: Using backend LokyBackend with 8 concurrent workers.\n",
      "[Parallel(n_jobs=-1)]: Done  25 tasks      | elapsed:    3.2s\n",
      "[Parallel(n_jobs=-1)]: Done 146 tasks      | elapsed:   20.8s\n",
      "[Parallel(n_jobs=-1)]: Done 349 tasks      | elapsed:   59.2s\n",
      "[Parallel(n_jobs=-1)]: Done 632 tasks      | elapsed:  1.8min\n",
      "[Parallel(n_jobs=-1)]: Done 864 out of 864 | elapsed:  2.4min finished\n"
     ]
    },
    {
     "name": "stdout",
     "output_type": "stream",
     "text": [
      "41X _ OB Done.\n",
      "41_IB\n",
      "Starting 41\n",
      "Data range is:  14272\n",
      "Features Index(['temp', 'feels_like', 'humidity', 'wind_speed', 'rain_1h', 'clouds_all',\n",
      "       'weather_main', 'Weekday', 'Hour', 'Month', 'TimeOfDay', 'Seasons',\n",
      "       'RushHour'],\n",
      "      dtype='object')\n",
      "Fitting 3 folds for each of 288 candidates, totalling 864 fits\n"
     ]
    },
    {
     "name": "stderr",
     "output_type": "stream",
     "text": [
      "[Parallel(n_jobs=-1)]: Using backend LokyBackend with 8 concurrent workers.\n",
      "[Parallel(n_jobs=-1)]: Done  25 tasks      | elapsed:   13.8s\n",
      "[Parallel(n_jobs=-1)]: Done 146 tasks      | elapsed:  1.5min\n",
      "[Parallel(n_jobs=-1)]: Done 349 tasks      | elapsed:  3.6min\n",
      "[Parallel(n_jobs=-1)]: Done 632 tasks      | elapsed:  6.5min\n",
      "[Parallel(n_jobs=-1)]: Done 864 out of 864 | elapsed:  8.8min finished\n"
     ]
    },
    {
     "name": "stdout",
     "output_type": "stream",
     "text": [
      "41 _ IB Done.\n",
      "41_OB\n",
      "Starting 41\n",
      "Data range is:  13175\n",
      "Features Index(['temp', 'feels_like', 'humidity', 'wind_speed', 'rain_1h', 'clouds_all',\n",
      "       'weather_main', 'Weekday', 'Hour', 'Month', 'TimeOfDay', 'Seasons',\n",
      "       'RushHour'],\n",
      "      dtype='object')\n",
      "Fitting 3 folds for each of 288 candidates, totalling 864 fits\n"
     ]
    },
    {
     "name": "stderr",
     "output_type": "stream",
     "text": [
      "[Parallel(n_jobs=-1)]: Using backend LokyBackend with 8 concurrent workers.\n",
      "[Parallel(n_jobs=-1)]: Done  25 tasks      | elapsed:   11.5s\n",
      "[Parallel(n_jobs=-1)]: Done 146 tasks      | elapsed:  1.2min\n",
      "[Parallel(n_jobs=-1)]: Done 349 tasks      | elapsed:  3.1min\n",
      "[Parallel(n_jobs=-1)]: Done 632 tasks      | elapsed:  5.8min\n",
      "[Parallel(n_jobs=-1)]: Done 864 out of 864 | elapsed:  8.0min finished\n"
     ]
    },
    {
     "name": "stdout",
     "output_type": "stream",
     "text": [
      "41 _ OB Done.\n",
      "42D_IB\n",
      "Starting 42D\n",
      "Data range is:  176\n",
      "Features Index(['temp', 'feels_like', 'humidity', 'wind_speed', 'rain_1h', 'clouds_all',\n",
      "       'weather_main', 'Weekday', 'Hour', 'Month', 'TimeOfDay', 'Seasons',\n",
      "       'RushHour'],\n",
      "      dtype='object')\n",
      "Fitting 3 folds for each of 288 candidates, totalling 864 fits\n"
     ]
    },
    {
     "name": "stderr",
     "output_type": "stream",
     "text": [
      "[Parallel(n_jobs=-1)]: Using backend LokyBackend with 8 concurrent workers.\n",
      "[Parallel(n_jobs=-1)]: Done  25 tasks      | elapsed:    2.8s\n",
      "[Parallel(n_jobs=-1)]: Done 146 tasks      | elapsed:   19.7s\n",
      "[Parallel(n_jobs=-1)]: Done 349 tasks      | elapsed:   48.8s\n",
      "[Parallel(n_jobs=-1)]: Done 632 tasks      | elapsed:  1.5min\n",
      "[Parallel(n_jobs=-1)]: Done 864 out of 864 | elapsed:  2.0min finished\n"
     ]
    },
    {
     "name": "stdout",
     "output_type": "stream",
     "text": [
      "42D _ IB Done.\n",
      "42D_OB\n",
      "Starting 42D\n",
      "Data range is:  155\n",
      "Features Index(['temp', 'feels_like', 'humidity', 'wind_speed', 'rain_1h', 'clouds_all',\n",
      "       'weather_main', 'Weekday', 'Hour', 'Month', 'TimeOfDay', 'Seasons',\n",
      "       'RushHour'],\n",
      "      dtype='object')\n",
      "Fitting 3 folds for each of 288 candidates, totalling 864 fits\n"
     ]
    },
    {
     "name": "stderr",
     "output_type": "stream",
     "text": [
      "[Parallel(n_jobs=-1)]: Using backend LokyBackend with 8 concurrent workers.\n",
      "[Parallel(n_jobs=-1)]: Done  25 tasks      | elapsed:    3.0s\n",
      "[Parallel(n_jobs=-1)]: Done 146 tasks      | elapsed:   20.5s\n",
      "[Parallel(n_jobs=-1)]: Done 349 tasks      | elapsed:   48.9s\n",
      "[Parallel(n_jobs=-1)]: Done 632 tasks      | elapsed:  1.5min\n",
      "[Parallel(n_jobs=-1)]: Done 864 out of 864 | elapsed:  2.0min finished\n"
     ]
    },
    {
     "name": "stdout",
     "output_type": "stream",
     "text": [
      "42D _ OB Done.\n",
      "42_IB\n",
      "Starting 42\n",
      "Data range is:  11973\n",
      "Features Index(['temp', 'feels_like', 'humidity', 'wind_speed', 'rain_1h', 'clouds_all',\n",
      "       'weather_main', 'Weekday', 'Hour', 'Month', 'TimeOfDay', 'Seasons',\n",
      "       'RushHour'],\n",
      "      dtype='object')\n",
      "Fitting 3 folds for each of 288 candidates, totalling 864 fits\n"
     ]
    },
    {
     "name": "stderr",
     "output_type": "stream",
     "text": [
      "[Parallel(n_jobs=-1)]: Using backend LokyBackend with 8 concurrent workers.\n",
      "[Parallel(n_jobs=-1)]: Done  25 tasks      | elapsed:   12.0s\n",
      "[Parallel(n_jobs=-1)]: Done 146 tasks      | elapsed:  1.3min\n",
      "[Parallel(n_jobs=-1)]: Done 349 tasks      | elapsed:  3.2min\n",
      "[Parallel(n_jobs=-1)]: Done 632 tasks      | elapsed:  6.0min\n",
      "[Parallel(n_jobs=-1)]: Done 864 out of 864 | elapsed:  8.3min finished\n"
     ]
    },
    {
     "name": "stdout",
     "output_type": "stream",
     "text": [
      "42 _ IB Done.\n",
      "42_OB\n",
      "Starting 42\n",
      "Data range is:  11436\n",
      "Features Index(['temp', 'feels_like', 'humidity', 'wind_speed', 'rain_1h', 'clouds_all',\n",
      "       'weather_main', 'Weekday', 'Hour', 'Month', 'TimeOfDay', 'Seasons',\n",
      "       'RushHour'],\n",
      "      dtype='object')\n",
      "Fitting 3 folds for each of 288 candidates, totalling 864 fits\n"
     ]
    },
    {
     "name": "stderr",
     "output_type": "stream",
     "text": [
      "[Parallel(n_jobs=-1)]: Using backend LokyBackend with 8 concurrent workers.\n",
      "[Parallel(n_jobs=-1)]: Done  25 tasks      | elapsed:   10.0s\n",
      "[Parallel(n_jobs=-1)]: Done 146 tasks      | elapsed:  1.1min\n",
      "[Parallel(n_jobs=-1)]: Done 349 tasks      | elapsed:  2.6min\n",
      "[Parallel(n_jobs=-1)]: Done 632 tasks      | elapsed:  4.8min\n",
      "[Parallel(n_jobs=-1)]: Done 864 out of 864 | elapsed:  6.6min finished\n"
     ]
    },
    {
     "name": "stdout",
     "output_type": "stream",
     "text": [
      "42 _ OB Done.\n",
      "43_IB\n",
      "Starting 43\n",
      "Data range is:  7058\n",
      "Features Index(['temp', 'feels_like', 'humidity', 'wind_speed', 'rain_1h', 'clouds_all',\n",
      "       'weather_main', 'Weekday', 'Hour', 'Month', 'TimeOfDay', 'Seasons',\n",
      "       'RushHour'],\n",
      "      dtype='object')\n",
      "Fitting 3 folds for each of 288 candidates, totalling 864 fits\n"
     ]
    },
    {
     "name": "stderr",
     "output_type": "stream",
     "text": [
      "[Parallel(n_jobs=-1)]: Using backend LokyBackend with 8 concurrent workers.\n",
      "[Parallel(n_jobs=-1)]: Done  25 tasks      | elapsed:    6.2s\n",
      "[Parallel(n_jobs=-1)]: Done 146 tasks      | elapsed:   40.7s\n",
      "[Parallel(n_jobs=-1)]: Done 349 tasks      | elapsed:  1.7min\n",
      "[Parallel(n_jobs=-1)]: Done 632 tasks      | elapsed:  3.1min\n",
      "[Parallel(n_jobs=-1)]: Done 864 out of 864 | elapsed:  4.2min finished\n"
     ]
    },
    {
     "name": "stdout",
     "output_type": "stream",
     "text": [
      "43 _ IB Done.\n",
      "43_OB\n",
      "Starting 43\n",
      "Data range is:  7311\n",
      "Features Index(['temp', 'feels_like', 'humidity', 'wind_speed', 'rain_1h', 'clouds_all',\n",
      "       'weather_main', 'Weekday', 'Hour', 'Month', 'TimeOfDay', 'Seasons',\n",
      "       'RushHour'],\n",
      "      dtype='object')\n",
      "Fitting 3 folds for each of 288 candidates, totalling 864 fits\n"
     ]
    },
    {
     "name": "stderr",
     "output_type": "stream",
     "text": [
      "[Parallel(n_jobs=-1)]: Using backend LokyBackend with 8 concurrent workers.\n",
      "[Parallel(n_jobs=-1)]: Done  25 tasks      | elapsed:    5.8s\n",
      "[Parallel(n_jobs=-1)]: Done 146 tasks      | elapsed:   38.3s\n",
      "[Parallel(n_jobs=-1)]: Done 349 tasks      | elapsed:  1.6min\n",
      "[Parallel(n_jobs=-1)]: Done 632 tasks      | elapsed:  2.9min\n",
      "[Parallel(n_jobs=-1)]: Done 864 out of 864 | elapsed:  5.6min finished\n"
     ]
    },
    {
     "name": "stdout",
     "output_type": "stream",
     "text": [
      "43 _ OB Done.\n",
      "44B_IB\n",
      "Starting 44B\n",
      "Data range is:  1070\n",
      "Features Index(['temp', 'feels_like', 'humidity', 'wind_speed', 'rain_1h', 'clouds_all',\n",
      "       'weather_main', 'Weekday', 'Hour', 'Month', 'TimeOfDay', 'Seasons',\n",
      "       'RushHour'],\n",
      "      dtype='object')\n",
      "Fitting 3 folds for each of 288 candidates, totalling 864 fits\n"
     ]
    },
    {
     "name": "stderr",
     "output_type": "stream",
     "text": [
      "[Parallel(n_jobs=-1)]: Using backend LokyBackend with 8 concurrent workers.\n",
      "[Parallel(n_jobs=-1)]: Done  25 tasks      | elapsed:   11.7s\n",
      "[Parallel(n_jobs=-1)]: Done 146 tasks      | elapsed:  1.1min\n",
      "[Parallel(n_jobs=-1)]: Done 349 tasks      | elapsed:  2.7min\n",
      "[Parallel(n_jobs=-1)]: Done 632 tasks      | elapsed:  4.7min\n",
      "[Parallel(n_jobs=-1)]: Done 864 out of 864 | elapsed:  6.2min finished\n"
     ]
    },
    {
     "name": "stdout",
     "output_type": "stream",
     "text": [
      "44B _ IB Done.\n",
      "44B_OB\n",
      "Starting 44B\n",
      "Data range is:  1116\n",
      "Features Index(['temp', 'feels_like', 'humidity', 'wind_speed', 'rain_1h', 'clouds_all',\n",
      "       'weather_main', 'Weekday', 'Hour', 'Month', 'TimeOfDay', 'Seasons',\n",
      "       'RushHour'],\n",
      "      dtype='object')\n",
      "Fitting 3 folds for each of 288 candidates, totalling 864 fits\n"
     ]
    },
    {
     "name": "stderr",
     "output_type": "stream",
     "text": [
      "[Parallel(n_jobs=-1)]: Using backend LokyBackend with 8 concurrent workers.\n",
      "[Parallel(n_jobs=-1)]: Done  25 tasks      | elapsed:    8.2s\n",
      "[Parallel(n_jobs=-1)]: Done 146 tasks      | elapsed:   56.1s\n",
      "[Parallel(n_jobs=-1)]: Done 349 tasks      | elapsed:  2.2min\n",
      "[Parallel(n_jobs=-1)]: Done 632 tasks      | elapsed:  4.0min\n",
      "[Parallel(n_jobs=-1)]: Done 864 out of 864 | elapsed:  4.6min finished\n"
     ]
    },
    {
     "name": "stdout",
     "output_type": "stream",
     "text": [
      "44B _ OB Done.\n",
      "44_IB\n",
      "Starting 44\n",
      "Data range is:  5246\n",
      "Features Index(['temp', 'feels_like', 'humidity', 'wind_speed', 'rain_1h', 'clouds_all',\n",
      "       'weather_main', 'Weekday', 'Hour', 'Month', 'TimeOfDay', 'Seasons',\n",
      "       'RushHour'],\n",
      "      dtype='object')\n",
      "Fitting 3 folds for each of 288 candidates, totalling 864 fits\n"
     ]
    },
    {
     "name": "stderr",
     "output_type": "stream",
     "text": [
      "[Parallel(n_jobs=-1)]: Using backend LokyBackend with 8 concurrent workers.\n",
      "[Parallel(n_jobs=-1)]: Done  25 tasks      | elapsed:    4.7s\n",
      "[Parallel(n_jobs=-1)]: Done 146 tasks      | elapsed:   31.1s\n",
      "[Parallel(n_jobs=-1)]: Done 349 tasks      | elapsed:  1.3min\n",
      "[Parallel(n_jobs=-1)]: Done 632 tasks      | elapsed:  2.4min\n",
      "[Parallel(n_jobs=-1)]: Done 864 out of 864 | elapsed:  3.3min finished\n"
     ]
    },
    {
     "name": "stdout",
     "output_type": "stream",
     "text": [
      "44 _ IB Done.\n",
      "44_OB\n",
      "Starting 44\n",
      "Data range is:  5198\n",
      "Features Index(['temp', 'feels_like', 'humidity', 'wind_speed', 'rain_1h', 'clouds_all',\n",
      "       'weather_main', 'Weekday', 'Hour', 'Month', 'TimeOfDay', 'Seasons',\n",
      "       'RushHour'],\n",
      "      dtype='object')\n",
      "Fitting 3 folds for each of 288 candidates, totalling 864 fits\n"
     ]
    },
    {
     "name": "stderr",
     "output_type": "stream",
     "text": [
      "[Parallel(n_jobs=-1)]: Using backend LokyBackend with 8 concurrent workers.\n",
      "[Parallel(n_jobs=-1)]: Done  25 tasks      | elapsed:    5.7s\n",
      "[Parallel(n_jobs=-1)]: Done 146 tasks      | elapsed:   38.1s\n",
      "[Parallel(n_jobs=-1)]: Done 349 tasks      | elapsed:  1.4min\n",
      "[Parallel(n_jobs=-1)]: Done 632 tasks      | elapsed:  2.5min\n",
      "[Parallel(n_jobs=-1)]: Done 864 out of 864 | elapsed:  3.5min finished\n"
     ]
    },
    {
     "name": "stdout",
     "output_type": "stream",
     "text": [
      "44 _ OB Done.\n",
      "45A_IB\n",
      "Starting 45A\n",
      "Data range is:  5160\n",
      "Features Index(['temp', 'feels_like', 'humidity', 'wind_speed', 'rain_1h', 'clouds_all',\n",
      "       'weather_main', 'Weekday', 'Hour', 'Month', 'TimeOfDay', 'Seasons',\n",
      "       'RushHour'],\n",
      "      dtype='object')\n",
      "Fitting 3 folds for each of 288 candidates, totalling 864 fits\n"
     ]
    },
    {
     "name": "stderr",
     "output_type": "stream",
     "text": [
      "[Parallel(n_jobs=-1)]: Using backend LokyBackend with 8 concurrent workers.\n",
      "[Parallel(n_jobs=-1)]: Done  25 tasks      | elapsed:    4.7s\n",
      "[Parallel(n_jobs=-1)]: Done 146 tasks      | elapsed:   31.1s\n",
      "[Parallel(n_jobs=-1)]: Done 349 tasks      | elapsed:  1.3min\n",
      "[Parallel(n_jobs=-1)]: Done 632 tasks      | elapsed:  2.4min\n",
      "[Parallel(n_jobs=-1)]: Done 864 out of 864 | elapsed:  3.3min finished\n"
     ]
    },
    {
     "name": "stdout",
     "output_type": "stream",
     "text": [
      "45A _ IB Done.\n",
      "45A_OB\n",
      "Starting 45A\n",
      "Data range is:  5630\n",
      "Features Index(['temp', 'feels_like', 'humidity', 'wind_speed', 'rain_1h', 'clouds_all',\n",
      "       'weather_main', 'Weekday', 'Hour', 'Month', 'TimeOfDay', 'Seasons',\n",
      "       'RushHour'],\n",
      "      dtype='object')\n",
      "Fitting 3 folds for each of 288 candidates, totalling 864 fits\n"
     ]
    },
    {
     "name": "stderr",
     "output_type": "stream",
     "text": [
      "[Parallel(n_jobs=-1)]: Using backend LokyBackend with 8 concurrent workers.\n",
      "[Parallel(n_jobs=-1)]: Done  25 tasks      | elapsed:    5.3s\n",
      "[Parallel(n_jobs=-1)]: Done 146 tasks      | elapsed:   35.7s\n",
      "[Parallel(n_jobs=-1)]: Done 349 tasks      | elapsed:  1.4min\n",
      "[Parallel(n_jobs=-1)]: Done 632 tasks      | elapsed:  2.6min\n",
      "[Parallel(n_jobs=-1)]: Done 864 out of 864 | elapsed:  3.6min finished\n"
     ]
    },
    {
     "name": "stdout",
     "output_type": "stream",
     "text": [
      "45A _ OB Done.\n",
      "46A_IB\n",
      "Starting 46A\n",
      "Data range is:  31672\n",
      "Features Index(['temp', 'feels_like', 'humidity', 'wind_speed', 'rain_1h', 'clouds_all',\n",
      "       'weather_main', 'Weekday', 'Hour', 'Month', 'TimeOfDay', 'Seasons',\n",
      "       'RushHour'],\n",
      "      dtype='object')\n",
      "Fitting 3 folds for each of 288 candidates, totalling 864 fits\n"
     ]
    },
    {
     "name": "stderr",
     "output_type": "stream",
     "text": [
      "[Parallel(n_jobs=-1)]: Using backend LokyBackend with 8 concurrent workers.\n",
      "[Parallel(n_jobs=-1)]: Done  25 tasks      | elapsed:   20.1s\n",
      "[Parallel(n_jobs=-1)]: Done 146 tasks      | elapsed:  2.3min\n",
      "[Parallel(n_jobs=-1)]: Done 349 tasks      | elapsed:  5.7min\n",
      "[Parallel(n_jobs=-1)]: Done 632 tasks      | elapsed: 10.7min\n",
      "[Parallel(n_jobs=-1)]: Done 864 out of 864 | elapsed: 14.8min finished\n"
     ]
    },
    {
     "name": "stdout",
     "output_type": "stream",
     "text": [
      "46A _ IB Done.\n",
      "46A_OB\n",
      "Starting 46A\n",
      "Data range is:  34322\n",
      "Features Index(['temp', 'feels_like', 'humidity', 'wind_speed', 'rain_1h', 'clouds_all',\n",
      "       'weather_main', 'Weekday', 'Hour', 'Month', 'TimeOfDay', 'Seasons',\n",
      "       'RushHour'],\n",
      "      dtype='object')\n",
      "Fitting 3 folds for each of 288 candidates, totalling 864 fits\n"
     ]
    },
    {
     "name": "stderr",
     "output_type": "stream",
     "text": [
      "[Parallel(n_jobs=-1)]: Using backend LokyBackend with 8 concurrent workers.\n",
      "[Parallel(n_jobs=-1)]: Done  25 tasks      | elapsed:   26.3s\n",
      "[Parallel(n_jobs=-1)]: Done 146 tasks      | elapsed:  2.6min\n",
      "[Parallel(n_jobs=-1)]: Done 349 tasks      | elapsed:  6.4min\n",
      "[Parallel(n_jobs=-1)]: Done 632 tasks      | elapsed: 12.0min\n",
      "[Parallel(n_jobs=-1)]: Done 864 out of 864 | elapsed: 16.5min finished\n"
     ]
    },
    {
     "name": "stdout",
     "output_type": "stream",
     "text": [
      "46A _ OB Done.\n",
      "46E_IB\n",
      "Starting 46E\n",
      "Data range is:  305\n",
      "Features Index(['temp', 'feels_like', 'humidity', 'wind_speed', 'rain_1h', 'clouds_all',\n",
      "       'weather_main', 'Weekday', 'Hour', 'Month', 'TimeOfDay', 'Seasons',\n",
      "       'RushHour'],\n",
      "      dtype='object')\n",
      "Fitting 3 folds for each of 288 candidates, totalling 864 fits\n"
     ]
    },
    {
     "name": "stderr",
     "output_type": "stream",
     "text": [
      "[Parallel(n_jobs=-1)]: Using backend LokyBackend with 8 concurrent workers.\n",
      "[Parallel(n_jobs=-1)]: Done  34 tasks      | elapsed:    3.3s\n",
      "[Parallel(n_jobs=-1)]: Done 178 tasks      | elapsed:   18.7s\n",
      "[Parallel(n_jobs=-1)]: Done 381 tasks      | elapsed:   40.7s\n",
      "[Parallel(n_jobs=-1)]: Done 664 tasks      | elapsed:  1.2min\n",
      "[Parallel(n_jobs=-1)]: Done 864 out of 864 | elapsed:  1.6min finished\n"
     ]
    },
    {
     "name": "stdout",
     "output_type": "stream",
     "text": [
      "46E _ IB Done.\n",
      "47_IB\n",
      "Starting 47\n",
      "Data range is:  3154\n",
      "Features Index(['temp', 'feels_like', 'humidity', 'wind_speed', 'rain_1h', 'clouds_all',\n",
      "       'weather_main', 'Weekday', 'Hour', 'Month', 'TimeOfDay', 'Seasons',\n",
      "       'RushHour'],\n",
      "      dtype='object')\n",
      "Fitting 3 folds for each of 288 candidates, totalling 864 fits\n"
     ]
    },
    {
     "name": "stderr",
     "output_type": "stream",
     "text": [
      "[Parallel(n_jobs=-1)]: Using backend LokyBackend with 8 concurrent workers.\n",
      "[Parallel(n_jobs=-1)]: Done  25 tasks      | elapsed:    3.7s\n",
      "[Parallel(n_jobs=-1)]: Done 146 tasks      | elapsed:   24.3s\n",
      "[Parallel(n_jobs=-1)]: Done 349 tasks      | elapsed:  1.0min\n",
      "[Parallel(n_jobs=-1)]: Done 632 tasks      | elapsed:  1.9min\n",
      "[Parallel(n_jobs=-1)]: Done 864 out of 864 | elapsed:  2.6min finished\n"
     ]
    },
    {
     "name": "stdout",
     "output_type": "stream",
     "text": [
      "47 _ IB Done.\n",
      "47_OB\n",
      "Starting 47\n",
      "Data range is:  4530\n",
      "Features Index(['temp', 'feels_like', 'humidity', 'wind_speed', 'rain_1h', 'clouds_all',\n",
      "       'weather_main', 'Weekday', 'Hour', 'Month', 'TimeOfDay', 'Seasons',\n",
      "       'RushHour'],\n",
      "      dtype='object')\n",
      "Fitting 3 folds for each of 288 candidates, totalling 864 fits\n"
     ]
    },
    {
     "name": "stderr",
     "output_type": "stream",
     "text": [
      "[Parallel(n_jobs=-1)]: Using backend LokyBackend with 8 concurrent workers.\n",
      "[Parallel(n_jobs=-1)]: Done  25 tasks      | elapsed:    4.3s\n",
      "[Parallel(n_jobs=-1)]: Done 146 tasks      | elapsed:   28.6s\n",
      "[Parallel(n_jobs=-1)]: Done 349 tasks      | elapsed:  1.2min\n",
      "[Parallel(n_jobs=-1)]: Done 632 tasks      | elapsed:  2.2min\n",
      "[Parallel(n_jobs=-1)]: Done 864 out of 864 | elapsed:  3.0min finished\n"
     ]
    },
    {
     "name": "stdout",
     "output_type": "stream",
     "text": [
      "47 _ OB Done.\n",
      "49_IB\n",
      "Starting 49\n",
      "Data range is:  8266\n",
      "Features Index(['temp', 'feels_like', 'humidity', 'wind_speed', 'rain_1h', 'clouds_all',\n",
      "       'weather_main', 'Weekday', 'Hour', 'Month', 'TimeOfDay', 'Seasons',\n",
      "       'RushHour'],\n",
      "      dtype='object')\n",
      "Fitting 3 folds for each of 288 candidates, totalling 864 fits\n"
     ]
    },
    {
     "name": "stderr",
     "output_type": "stream",
     "text": [
      "[Parallel(n_jobs=-1)]: Using backend LokyBackend with 8 concurrent workers.\n",
      "[Parallel(n_jobs=-1)]: Done  25 tasks      | elapsed:    6.9s\n",
      "[Parallel(n_jobs=-1)]: Done 146 tasks      | elapsed:   51.8s\n",
      "[Parallel(n_jobs=-1)]: Done 349 tasks      | elapsed:  2.2min\n",
      "[Parallel(n_jobs=-1)]: Done 632 tasks      | elapsed:  4.2min\n",
      "[Parallel(n_jobs=-1)]: Done 864 out of 864 | elapsed:  5.8min finished\n"
     ]
    },
    {
     "name": "stdout",
     "output_type": "stream",
     "text": [
      "49 _ IB Done.\n",
      "49_OB\n",
      "Starting 49\n",
      "Data range is:  10340\n",
      "Features Index(['temp', 'feels_like', 'humidity', 'wind_speed', 'rain_1h', 'clouds_all',\n",
      "       'weather_main', 'Weekday', 'Hour', 'Month', 'TimeOfDay', 'Seasons',\n",
      "       'RushHour'],\n",
      "      dtype='object')\n",
      "Fitting 3 folds for each of 288 candidates, totalling 864 fits\n"
     ]
    },
    {
     "name": "stderr",
     "output_type": "stream",
     "text": [
      "[Parallel(n_jobs=-1)]: Using backend LokyBackend with 8 concurrent workers.\n",
      "[Parallel(n_jobs=-1)]: Done  25 tasks      | elapsed:    8.6s\n",
      "[Parallel(n_jobs=-1)]: Done 146 tasks      | elapsed:   56.6s\n",
      "[Parallel(n_jobs=-1)]: Done 349 tasks      | elapsed:  2.3min\n",
      "[Parallel(n_jobs=-1)]: Done 632 tasks      | elapsed:  4.2min\n",
      "[Parallel(n_jobs=-1)]: Done 864 out of 864 | elapsed:  5.8min finished\n"
     ]
    },
    {
     "name": "stdout",
     "output_type": "stream",
     "text": [
      "49 _ OB Done.\n",
      "4_IB\n",
      "Starting 4\n",
      "Data range is:  14870\n",
      "Features Index(['temp', 'feels_like', 'humidity', 'wind_speed', 'rain_1h', 'clouds_all',\n",
      "       'weather_main', 'Weekday', 'Hour', 'Month', 'TimeOfDay', 'Seasons',\n",
      "       'RushHour'],\n",
      "      dtype='object')\n",
      "Fitting 3 folds for each of 288 candidates, totalling 864 fits\n"
     ]
    },
    {
     "name": "stderr",
     "output_type": "stream",
     "text": [
      "[Parallel(n_jobs=-1)]: Using backend LokyBackend with 8 concurrent workers.\n",
      "[Parallel(n_jobs=-1)]: Done  25 tasks      | elapsed:   10.3s\n",
      "[Parallel(n_jobs=-1)]: Done 146 tasks      | elapsed:  1.2min\n",
      "[Parallel(n_jobs=-1)]: Done 349 tasks      | elapsed:  2.9min\n",
      "[Parallel(n_jobs=-1)]: Done 632 tasks      | elapsed:  5.3min\n",
      "[Parallel(n_jobs=-1)]: Done 864 out of 864 | elapsed:  7.4min finished\n"
     ]
    },
    {
     "name": "stdout",
     "output_type": "stream",
     "text": [
      "4 _ IB Done.\n",
      "4_OB\n",
      "Starting 4\n",
      "Data range is:  16354\n",
      "Features Index(['temp', 'feels_like', 'humidity', 'wind_speed', 'rain_1h', 'clouds_all',\n",
      "       'weather_main', 'Weekday', 'Hour', 'Month', 'TimeOfDay', 'Seasons',\n",
      "       'RushHour'],\n",
      "      dtype='object')\n",
      "Fitting 3 folds for each of 288 candidates, totalling 864 fits\n"
     ]
    },
    {
     "name": "stderr",
     "output_type": "stream",
     "text": [
      "[Parallel(n_jobs=-1)]: Using backend LokyBackend with 8 concurrent workers.\n",
      "[Parallel(n_jobs=-1)]: Done  25 tasks      | elapsed:   11.1s\n",
      "[Parallel(n_jobs=-1)]: Done 146 tasks      | elapsed:  1.3min\n",
      "[Parallel(n_jobs=-1)]: Done 349 tasks      | elapsed:  3.1min\n",
      "[Parallel(n_jobs=-1)]: Done 632 tasks      | elapsed:  5.8min\n",
      "[Parallel(n_jobs=-1)]: Done 864 out of 864 | elapsed:  8.0min finished\n"
     ]
    },
    {
     "name": "stdout",
     "output_type": "stream",
     "text": [
      "4 _ OB Done.\n",
      "51D_IB\n",
      "Starting 51D\n",
      "Data range is:  490\n",
      "Features Index(['temp', 'feels_like', 'humidity', 'wind_speed', 'rain_1h', 'clouds_all',\n",
      "       'weather_main', 'Weekday', 'Hour', 'Month', 'TimeOfDay', 'Seasons',\n",
      "       'RushHour'],\n",
      "      dtype='object')\n",
      "Fitting 3 folds for each of 288 candidates, totalling 864 fits\n"
     ]
    },
    {
     "name": "stderr",
     "output_type": "stream",
     "text": [
      "[Parallel(n_jobs=-1)]: Using backend LokyBackend with 8 concurrent workers.\n",
      "[Parallel(n_jobs=-1)]: Done  25 tasks      | elapsed:    2.4s\n",
      "[Parallel(n_jobs=-1)]: Done 146 tasks      | elapsed:   15.5s\n",
      "[Parallel(n_jobs=-1)]: Done 349 tasks      | elapsed:   38.5s\n",
      "[Parallel(n_jobs=-1)]: Done 632 tasks      | elapsed:  1.2min\n",
      "[Parallel(n_jobs=-1)]: Done 864 out of 864 | elapsed:  1.6min finished\n"
     ]
    },
    {
     "name": "stdout",
     "output_type": "stream",
     "text": [
      "51D _ IB Done.\n",
      "51D_OB\n",
      "Starting 51D\n",
      "Data range is:  215\n",
      "Features Index(['temp', 'feels_like', 'humidity', 'wind_speed', 'rain_1h', 'clouds_all',\n",
      "       'weather_main', 'Weekday', 'Hour', 'Month', 'TimeOfDay', 'Seasons',\n",
      "       'RushHour'],\n",
      "      dtype='object')\n",
      "Fitting 3 folds for each of 288 candidates, totalling 864 fits\n"
     ]
    },
    {
     "name": "stderr",
     "output_type": "stream",
     "text": [
      "[Parallel(n_jobs=-1)]: Using backend LokyBackend with 8 concurrent workers.\n",
      "[Parallel(n_jobs=-1)]: Done  25 tasks      | elapsed:    2.4s\n",
      "[Parallel(n_jobs=-1)]: Done 146 tasks      | elapsed:   15.4s\n",
      "[Parallel(n_jobs=-1)]: Done 349 tasks      | elapsed:   37.2s\n",
      "[Parallel(n_jobs=-1)]: Done 632 tasks      | elapsed:  1.1min\n",
      "[Parallel(n_jobs=-1)]: Done 864 out of 864 | elapsed:  1.5min finished\n"
     ]
    },
    {
     "name": "stdout",
     "output_type": "stream",
     "text": [
      "51D _ OB Done.\n",
      "51X_IB\n",
      "Starting 51X\n",
      "Data range is:  189\n",
      "Features Index(['temp', 'feels_like', 'humidity', 'wind_speed', 'rain_1h', 'clouds_all',\n",
      "       'weather_main', 'Weekday', 'Hour', 'Month', 'TimeOfDay', 'Seasons',\n",
      "       'RushHour'],\n",
      "      dtype='object')\n",
      "Fitting 3 folds for each of 288 candidates, totalling 864 fits\n"
     ]
    },
    {
     "name": "stderr",
     "output_type": "stream",
     "text": [
      "[Parallel(n_jobs=-1)]: Using backend LokyBackend with 8 concurrent workers.\n",
      "[Parallel(n_jobs=-1)]: Done  25 tasks      | elapsed:    2.3s\n",
      "[Parallel(n_jobs=-1)]: Done 146 tasks      | elapsed:   15.2s\n",
      "[Parallel(n_jobs=-1)]: Done 349 tasks      | elapsed:   36.9s\n",
      "[Parallel(n_jobs=-1)]: Done 632 tasks      | elapsed:  1.1min\n",
      "[Parallel(n_jobs=-1)]: Done 864 out of 864 | elapsed:  1.5min finished\n"
     ]
    },
    {
     "name": "stdout",
     "output_type": "stream",
     "text": [
      "51X _ IB Done.\n",
      "53_IB\n",
      "Starting 53\n",
      "Data range is:  4081\n",
      "Features Index(['temp', 'feels_like', 'humidity', 'wind_speed', 'rain_1h', 'clouds_all',\n",
      "       'weather_main', 'Weekday', 'Hour', 'Month', 'TimeOfDay', 'Seasons',\n",
      "       'RushHour'],\n",
      "      dtype='object')\n",
      "Fitting 3 folds for each of 288 candidates, totalling 864 fits\n"
     ]
    },
    {
     "name": "stderr",
     "output_type": "stream",
     "text": [
      "[Parallel(n_jobs=-1)]: Using backend LokyBackend with 8 concurrent workers.\n",
      "[Parallel(n_jobs=-1)]: Done  25 tasks      | elapsed:    4.0s\n",
      "[Parallel(n_jobs=-1)]: Done 146 tasks      | elapsed:   27.6s\n",
      "[Parallel(n_jobs=-1)]: Done 349 tasks      | elapsed:  1.1min\n",
      "[Parallel(n_jobs=-1)]: Done 632 tasks      | elapsed:  2.1min\n",
      "[Parallel(n_jobs=-1)]: Done 864 out of 864 | elapsed:  2.9min finished\n"
     ]
    },
    {
     "name": "stdout",
     "output_type": "stream",
     "text": [
      "53 _ IB Done.\n",
      "53_OB\n",
      "Starting 53\n",
      "Data range is:  3292\n",
      "Features Index(['temp', 'feels_like', 'humidity', 'wind_speed', 'rain_1h', 'clouds_all',\n",
      "       'weather_main', 'Weekday', 'Hour', 'Month', 'TimeOfDay', 'Seasons',\n",
      "       'RushHour'],\n",
      "      dtype='object')\n",
      "Fitting 3 folds for each of 288 candidates, totalling 864 fits\n"
     ]
    },
    {
     "name": "stderr",
     "output_type": "stream",
     "text": [
      "[Parallel(n_jobs=-1)]: Using backend LokyBackend with 8 concurrent workers.\n",
      "[Parallel(n_jobs=-1)]: Done  25 tasks      | elapsed:    3.8s\n",
      "[Parallel(n_jobs=-1)]: Done 146 tasks      | elapsed:   25.7s\n",
      "[Parallel(n_jobs=-1)]: Done 349 tasks      | elapsed:  1.1min\n",
      "[Parallel(n_jobs=-1)]: Done 632 tasks      | elapsed:  2.0min\n",
      "[Parallel(n_jobs=-1)]: Done 864 out of 864 | elapsed:  2.7min finished\n"
     ]
    },
    {
     "name": "stdout",
     "output_type": "stream",
     "text": [
      "53 _ OB Done.\n",
      "54A_IB\n",
      "Starting 54A\n",
      "Data range is:  8075\n",
      "Features Index(['temp', 'feels_like', 'humidity', 'wind_speed', 'rain_1h', 'clouds_all',\n",
      "       'weather_main', 'Weekday', 'Hour', 'Month', 'TimeOfDay', 'Seasons',\n",
      "       'RushHour'],\n",
      "      dtype='object')\n",
      "Fitting 3 folds for each of 288 candidates, totalling 864 fits\n"
     ]
    },
    {
     "name": "stderr",
     "output_type": "stream",
     "text": [
      "[Parallel(n_jobs=-1)]: Using backend LokyBackend with 8 concurrent workers.\n",
      "[Parallel(n_jobs=-1)]: Done  25 tasks      | elapsed:    6.2s\n",
      "[Parallel(n_jobs=-1)]: Done 146 tasks      | elapsed:   43.1s\n",
      "[Parallel(n_jobs=-1)]: Done 349 tasks      | elapsed:  1.8min\n",
      "[Parallel(n_jobs=-1)]: Done 632 tasks      | elapsed:  3.3min\n",
      "[Parallel(n_jobs=-1)]: Done 864 out of 864 | elapsed:  4.6min finished\n"
     ]
    },
    {
     "name": "stdout",
     "output_type": "stream",
     "text": [
      "54A _ IB Done.\n",
      "54A_OB\n",
      "Starting 54A\n",
      "Data range is:  8985\n",
      "Features Index(['temp', 'feels_like', 'humidity', 'wind_speed', 'rain_1h', 'clouds_all',\n",
      "       'weather_main', 'Weekday', 'Hour', 'Month', 'TimeOfDay', 'Seasons',\n",
      "       'RushHour'],\n",
      "      dtype='object')\n",
      "Fitting 3 folds for each of 288 candidates, totalling 864 fits\n"
     ]
    },
    {
     "name": "stderr",
     "output_type": "stream",
     "text": [
      "[Parallel(n_jobs=-1)]: Using backend LokyBackend with 8 concurrent workers.\n",
      "[Parallel(n_jobs=-1)]: Done  25 tasks      | elapsed:    6.8s\n",
      "[Parallel(n_jobs=-1)]: Done 146 tasks      | elapsed:   46.3s\n",
      "[Parallel(n_jobs=-1)]: Done 349 tasks      | elapsed:  1.9min\n",
      "[Parallel(n_jobs=-1)]: Done 632 tasks      | elapsed:  3.6min\n",
      "[Parallel(n_jobs=-1)]: Done 864 out of 864 | elapsed:  5.0min finished\n"
     ]
    },
    {
     "name": "stdout",
     "output_type": "stream",
     "text": [
      "54A _ OB Done.\n",
      "56A_IB\n",
      "Starting 56A\n",
      "Data range is:  4887\n",
      "Features Index(['temp', 'feels_like', 'humidity', 'wind_speed', 'rain_1h', 'clouds_all',\n",
      "       'weather_main', 'Weekday', 'Hour', 'Month', 'TimeOfDay', 'Seasons',\n",
      "       'RushHour'],\n",
      "      dtype='object')\n",
      "Fitting 3 folds for each of 288 candidates, totalling 864 fits\n"
     ]
    },
    {
     "name": "stderr",
     "output_type": "stream",
     "text": [
      "[Parallel(n_jobs=-1)]: Using backend LokyBackend with 8 concurrent workers.\n",
      "[Parallel(n_jobs=-1)]: Done  25 tasks      | elapsed:    4.6s\n",
      "[Parallel(n_jobs=-1)]: Done 146 tasks      | elapsed:   31.3s\n",
      "[Parallel(n_jobs=-1)]: Done 349 tasks      | elapsed:  1.3min\n",
      "[Parallel(n_jobs=-1)]: Done 632 tasks      | elapsed:  2.4min\n",
      "[Parallel(n_jobs=-1)]: Done 864 out of 864 | elapsed:  3.3min finished\n"
     ]
    },
    {
     "name": "stdout",
     "output_type": "stream",
     "text": [
      "56A _ IB Done.\n",
      "56A_OB\n",
      "Starting 56A\n",
      "Data range is:  4737\n",
      "Features Index(['temp', 'feels_like', 'humidity', 'wind_speed', 'rain_1h', 'clouds_all',\n",
      "       'weather_main', 'Weekday', 'Hour', 'Month', 'TimeOfDay', 'Seasons',\n",
      "       'RushHour'],\n",
      "      dtype='object')\n",
      "Fitting 3 folds for each of 288 candidates, totalling 864 fits\n"
     ]
    },
    {
     "name": "stderr",
     "output_type": "stream",
     "text": [
      "[Parallel(n_jobs=-1)]: Using backend LokyBackend with 8 concurrent workers.\n",
      "[Parallel(n_jobs=-1)]: Done  25 tasks      | elapsed:    4.5s\n",
      "[Parallel(n_jobs=-1)]: Done 146 tasks      | elapsed:   30.6s\n",
      "[Parallel(n_jobs=-1)]: Done 349 tasks      | elapsed:  1.3min\n",
      "[Parallel(n_jobs=-1)]: Done 632 tasks      | elapsed:  2.3min\n",
      "[Parallel(n_jobs=-1)]: Done 864 out of 864 | elapsed:  3.2min finished\n"
     ]
    },
    {
     "name": "stdout",
     "output_type": "stream",
     "text": [
      "56A _ OB Done.\n",
      "59_IB\n",
      "Starting 59\n",
      "Data range is:  4250\n",
      "Features Index(['temp', 'feels_like', 'humidity', 'wind_speed', 'rain_1h', 'clouds_all',\n",
      "       'weather_main', 'Weekday', 'Hour', 'Month', 'TimeOfDay', 'Seasons',\n",
      "       'RushHour'],\n",
      "      dtype='object')\n",
      "Fitting 3 folds for each of 288 candidates, totalling 864 fits\n"
     ]
    },
    {
     "name": "stderr",
     "output_type": "stream",
     "text": [
      "[Parallel(n_jobs=-1)]: Using backend LokyBackend with 8 concurrent workers.\n",
      "[Parallel(n_jobs=-1)]: Done  25 tasks      | elapsed:    4.2s\n",
      "[Parallel(n_jobs=-1)]: Done 146 tasks      | elapsed:   28.4s\n",
      "[Parallel(n_jobs=-1)]: Done 349 tasks      | elapsed:  1.2min\n",
      "[Parallel(n_jobs=-1)]: Done 632 tasks      | elapsed:  2.2min\n",
      "[Parallel(n_jobs=-1)]: Done 864 out of 864 | elapsed:  3.0min finished\n"
     ]
    },
    {
     "name": "stdout",
     "output_type": "stream",
     "text": [
      "59 _ IB Done.\n",
      "59_OB\n",
      "Starting 59\n",
      "Data range is:  4231\n",
      "Features Index(['temp', 'feels_like', 'humidity', 'wind_speed', 'rain_1h', 'clouds_all',\n",
      "       'weather_main', 'Weekday', 'Hour', 'Month', 'TimeOfDay', 'Seasons',\n",
      "       'RushHour'],\n",
      "      dtype='object')\n",
      "Fitting 3 folds for each of 288 candidates, totalling 864 fits\n"
     ]
    },
    {
     "name": "stderr",
     "output_type": "stream",
     "text": [
      "[Parallel(n_jobs=-1)]: Using backend LokyBackend with 8 concurrent workers.\n",
      "[Parallel(n_jobs=-1)]: Done  25 tasks      | elapsed:    4.3s\n",
      "[Parallel(n_jobs=-1)]: Done 146 tasks      | elapsed:   29.2s\n",
      "[Parallel(n_jobs=-1)]: Done 349 tasks      | elapsed:  1.2min\n",
      "[Parallel(n_jobs=-1)]: Done 632 tasks      | elapsed:  2.2min\n",
      "[Parallel(n_jobs=-1)]: Done 864 out of 864 | elapsed:  3.0min finished\n"
     ]
    },
    {
     "name": "stdout",
     "output_type": "stream",
     "text": [
      "59 _ OB Done.\n",
      "61_IB\n",
      "Starting 61\n",
      "Data range is:  4810\n",
      "Features Index(['temp', 'feels_like', 'humidity', 'wind_speed', 'rain_1h', 'clouds_all',\n",
      "       'weather_main', 'Weekday', 'Hour', 'Month', 'TimeOfDay', 'Seasons',\n",
      "       'RushHour'],\n",
      "      dtype='object')\n",
      "Fitting 3 folds for each of 288 candidates, totalling 864 fits\n"
     ]
    },
    {
     "name": "stderr",
     "output_type": "stream",
     "text": [
      "[Parallel(n_jobs=-1)]: Using backend LokyBackend with 8 concurrent workers.\n",
      "[Parallel(n_jobs=-1)]: Done  25 tasks      | elapsed:    4.5s\n",
      "[Parallel(n_jobs=-1)]: Done 146 tasks      | elapsed:   30.4s\n",
      "[Parallel(n_jobs=-1)]: Done 349 tasks      | elapsed:  1.3min\n",
      "[Parallel(n_jobs=-1)]: Done 632 tasks      | elapsed:  2.3min\n",
      "[Parallel(n_jobs=-1)]: Done 864 out of 864 | elapsed:  3.2min finished\n"
     ]
    },
    {
     "name": "stdout",
     "output_type": "stream",
     "text": [
      "61 _ IB Done.\n",
      "61_OB\n",
      "Starting 61\n",
      "Data range is:  3948\n",
      "Features Index(['temp', 'feels_like', 'humidity', 'wind_speed', 'rain_1h', 'clouds_all',\n",
      "       'weather_main', 'Weekday', 'Hour', 'Month', 'TimeOfDay', 'Seasons',\n",
      "       'RushHour'],\n",
      "      dtype='object')\n",
      "Fitting 3 folds for each of 288 candidates, totalling 864 fits\n"
     ]
    },
    {
     "name": "stderr",
     "output_type": "stream",
     "text": [
      "[Parallel(n_jobs=-1)]: Using backend LokyBackend with 8 concurrent workers.\n",
      "[Parallel(n_jobs=-1)]: Done  25 tasks      | elapsed:    4.0s\n",
      "[Parallel(n_jobs=-1)]: Done 146 tasks      | elapsed:   26.9s\n",
      "[Parallel(n_jobs=-1)]: Done 349 tasks      | elapsed:  1.1min\n",
      "[Parallel(n_jobs=-1)]: Done 632 tasks      | elapsed:  2.0min\n",
      "[Parallel(n_jobs=-1)]: Done 864 out of 864 | elapsed:  2.8min finished\n"
     ]
    },
    {
     "name": "stdout",
     "output_type": "stream",
     "text": [
      "61 _ OB Done.\n",
      "63_IB\n",
      "Starting 63\n",
      "Data range is:  5156\n",
      "Features Index(['temp', 'feels_like', 'humidity', 'wind_speed', 'rain_1h', 'clouds_all',\n",
      "       'weather_main', 'Weekday', 'Hour', 'Month', 'TimeOfDay', 'Seasons',\n",
      "       'RushHour'],\n",
      "      dtype='object')\n",
      "Fitting 3 folds for each of 288 candidates, totalling 864 fits\n"
     ]
    },
    {
     "name": "stderr",
     "output_type": "stream",
     "text": [
      "[Parallel(n_jobs=-1)]: Using backend LokyBackend with 8 concurrent workers.\n",
      "[Parallel(n_jobs=-1)]: Done  25 tasks      | elapsed:    4.7s\n",
      "[Parallel(n_jobs=-1)]: Done 146 tasks      | elapsed:   31.9s\n",
      "[Parallel(n_jobs=-1)]: Done 349 tasks      | elapsed:  1.3min\n",
      "[Parallel(n_jobs=-1)]: Done 632 tasks      | elapsed:  2.4min\n",
      "[Parallel(n_jobs=-1)]: Done 864 out of 864 | elapsed:  3.4min finished\n"
     ]
    },
    {
     "name": "stdout",
     "output_type": "stream",
     "text": [
      "63 _ IB Done.\n",
      "63_OB\n",
      "Starting 63\n",
      "Data range is:  5374\n",
      "Features Index(['temp', 'feels_like', 'humidity', 'wind_speed', 'rain_1h', 'clouds_all',\n",
      "       'weather_main', 'Weekday', 'Hour', 'Month', 'TimeOfDay', 'Seasons',\n",
      "       'RushHour'],\n",
      "      dtype='object')\n",
      "Fitting 3 folds for each of 288 candidates, totalling 864 fits\n"
     ]
    },
    {
     "name": "stderr",
     "output_type": "stream",
     "text": [
      "[Parallel(n_jobs=-1)]: Using backend LokyBackend with 8 concurrent workers.\n",
      "[Parallel(n_jobs=-1)]: Done  25 tasks      | elapsed:   19.8s\n",
      "[Parallel(n_jobs=-1)]: Done 146 tasks      | elapsed:  2.0min\n",
      "[Parallel(n_jobs=-1)]: Done 349 tasks      | elapsed:  4.8min\n",
      "[Parallel(n_jobs=-1)]: Done 632 tasks      | elapsed:  8.4min\n",
      "[Parallel(n_jobs=-1)]: Done 864 out of 864 | elapsed: 11.3min finished\n"
     ]
    },
    {
     "name": "stdout",
     "output_type": "stream",
     "text": [
      "63 _ OB Done.\n",
      "65B_IB\n",
      "Starting 65B\n",
      "Data range is:  5325\n",
      "Features Index(['temp', 'feels_like', 'humidity', 'wind_speed', 'rain_1h', 'clouds_all',\n",
      "       'weather_main', 'Weekday', 'Hour', 'Month', 'TimeOfDay', 'Seasons',\n",
      "       'RushHour'],\n",
      "      dtype='object')\n",
      "Fitting 3 folds for each of 288 candidates, totalling 864 fits\n"
     ]
    },
    {
     "name": "stderr",
     "output_type": "stream",
     "text": [
      "[Parallel(n_jobs=-1)]: Using backend LokyBackend with 8 concurrent workers.\n",
      "[Parallel(n_jobs=-1)]: Done  25 tasks      | elapsed:   14.4s\n",
      "[Parallel(n_jobs=-1)]: Done 146 tasks      | elapsed:  1.6min\n",
      "[Parallel(n_jobs=-1)]: Done 349 tasks      | elapsed:  4.2min\n",
      "[Parallel(n_jobs=-1)]: Done 632 tasks      | elapsed:  7.7min\n",
      "[Parallel(n_jobs=-1)]: Done 864 out of 864 | elapsed: 10.5min finished\n"
     ]
    },
    {
     "name": "stdout",
     "output_type": "stream",
     "text": [
      "65B _ IB Done.\n",
      "65B_OB\n",
      "Starting 65B\n",
      "Data range is:  6113\n",
      "Features Index(['temp', 'feels_like', 'humidity', 'wind_speed', 'rain_1h', 'clouds_all',\n",
      "       'weather_main', 'Weekday', 'Hour', 'Month', 'TimeOfDay', 'Seasons',\n",
      "       'RushHour'],\n",
      "      dtype='object')\n",
      "Fitting 3 folds for each of 288 candidates, totalling 864 fits\n"
     ]
    },
    {
     "name": "stderr",
     "output_type": "stream",
     "text": [
      "[Parallel(n_jobs=-1)]: Using backend LokyBackend with 8 concurrent workers.\n",
      "[Parallel(n_jobs=-1)]: Done  25 tasks      | elapsed:   17.4s\n",
      "[Parallel(n_jobs=-1)]: Done 146 tasks      | elapsed:  1.8min\n",
      "[Parallel(n_jobs=-1)]: Done 349 tasks      | elapsed:  4.3min\n",
      "[Parallel(n_jobs=-1)]: Done 632 tasks      | elapsed:  7.9min\n",
      "[Parallel(n_jobs=-1)]: Done 864 out of 864 | elapsed: 10.8min finished\n"
     ]
    },
    {
     "name": "stdout",
     "output_type": "stream",
     "text": [
      "65B _ OB Done.\n",
      "65_IB\n",
      "Starting 65\n",
      "Data range is:  2345\n",
      "Features Index(['temp', 'feels_like', 'humidity', 'wind_speed', 'rain_1h', 'clouds_all',\n",
      "       'weather_main', 'Weekday', 'Hour', 'Month', 'TimeOfDay', 'Seasons',\n",
      "       'RushHour'],\n",
      "      dtype='object')\n",
      "Fitting 3 folds for each of 288 candidates, totalling 864 fits\n"
     ]
    },
    {
     "name": "stderr",
     "output_type": "stream",
     "text": [
      "[Parallel(n_jobs=-1)]: Using backend LokyBackend with 8 concurrent workers.\n",
      "[Parallel(n_jobs=-1)]: Done  25 tasks      | elapsed:   11.5s\n",
      "[Parallel(n_jobs=-1)]: Done 146 tasks      | elapsed:  1.1min\n",
      "[Parallel(n_jobs=-1)]: Done 349 tasks      | elapsed:  2.7min\n",
      "[Parallel(n_jobs=-1)]: Done 632 tasks      | elapsed:  5.0min\n",
      "[Parallel(n_jobs=-1)]: Done 864 out of 864 | elapsed:  6.8min finished\n"
     ]
    },
    {
     "name": "stdout",
     "output_type": "stream",
     "text": [
      "65 _ IB Done.\n",
      "65_OB\n",
      "Starting 65\n",
      "Data range is:  2343\n",
      "Features Index(['temp', 'feels_like', 'humidity', 'wind_speed', 'rain_1h', 'clouds_all',\n",
      "       'weather_main', 'Weekday', 'Hour', 'Month', 'TimeOfDay', 'Seasons',\n",
      "       'RushHour'],\n",
      "      dtype='object')\n",
      "Fitting 3 folds for each of 288 candidates, totalling 864 fits\n"
     ]
    },
    {
     "name": "stderr",
     "output_type": "stream",
     "text": [
      "[Parallel(n_jobs=-1)]: Using backend LokyBackend with 8 concurrent workers.\n",
      "[Parallel(n_jobs=-1)]: Done  25 tasks      | elapsed:   10.2s\n",
      "[Parallel(n_jobs=-1)]: Done 146 tasks      | elapsed:  1.1min\n",
      "[Parallel(n_jobs=-1)]: Done 349 tasks      | elapsed:  2.6min\n",
      "[Parallel(n_jobs=-1)]: Done 632 tasks      | elapsed:  4.9min\n",
      "[Parallel(n_jobs=-1)]: Done 864 out of 864 | elapsed:  6.9min finished\n"
     ]
    },
    {
     "name": "stdout",
     "output_type": "stream",
     "text": [
      "65 _ OB Done.\n",
      "66A_IB\n",
      "Starting 66A\n",
      "Data range is:  2431\n",
      "Features Index(['temp', 'feels_like', 'humidity', 'wind_speed', 'rain_1h', 'clouds_all',\n",
      "       'weather_main', 'Weekday', 'Hour', 'Month', 'TimeOfDay', 'Seasons',\n",
      "       'RushHour'],\n",
      "      dtype='object')\n",
      "Fitting 3 folds for each of 288 candidates, totalling 864 fits\n"
     ]
    },
    {
     "name": "stderr",
     "output_type": "stream",
     "text": [
      "[Parallel(n_jobs=-1)]: Using backend LokyBackend with 8 concurrent workers.\n",
      "[Parallel(n_jobs=-1)]: Done  25 tasks      | elapsed:   11.7s\n",
      "[Parallel(n_jobs=-1)]: Done 146 tasks      | elapsed:  1.1min\n",
      "[Parallel(n_jobs=-1)]: Done 349 tasks      | elapsed:  2.7min\n",
      "[Parallel(n_jobs=-1)]: Done 632 tasks      | elapsed:  5.0min\n",
      "[Parallel(n_jobs=-1)]: Done 864 out of 864 | elapsed:  6.8min finished\n"
     ]
    },
    {
     "name": "stdout",
     "output_type": "stream",
     "text": [
      "66A _ IB Done.\n",
      "66A_OB\n",
      "Starting 66A\n",
      "Data range is:  2975\n",
      "Features Index(['temp', 'feels_like', 'humidity', 'wind_speed', 'rain_1h', 'clouds_all',\n",
      "       'weather_main', 'Weekday', 'Hour', 'Month', 'TimeOfDay', 'Seasons',\n",
      "       'RushHour'],\n",
      "      dtype='object')\n",
      "Fitting 3 folds for each of 288 candidates, totalling 864 fits\n"
     ]
    },
    {
     "name": "stderr",
     "output_type": "stream",
     "text": [
      "[Parallel(n_jobs=-1)]: Using backend LokyBackend with 8 concurrent workers.\n",
      "[Parallel(n_jobs=-1)]: Done  25 tasks      | elapsed:   10.7s\n",
      "[Parallel(n_jobs=-1)]: Done 146 tasks      | elapsed:  1.2min\n",
      "[Parallel(n_jobs=-1)]: Done 349 tasks      | elapsed:  2.9min\n",
      "[Parallel(n_jobs=-1)]: Done 632 tasks      | elapsed:  5.3min\n",
      "[Parallel(n_jobs=-1)]: Done 864 out of 864 | elapsed:  7.4min finished\n"
     ]
    },
    {
     "name": "stdout",
     "output_type": "stream",
     "text": [
      "66A _ OB Done.\n",
      "66B_IB\n",
      "Starting 66B\n",
      "Data range is:  2664\n",
      "Features Index(['temp', 'feels_like', 'humidity', 'wind_speed', 'rain_1h', 'clouds_all',\n",
      "       'weather_main', 'Weekday', 'Hour', 'Month', 'TimeOfDay', 'Seasons',\n",
      "       'RushHour'],\n",
      "      dtype='object')\n",
      "Fitting 3 folds for each of 288 candidates, totalling 864 fits\n"
     ]
    },
    {
     "name": "stderr",
     "output_type": "stream",
     "text": [
      "[Parallel(n_jobs=-1)]: Using backend LokyBackend with 8 concurrent workers.\n",
      "[Parallel(n_jobs=-1)]: Done  25 tasks      | elapsed:   10.7s\n",
      "[Parallel(n_jobs=-1)]: Done 146 tasks      | elapsed:  1.1min\n",
      "[Parallel(n_jobs=-1)]: Done 349 tasks      | elapsed:  2.7min\n",
      "[Parallel(n_jobs=-1)]: Done 632 tasks      | elapsed:  5.0min\n",
      "[Parallel(n_jobs=-1)]: Done 864 out of 864 | elapsed:  6.9min finished\n"
     ]
    },
    {
     "name": "stdout",
     "output_type": "stream",
     "text": [
      "66B _ IB Done.\n",
      "66B_OB\n",
      "Starting 66B\n",
      "Data range is:  2878\n",
      "Features Index(['temp', 'feels_like', 'humidity', 'wind_speed', 'rain_1h', 'clouds_all',\n",
      "       'weather_main', 'Weekday', 'Hour', 'Month', 'TimeOfDay', 'Seasons',\n",
      "       'RushHour'],\n",
      "      dtype='object')\n",
      "Fitting 3 folds for each of 288 candidates, totalling 864 fits\n"
     ]
    },
    {
     "name": "stderr",
     "output_type": "stream",
     "text": [
      "[Parallel(n_jobs=-1)]: Using backend LokyBackend with 8 concurrent workers.\n",
      "[Parallel(n_jobs=-1)]: Done  25 tasks      | elapsed:   10.1s\n",
      "[Parallel(n_jobs=-1)]: Done 146 tasks      | elapsed:  1.1min\n",
      "[Parallel(n_jobs=-1)]: Done 349 tasks      | elapsed:  2.8min\n",
      "[Parallel(n_jobs=-1)]: Done 632 tasks      | elapsed:  5.3min\n",
      "[Parallel(n_jobs=-1)]: Done 864 out of 864 | elapsed:  7.3min finished\n"
     ]
    },
    {
     "name": "stdout",
     "output_type": "stream",
     "text": [
      "66B _ OB Done.\n",
      "66X_IB\n",
      "Starting 66X\n",
      "Data range is:  575\n",
      "Features Index(['temp', 'feels_like', 'humidity', 'wind_speed', 'rain_1h', 'clouds_all',\n",
      "       'weather_main', 'Weekday', 'Hour', 'Month', 'TimeOfDay', 'Seasons',\n",
      "       'RushHour'],\n",
      "      dtype='object')\n",
      "Fitting 3 folds for each of 288 candidates, totalling 864 fits\n"
     ]
    },
    {
     "name": "stderr",
     "output_type": "stream",
     "text": [
      "[Parallel(n_jobs=-1)]: Using backend LokyBackend with 8 concurrent workers.\n",
      "[Parallel(n_jobs=-1)]: Done  25 tasks      | elapsed:    7.2s\n",
      "[Parallel(n_jobs=-1)]: Done 146 tasks      | elapsed:   48.4s\n",
      "[Parallel(n_jobs=-1)]: Done 349 tasks      | elapsed:  1.9min\n",
      "[Parallel(n_jobs=-1)]: Done 632 tasks      | elapsed:  3.5min\n",
      "[Parallel(n_jobs=-1)]: Done 864 out of 864 | elapsed:  4.9min finished\n"
     ]
    },
    {
     "name": "stdout",
     "output_type": "stream",
     "text": [
      "66X _ IB Done.\n",
      "66X_OB\n",
      "Starting 66X\n",
      "Data range is:  516\n",
      "Features Index(['temp', 'feels_like', 'humidity', 'wind_speed', 'rain_1h', 'clouds_all',\n",
      "       'weather_main', 'Weekday', 'Hour', 'Month', 'TimeOfDay', 'Seasons',\n",
      "       'RushHour'],\n",
      "      dtype='object')\n",
      "Fitting 3 folds for each of 288 candidates, totalling 864 fits\n"
     ]
    },
    {
     "name": "stderr",
     "output_type": "stream",
     "text": [
      "[Parallel(n_jobs=-1)]: Using backend LokyBackend with 8 concurrent workers.\n",
      "[Parallel(n_jobs=-1)]: Done  25 tasks      | elapsed:    8.6s\n",
      "[Parallel(n_jobs=-1)]: Done 146 tasks      | elapsed:   47.5s\n",
      "[Parallel(n_jobs=-1)]: Done 349 tasks      | elapsed:  1.9min\n",
      "[Parallel(n_jobs=-1)]: Done 632 tasks      | elapsed:  3.5min\n",
      "[Parallel(n_jobs=-1)]: Done 864 out of 864 | elapsed:  4.8min finished\n"
     ]
    },
    {
     "name": "stdout",
     "output_type": "stream",
     "text": [
      "66X _ OB Done.\n",
      "66_IB\n",
      "Starting 66\n",
      "Data range is:  5556\n",
      "Features Index(['temp', 'feels_like', 'humidity', 'wind_speed', 'rain_1h', 'clouds_all',\n",
      "       'weather_main', 'Weekday', 'Hour', 'Month', 'TimeOfDay', 'Seasons',\n",
      "       'RushHour'],\n",
      "      dtype='object')\n",
      "Fitting 3 folds for each of 288 candidates, totalling 864 fits\n"
     ]
    },
    {
     "name": "stderr",
     "output_type": "stream",
     "text": [
      "[Parallel(n_jobs=-1)]: Using backend LokyBackend with 8 concurrent workers.\n",
      "[Parallel(n_jobs=-1)]: Done  25 tasks      | elapsed:   14.9s\n",
      "[Parallel(n_jobs=-1)]: Done 146 tasks      | elapsed:  1.6min\n",
      "[Parallel(n_jobs=-1)]: Done 349 tasks      | elapsed:  3.8min\n",
      "[Parallel(n_jobs=-1)]: Done 632 tasks      | elapsed:  7.0min\n",
      "[Parallel(n_jobs=-1)]: Done 864 out of 864 | elapsed: 10.0min finished\n"
     ]
    },
    {
     "name": "stdout",
     "output_type": "stream",
     "text": [
      "66 _ IB Done.\n",
      "66_OB\n",
      "Starting 66\n",
      "Data range is:  6421\n",
      "Features Index(['temp', 'feels_like', 'humidity', 'wind_speed', 'rain_1h', 'clouds_all',\n",
      "       'weather_main', 'Weekday', 'Hour', 'Month', 'TimeOfDay', 'Seasons',\n",
      "       'RushHour'],\n",
      "      dtype='object')\n",
      "Fitting 3 folds for each of 288 candidates, totalling 864 fits\n"
     ]
    },
    {
     "name": "stderr",
     "output_type": "stream",
     "text": [
      "[Parallel(n_jobs=-1)]: Using backend LokyBackend with 8 concurrent workers.\n",
      "[Parallel(n_jobs=-1)]: Done  25 tasks      | elapsed:   15.2s\n",
      "[Parallel(n_jobs=-1)]: Done 146 tasks      | elapsed:  1.7min\n",
      "[Parallel(n_jobs=-1)]: Done 349 tasks      | elapsed:  4.2min\n",
      "[Parallel(n_jobs=-1)]: Done 632 tasks      | elapsed:  7.7min\n",
      "[Parallel(n_jobs=-1)]: Done 864 out of 864 | elapsed: 10.5min finished\n"
     ]
    },
    {
     "name": "stdout",
     "output_type": "stream",
     "text": [
      "66 _ OB Done.\n",
      "67X_IB\n",
      "Starting 67X\n",
      "Data range is:  703\n",
      "Features Index(['temp', 'feels_like', 'humidity', 'wind_speed', 'rain_1h', 'clouds_all',\n",
      "       'weather_main', 'Weekday', 'Hour', 'Month', 'TimeOfDay', 'Seasons',\n",
      "       'RushHour'],\n",
      "      dtype='object')\n",
      "Fitting 3 folds for each of 288 candidates, totalling 864 fits\n"
     ]
    },
    {
     "name": "stderr",
     "output_type": "stream",
     "text": [
      "[Parallel(n_jobs=-1)]: Using backend LokyBackend with 8 concurrent workers.\n",
      "[Parallel(n_jobs=-1)]: Done  25 tasks      | elapsed:    7.7s\n",
      "[Parallel(n_jobs=-1)]: Done 146 tasks      | elapsed:   47.3s\n",
      "[Parallel(n_jobs=-1)]: Done 349 tasks      | elapsed:  2.0min\n",
      "[Parallel(n_jobs=-1)]: Done 632 tasks      | elapsed:  3.6min\n",
      "[Parallel(n_jobs=-1)]: Done 864 out of 864 | elapsed:  4.9min finished\n"
     ]
    },
    {
     "name": "stdout",
     "output_type": "stream",
     "text": [
      "67X _ IB Done.\n",
      "67X_OB\n",
      "Starting 67X\n",
      "Data range is:  535\n",
      "Features Index(['temp', 'feels_like', 'humidity', 'wind_speed', 'rain_1h', 'clouds_all',\n",
      "       'weather_main', 'Weekday', 'Hour', 'Month', 'TimeOfDay', 'Seasons',\n",
      "       'RushHour'],\n",
      "      dtype='object')\n",
      "Fitting 3 folds for each of 288 candidates, totalling 864 fits\n"
     ]
    },
    {
     "name": "stderr",
     "output_type": "stream",
     "text": [
      "[Parallel(n_jobs=-1)]: Using backend LokyBackend with 8 concurrent workers.\n",
      "[Parallel(n_jobs=-1)]: Done  25 tasks      | elapsed:    7.6s\n",
      "[Parallel(n_jobs=-1)]: Done 146 tasks      | elapsed:   47.8s\n",
      "[Parallel(n_jobs=-1)]: Done 349 tasks      | elapsed:  1.9min\n",
      "[Parallel(n_jobs=-1)]: Done 632 tasks      | elapsed:  3.4min\n",
      "[Parallel(n_jobs=-1)]: Done 864 out of 864 | elapsed:  4.8min finished\n"
     ]
    },
    {
     "name": "stdout",
     "output_type": "stream",
     "text": [
      "67X _ OB Done.\n",
      "67_IB\n",
      "Starting 67\n",
      "Data range is:  9037\n",
      "Features Index(['temp', 'feels_like', 'humidity', 'wind_speed', 'rain_1h', 'clouds_all',\n",
      "       'weather_main', 'Weekday', 'Hour', 'Month', 'TimeOfDay', 'Seasons',\n",
      "       'RushHour'],\n",
      "      dtype='object')\n",
      "Fitting 3 folds for each of 288 candidates, totalling 864 fits\n"
     ]
    },
    {
     "name": "stderr",
     "output_type": "stream",
     "text": [
      "[Parallel(n_jobs=-1)]: Using backend LokyBackend with 8 concurrent workers.\n",
      "[Parallel(n_jobs=-1)]: Done  25 tasks      | elapsed:   27.7s\n",
      "[Parallel(n_jobs=-1)]: Done 146 tasks      | elapsed:  2.3min\n",
      "[Parallel(n_jobs=-1)]: Done 349 tasks      | elapsed:  5.6min\n",
      "[Parallel(n_jobs=-1)]: Done 632 tasks      | elapsed: 10.2min\n",
      "[Parallel(n_jobs=-1)]: Done 864 out of 864 | elapsed: 13.9min finished\n"
     ]
    },
    {
     "name": "stdout",
     "output_type": "stream",
     "text": [
      "67 _ IB Done.\n",
      "67_OB\n",
      "Starting 67\n",
      "Data range is:  10705\n",
      "Features Index(['temp', 'feels_like', 'humidity', 'wind_speed', 'rain_1h', 'clouds_all',\n",
      "       'weather_main', 'Weekday', 'Hour', 'Month', 'TimeOfDay', 'Seasons',\n",
      "       'RushHour'],\n",
      "      dtype='object')\n",
      "Fitting 3 folds for each of 288 candidates, totalling 864 fits\n"
     ]
    },
    {
     "name": "stderr",
     "output_type": "stream",
     "text": [
      "[Parallel(n_jobs=-1)]: Using backend LokyBackend with 8 concurrent workers.\n",
      "[Parallel(n_jobs=-1)]: Done  25 tasks      | elapsed:   29.0s\n",
      "[Parallel(n_jobs=-1)]: Done 146 tasks      | elapsed:  2.5min\n",
      "[Parallel(n_jobs=-1)]: Done 349 tasks      | elapsed:  6.1min\n",
      "[Parallel(n_jobs=-1)]: Done 632 tasks      | elapsed: 11.3min\n",
      "[Parallel(n_jobs=-1)]: Done 864 out of 864 | elapsed: 15.5min finished\n"
     ]
    },
    {
     "name": "stdout",
     "output_type": "stream",
     "text": [
      "67 _ OB Done.\n",
      "68A_IB\n",
      "Starting 68A\n",
      "Data range is:  364\n",
      "Features Index(['temp', 'feels_like', 'humidity', 'wind_speed', 'rain_1h', 'clouds_all',\n",
      "       'weather_main', 'Weekday', 'Hour', 'Month', 'TimeOfDay', 'Seasons',\n",
      "       'RushHour'],\n",
      "      dtype='object')\n"
     ]
    },
    {
     "name": "stderr",
     "output_type": "stream",
     "text": [
      "[Parallel(n_jobs=-1)]: Using backend LokyBackend with 8 concurrent workers.\n"
     ]
    },
    {
     "name": "stdout",
     "output_type": "stream",
     "text": [
      "Fitting 3 folds for each of 288 candidates, totalling 864 fits\n"
     ]
    },
    {
     "name": "stderr",
     "output_type": "stream",
     "text": [
      "[Parallel(n_jobs=-1)]: Done  25 tasks      | elapsed:    6.8s\n",
      "[Parallel(n_jobs=-1)]: Done 146 tasks      | elapsed:   43.5s\n",
      "[Parallel(n_jobs=-1)]: Done 349 tasks      | elapsed:  1.8min\n",
      "[Parallel(n_jobs=-1)]: Done 632 tasks      | elapsed:  3.3min\n",
      "[Parallel(n_jobs=-1)]: Done 864 out of 864 | elapsed:  4.6min finished\n"
     ]
    },
    {
     "name": "stdout",
     "output_type": "stream",
     "text": [
      "68A _ IB Done.\n",
      "68A_OB\n",
      "Starting 68A\n",
      "Data range is:  738\n",
      "Features Index(['temp', 'feels_like', 'humidity', 'wind_speed', 'rain_1h', 'clouds_all',\n",
      "       'weather_main', 'Weekday', 'Hour', 'Month', 'TimeOfDay', 'Seasons',\n",
      "       'RushHour'],\n",
      "      dtype='object')\n",
      "Fitting 3 folds for each of 288 candidates, totalling 864 fits\n"
     ]
    },
    {
     "name": "stderr",
     "output_type": "stream",
     "text": [
      "[Parallel(n_jobs=-1)]: Using backend LokyBackend with 8 concurrent workers.\n",
      "[Parallel(n_jobs=-1)]: Done  25 tasks      | elapsed:    7.8s\n",
      "[Parallel(n_jobs=-1)]: Done 146 tasks      | elapsed:   48.7s\n",
      "[Parallel(n_jobs=-1)]: Done 349 tasks      | elapsed:  2.0min\n",
      "[Parallel(n_jobs=-1)]: Done 632 tasks      | elapsed:  3.6min\n",
      "[Parallel(n_jobs=-1)]: Done 864 out of 864 | elapsed:  4.9min finished\n"
     ]
    },
    {
     "name": "stdout",
     "output_type": "stream",
     "text": [
      "68A _ OB Done.\n",
      "68X_IB\n",
      "Starting 68X\n",
      "Data range is:  47\n",
      "Features Index(['temp', 'feels_like', 'humidity', 'wind_speed', 'rain_1h', 'clouds_all',\n",
      "       'weather_main', 'Weekday', 'Hour', 'Month', 'TimeOfDay', 'Seasons',\n",
      "       'RushHour'],\n",
      "      dtype='object')\n",
      "Fitting 3 folds for each of 288 candidates, totalling 864 fits\n"
     ]
    },
    {
     "name": "stderr",
     "output_type": "stream",
     "text": [
      "[Parallel(n_jobs=-1)]: Using backend LokyBackend with 8 concurrent workers.\n",
      "[Parallel(n_jobs=-1)]: Done  25 tasks      | elapsed:    6.8s\n",
      "[Parallel(n_jobs=-1)]: Done 146 tasks      | elapsed:   43.1s\n",
      "[Parallel(n_jobs=-1)]: Done 349 tasks      | elapsed:  1.7min\n",
      "[Parallel(n_jobs=-1)]: Done 632 tasks      | elapsed:  3.1min\n",
      "[Parallel(n_jobs=-1)]: Done 864 out of 864 | elapsed:  4.3min finished\n"
     ]
    },
    {
     "name": "stdout",
     "output_type": "stream",
     "text": [
      "68X _ IB Done.\n",
      "68_IB\n",
      "Starting 68\n",
      "Data range is:  2536\n",
      "Features Index(['temp', 'feels_like', 'humidity', 'wind_speed', 'rain_1h', 'clouds_all',\n",
      "       'weather_main', 'Weekday', 'Hour', 'Month', 'TimeOfDay', 'Seasons',\n",
      "       'RushHour'],\n",
      "      dtype='object')\n",
      "Fitting 3 folds for each of 288 candidates, totalling 864 fits\n"
     ]
    },
    {
     "name": "stderr",
     "output_type": "stream",
     "text": [
      "[Parallel(n_jobs=-1)]: Using backend LokyBackend with 8 concurrent workers.\n",
      "[Parallel(n_jobs=-1)]: Done  25 tasks      | elapsed:    9.7s\n",
      "[Parallel(n_jobs=-1)]: Done 146 tasks      | elapsed:  1.1min\n",
      "[Parallel(n_jobs=-1)]: Done 349 tasks      | elapsed:  2.6min\n",
      "[Parallel(n_jobs=-1)]: Done 632 tasks      | elapsed:  4.9min\n",
      "[Parallel(n_jobs=-1)]: Done 864 out of 864 | elapsed:  6.7min finished\n"
     ]
    },
    {
     "name": "stdout",
     "output_type": "stream",
     "text": [
      "68 _ IB Done.\n",
      "68_OB\n",
      "Starting 68\n",
      "Data range is:  2853\n",
      "Features Index(['temp', 'feels_like', 'humidity', 'wind_speed', 'rain_1h', 'clouds_all',\n",
      "       'weather_main', 'Weekday', 'Hour', 'Month', 'TimeOfDay', 'Seasons',\n",
      "       'RushHour'],\n",
      "      dtype='object')\n",
      "Fitting 3 folds for each of 288 candidates, totalling 864 fits\n"
     ]
    },
    {
     "name": "stderr",
     "output_type": "stream",
     "text": [
      "[Parallel(n_jobs=-1)]: Using backend LokyBackend with 8 concurrent workers.\n",
      "[Parallel(n_jobs=-1)]: Done  25 tasks      | elapsed:   10.6s\n",
      "[Parallel(n_jobs=-1)]: Done 146 tasks      | elapsed:  1.1min\n",
      "[Parallel(n_jobs=-1)]: Done 349 tasks      | elapsed:  2.7min\n",
      "[Parallel(n_jobs=-1)]: Done 632 tasks      | elapsed:  5.0min\n",
      "[Parallel(n_jobs=-1)]: Done 864 out of 864 | elapsed:  6.9min finished\n"
     ]
    },
    {
     "name": "stdout",
     "output_type": "stream",
     "text": [
      "68 _ OB Done.\n",
      "69X_IB\n",
      "Starting 69X\n",
      "Data range is:  149\n",
      "Features Index(['temp', 'feels_like', 'humidity', 'wind_speed', 'rain_1h', 'clouds_all',\n",
      "       'weather_main', 'Weekday', 'Hour', 'Month', 'TimeOfDay', 'Seasons',\n",
      "       'RushHour'],\n",
      "      dtype='object')\n",
      "Fitting 3 folds for each of 288 candidates, totalling 864 fits\n"
     ]
    },
    {
     "name": "stderr",
     "output_type": "stream",
     "text": [
      "[Parallel(n_jobs=-1)]: Using backend LokyBackend with 8 concurrent workers.\n",
      "[Parallel(n_jobs=-1)]: Done  25 tasks      | elapsed:    6.4s\n",
      "[Parallel(n_jobs=-1)]: Done 146 tasks      | elapsed:   42.5s\n",
      "[Parallel(n_jobs=-1)]: Done 349 tasks      | elapsed:  1.7min\n",
      "[Parallel(n_jobs=-1)]: Done 632 tasks      | elapsed:  3.1min\n",
      "[Parallel(n_jobs=-1)]: Done 864 out of 864 | elapsed:  4.3min finished\n"
     ]
    },
    {
     "name": "stdout",
     "output_type": "stream",
     "text": [
      "69X _ IB Done.\n",
      "69X_OB\n",
      "Starting 69X\n",
      "Data range is:  234\n",
      "Features Index(['temp', 'feels_like', 'humidity', 'wind_speed', 'rain_1h', 'clouds_all',\n",
      "       'weather_main', 'Weekday', 'Hour', 'Month', 'TimeOfDay', 'Seasons',\n",
      "       'RushHour'],\n",
      "      dtype='object')\n",
      "Fitting 3 folds for each of 288 candidates, totalling 864 fits\n"
     ]
    },
    {
     "name": "stderr",
     "output_type": "stream",
     "text": [
      "[Parallel(n_jobs=-1)]: Using backend LokyBackend with 8 concurrent workers.\n",
      "[Parallel(n_jobs=-1)]: Done  25 tasks      | elapsed:    6.7s\n",
      "[Parallel(n_jobs=-1)]: Done 146 tasks      | elapsed:   43.0s\n",
      "[Parallel(n_jobs=-1)]: Done 349 tasks      | elapsed:  1.7min\n",
      "[Parallel(n_jobs=-1)]: Done 632 tasks      | elapsed:  3.2min\n",
      "[Parallel(n_jobs=-1)]: Done 864 out of 864 | elapsed:  4.3min finished\n"
     ]
    },
    {
     "name": "stdout",
     "output_type": "stream",
     "text": [
      "69X _ OB Done.\n",
      "69_IB\n",
      "Starting 69\n",
      "Data range is:  2849\n",
      "Features Index(['temp', 'feels_like', 'humidity', 'wind_speed', 'rain_1h', 'clouds_all',\n",
      "       'weather_main', 'Weekday', 'Hour', 'Month', 'TimeOfDay', 'Seasons',\n",
      "       'RushHour'],\n",
      "      dtype='object')\n",
      "Fitting 3 folds for each of 288 candidates, totalling 864 fits\n"
     ]
    },
    {
     "name": "stderr",
     "output_type": "stream",
     "text": [
      "[Parallel(n_jobs=-1)]: Using backend LokyBackend with 8 concurrent workers.\n",
      "[Parallel(n_jobs=-1)]: Done  25 tasks      | elapsed:   10.2s\n",
      "[Parallel(n_jobs=-1)]: Done 146 tasks      | elapsed:  1.1min\n",
      "[Parallel(n_jobs=-1)]: Done 349 tasks      | elapsed:  2.7min\n",
      "[Parallel(n_jobs=-1)]: Done 632 tasks      | elapsed:  5.0min\n",
      "[Parallel(n_jobs=-1)]: Done 864 out of 864 | elapsed:  6.9min finished\n"
     ]
    },
    {
     "name": "stdout",
     "output_type": "stream",
     "text": [
      "69 _ IB Done.\n",
      "69_OB\n",
      "Starting 69\n",
      "Data range is:  3071\n",
      "Features Index(['temp', 'feels_like', 'humidity', 'wind_speed', 'rain_1h', 'clouds_all',\n",
      "       'weather_main', 'Weekday', 'Hour', 'Month', 'TimeOfDay', 'Seasons',\n",
      "       'RushHour'],\n",
      "      dtype='object')\n",
      "Fitting 3 folds for each of 288 candidates, totalling 864 fits\n"
     ]
    },
    {
     "name": "stderr",
     "output_type": "stream",
     "text": [
      "[Parallel(n_jobs=-1)]: Using backend LokyBackend with 8 concurrent workers.\n",
      "[Parallel(n_jobs=-1)]: Done  25 tasks      | elapsed:   10.1s\n",
      "[Parallel(n_jobs=-1)]: Done 146 tasks      | elapsed:  1.1min\n",
      "[Parallel(n_jobs=-1)]: Done 349 tasks      | elapsed:  2.8min\n",
      "[Parallel(n_jobs=-1)]: Done 632 tasks      | elapsed:  5.1min\n",
      "[Parallel(n_jobs=-1)]: Done 864 out of 864 | elapsed:  7.0min finished\n"
     ]
    },
    {
     "name": "stdout",
     "output_type": "stream",
     "text": [
      "69 _ OB Done.\n",
      "70D_IB\n",
      "Starting 70D\n",
      "Data range is:  137\n",
      "Features Index(['temp', 'feels_like', 'humidity', 'wind_speed', 'rain_1h', 'clouds_all',\n",
      "       'weather_main', 'Weekday', 'Hour', 'Month', 'TimeOfDay', 'Seasons',\n",
      "       'RushHour'],\n",
      "      dtype='object')\n",
      "Fitting 3 folds for each of 288 candidates, totalling 864 fits\n"
     ]
    },
    {
     "name": "stderr",
     "output_type": "stream",
     "text": [
      "[Parallel(n_jobs=-1)]: Using backend LokyBackend with 8 concurrent workers.\n",
      "[Parallel(n_jobs=-1)]: Done  25 tasks      | elapsed:    6.5s\n",
      "[Parallel(n_jobs=-1)]: Done 146 tasks      | elapsed:   41.9s\n",
      "[Parallel(n_jobs=-1)]: Done 349 tasks      | elapsed:  1.7min\n",
      "[Parallel(n_jobs=-1)]: Done 632 tasks      | elapsed:  3.1min\n",
      "[Parallel(n_jobs=-1)]: Done 864 out of 864 | elapsed:  4.4min finished\n"
     ]
    },
    {
     "name": "stdout",
     "output_type": "stream",
     "text": [
      "70D _ IB Done.\n",
      "70D_OB\n",
      "Starting 70D\n",
      "Data range is:  168\n",
      "Features Index(['temp', 'feels_like', 'humidity', 'wind_speed', 'rain_1h', 'clouds_all',\n",
      "       'weather_main', 'Weekday', 'Hour', 'Month', 'TimeOfDay', 'Seasons',\n",
      "       'RushHour'],\n",
      "      dtype='object')\n",
      "Fitting 3 folds for each of 288 candidates, totalling 864 fits\n"
     ]
    },
    {
     "name": "stderr",
     "output_type": "stream",
     "text": [
      "[Parallel(n_jobs=-1)]: Using backend LokyBackend with 8 concurrent workers.\n",
      "[Parallel(n_jobs=-1)]: Done  25 tasks      | elapsed:    6.5s\n",
      "[Parallel(n_jobs=-1)]: Done 146 tasks      | elapsed:   42.1s\n",
      "[Parallel(n_jobs=-1)]: Done 349 tasks      | elapsed:  1.7min\n",
      "[Parallel(n_jobs=-1)]: Done 632 tasks      | elapsed:  3.1min\n",
      "[Parallel(n_jobs=-1)]: Done 864 out of 864 | elapsed:  4.3min finished\n"
     ]
    },
    {
     "name": "stdout",
     "output_type": "stream",
     "text": [
      "70D _ OB Done.\n",
      "70_IB\n",
      "Starting 70\n",
      "Data range is:  5228\n",
      "Features Index(['temp', 'feels_like', 'humidity', 'wind_speed', 'rain_1h', 'clouds_all',\n",
      "       'weather_main', 'Weekday', 'Hour', 'Month', 'TimeOfDay', 'Seasons',\n",
      "       'RushHour'],\n",
      "      dtype='object')\n",
      "Fitting 3 folds for each of 288 candidates, totalling 864 fits\n"
     ]
    },
    {
     "name": "stderr",
     "output_type": "stream",
     "text": [
      "[Parallel(n_jobs=-1)]: Using backend LokyBackend with 8 concurrent workers.\n",
      "[Parallel(n_jobs=-1)]: Done  25 tasks      | elapsed:   13.9s\n",
      "[Parallel(n_jobs=-1)]: Done 146 tasks      | elapsed:  1.5min\n",
      "[Parallel(n_jobs=-1)]: Done 349 tasks      | elapsed:  3.7min\n",
      "[Parallel(n_jobs=-1)]: Done 632 tasks      | elapsed:  6.9min\n",
      "[Parallel(n_jobs=-1)]: Done 864 out of 864 | elapsed:  9.5min finished\n"
     ]
    },
    {
     "name": "stdout",
     "output_type": "stream",
     "text": [
      "70 _ IB Done.\n",
      "70_OB\n",
      "Starting 70\n",
      "Data range is:  6364\n",
      "Features Index(['temp', 'feels_like', 'humidity', 'wind_speed', 'rain_1h', 'clouds_all',\n",
      "       'weather_main', 'Weekday', 'Hour', 'Month', 'TimeOfDay', 'Seasons',\n",
      "       'RushHour'],\n",
      "      dtype='object')\n",
      "Fitting 3 folds for each of 288 candidates, totalling 864 fits\n"
     ]
    },
    {
     "name": "stderr",
     "output_type": "stream",
     "text": [
      "[Parallel(n_jobs=-1)]: Using backend LokyBackend with 8 concurrent workers.\n",
      "[Parallel(n_jobs=-1)]: Done  25 tasks      | elapsed:   15.1s\n",
      "[Parallel(n_jobs=-1)]: Done 146 tasks      | elapsed:  1.7min\n",
      "[Parallel(n_jobs=-1)]: Done 349 tasks      | elapsed:  4.2min\n",
      "[Parallel(n_jobs=-1)]: Done 632 tasks      | elapsed:  7.8min\n",
      "[Parallel(n_jobs=-1)]: Done 864 out of 864 | elapsed: 10.7min finished\n"
     ]
    },
    {
     "name": "stdout",
     "output_type": "stream",
     "text": [
      "70 _ OB Done.\n",
      "75_IB\n",
      "Starting 75\n",
      "Data range is:  7536\n",
      "Features Index(['temp', 'feels_like', 'humidity', 'wind_speed', 'rain_1h', 'clouds_all',\n",
      "       'weather_main', 'Weekday', 'Hour', 'Month', 'TimeOfDay', 'Seasons',\n",
      "       'RushHour'],\n",
      "      dtype='object')\n",
      "Fitting 3 folds for each of 288 candidates, totalling 864 fits\n"
     ]
    },
    {
     "name": "stderr",
     "output_type": "stream",
     "text": [
      "[Parallel(n_jobs=-1)]: Using backend LokyBackend with 8 concurrent workers.\n",
      "[Parallel(n_jobs=-1)]: Done  25 tasks      | elapsed:   16.5s\n",
      "[Parallel(n_jobs=-1)]: Done 146 tasks      | elapsed:  1.9min\n",
      "[Parallel(n_jobs=-1)]: Done 349 tasks      | elapsed:  4.6min\n",
      "[Parallel(n_jobs=-1)]: Done 632 tasks      | elapsed:  8.6min\n",
      "[Parallel(n_jobs=-1)]: Done 864 out of 864 | elapsed: 11.9min finished\n"
     ]
    },
    {
     "name": "stdout",
     "output_type": "stream",
     "text": [
      "75 _ IB Done.\n",
      "75_OB\n",
      "Starting 75\n",
      "Data range is:  7614\n",
      "Features Index(['temp', 'feels_like', 'humidity', 'wind_speed', 'rain_1h', 'clouds_all',\n",
      "       'weather_main', 'Weekday', 'Hour', 'Month', 'TimeOfDay', 'Seasons',\n",
      "       'RushHour'],\n",
      "      dtype='object')\n",
      "Fitting 3 folds for each of 288 candidates, totalling 864 fits\n"
     ]
    },
    {
     "name": "stderr",
     "output_type": "stream",
     "text": [
      "[Parallel(n_jobs=-1)]: Using backend LokyBackend with 8 concurrent workers.\n",
      "[Parallel(n_jobs=-1)]: Done  25 tasks      | elapsed:   22.1s\n",
      "[Parallel(n_jobs=-1)]: Done 146 tasks      | elapsed:  2.1min\n",
      "[Parallel(n_jobs=-1)]: Done 349 tasks      | elapsed:  5.0min\n",
      "[Parallel(n_jobs=-1)]: Done 632 tasks      | elapsed:  9.3min\n",
      "[Parallel(n_jobs=-1)]: Done 864 out of 864 | elapsed: 12.8min finished\n"
     ]
    },
    {
     "name": "stdout",
     "output_type": "stream",
     "text": [
      "75 _ OB Done.\n",
      "76A_IB\n",
      "Starting 76A\n",
      "Data range is:  518\n",
      "Features Index(['temp', 'feels_like', 'humidity', 'wind_speed', 'rain_1h', 'clouds_all',\n",
      "       'weather_main', 'Weekday', 'Hour', 'Month', 'TimeOfDay', 'Seasons',\n",
      "       'RushHour'],\n",
      "      dtype='object')\n",
      "Fitting 3 folds for each of 288 candidates, totalling 864 fits\n"
     ]
    },
    {
     "name": "stderr",
     "output_type": "stream",
     "text": [
      "[Parallel(n_jobs=-1)]: Using backend LokyBackend with 8 concurrent workers.\n",
      "[Parallel(n_jobs=-1)]: Done  25 tasks      | elapsed:    7.5s\n",
      "[Parallel(n_jobs=-1)]: Done 146 tasks      | elapsed:   48.8s\n",
      "[Parallel(n_jobs=-1)]: Done 349 tasks      | elapsed:  2.0min\n",
      "[Parallel(n_jobs=-1)]: Done 632 tasks      | elapsed:  3.7min\n",
      "[Parallel(n_jobs=-1)]: Done 864 out of 864 | elapsed:  5.0min finished\n"
     ]
    },
    {
     "name": "stdout",
     "output_type": "stream",
     "text": [
      "76A _ IB Done.\n",
      "76A_OB\n",
      "Starting 76A\n",
      "Data range is:  496\n",
      "Features Index(['temp', 'feels_like', 'humidity', 'wind_speed', 'rain_1h', 'clouds_all',\n",
      "       'weather_main', 'Weekday', 'Hour', 'Month', 'TimeOfDay', 'Seasons',\n",
      "       'RushHour'],\n",
      "      dtype='object')\n",
      "Fitting 3 folds for each of 288 candidates, totalling 864 fits\n"
     ]
    },
    {
     "name": "stderr",
     "output_type": "stream",
     "text": [
      "[Parallel(n_jobs=-1)]: Using backend LokyBackend with 8 concurrent workers.\n",
      "[Parallel(n_jobs=-1)]: Done  25 tasks      | elapsed:    8.5s\n",
      "[Parallel(n_jobs=-1)]: Done 146 tasks      | elapsed:   50.9s\n",
      "[Parallel(n_jobs=-1)]: Done 349 tasks      | elapsed:  2.1min\n",
      "[Parallel(n_jobs=-1)]: Done 632 tasks      | elapsed:  3.8min\n",
      "[Parallel(n_jobs=-1)]: Done 864 out of 864 | elapsed:  5.2min finished\n"
     ]
    },
    {
     "name": "stdout",
     "output_type": "stream",
     "text": [
      "76A _ OB Done.\n",
      "76_IB\n",
      "Starting 76\n",
      "Data range is:  9768\n",
      "Features Index(['temp', 'feels_like', 'humidity', 'wind_speed', 'rain_1h', 'clouds_all',\n",
      "       'weather_main', 'Weekday', 'Hour', 'Month', 'TimeOfDay', 'Seasons',\n",
      "       'RushHour'],\n",
      "      dtype='object')\n",
      "Fitting 3 folds for each of 288 candidates, totalling 864 fits\n"
     ]
    },
    {
     "name": "stderr",
     "output_type": "stream",
     "text": [
      "[Parallel(n_jobs=-1)]: Using backend LokyBackend with 8 concurrent workers.\n",
      "[Parallel(n_jobs=-1)]: Done  25 tasks      | elapsed:   28.8s\n",
      "[Parallel(n_jobs=-1)]: Done 146 tasks      | elapsed:  2.6min\n",
      "[Parallel(n_jobs=-1)]: Done 349 tasks      | elapsed:  6.1min\n",
      "[Parallel(n_jobs=-1)]: Done 632 tasks      | elapsed: 11.4min\n",
      "[Parallel(n_jobs=-1)]: Done 864 out of 864 | elapsed: 15.8min finished\n"
     ]
    },
    {
     "name": "stdout",
     "output_type": "stream",
     "text": [
      "76 _ IB Done.\n",
      "76_OB\n",
      "Starting 76\n",
      "Data range is:  11114\n",
      "Features Index(['temp', 'feels_like', 'humidity', 'wind_speed', 'rain_1h', 'clouds_all',\n",
      "       'weather_main', 'Weekday', 'Hour', 'Month', 'TimeOfDay', 'Seasons',\n",
      "       'RushHour'],\n",
      "      dtype='object')\n",
      "Fitting 3 folds for each of 288 candidates, totalling 864 fits\n"
     ]
    },
    {
     "name": "stderr",
     "output_type": "stream",
     "text": [
      "[Parallel(n_jobs=-1)]: Using backend LokyBackend with 8 concurrent workers.\n",
      "[Parallel(n_jobs=-1)]: Done  25 tasks      | elapsed:   34.1s\n",
      "[Parallel(n_jobs=-1)]: Done 146 tasks      | elapsed:  2.7min\n",
      "[Parallel(n_jobs=-1)]: Done 349 tasks      | elapsed:  6.4min\n",
      "[Parallel(n_jobs=-1)]: Done 632 tasks      | elapsed: 11.8min\n",
      "[Parallel(n_jobs=-1)]: Done 864 out of 864 | elapsed: 16.2min finished\n"
     ]
    },
    {
     "name": "stdout",
     "output_type": "stream",
     "text": [
      "76 _ OB Done.\n",
      "77A_IB\n",
      "Starting 77A\n",
      "Data range is:  12741\n",
      "Features Index(['temp', 'feels_like', 'humidity', 'wind_speed', 'rain_1h', 'clouds_all',\n",
      "       'weather_main', 'Weekday', 'Hour', 'Month', 'TimeOfDay', 'Seasons',\n",
      "       'RushHour'],\n",
      "      dtype='object')\n",
      "Fitting 3 folds for each of 288 candidates, totalling 864 fits\n"
     ]
    },
    {
     "name": "stderr",
     "output_type": "stream",
     "text": [
      "[Parallel(n_jobs=-1)]: Using backend LokyBackend with 8 concurrent workers.\n",
      "[Parallel(n_jobs=-1)]: Done  25 tasks      | elapsed:   31.5s\n",
      "[Parallel(n_jobs=-1)]: Done 146 tasks      | elapsed:  2.9min\n",
      "[Parallel(n_jobs=-1)]: Done 349 tasks      | elapsed:  7.0min\n",
      "[Parallel(n_jobs=-1)]: Done 632 tasks      | elapsed: 12.9min\n",
      "[Parallel(n_jobs=-1)]: Done 864 out of 864 | elapsed: 17.7min finished\n"
     ]
    },
    {
     "name": "stdout",
     "output_type": "stream",
     "text": [
      "77A _ IB Done.\n",
      "77A_OB\n",
      "Starting 77A\n",
      "Data range is:  11701\n",
      "Features Index(['temp', 'feels_like', 'humidity', 'wind_speed', 'rain_1h', 'clouds_all',\n",
      "       'weather_main', 'Weekday', 'Hour', 'Month', 'TimeOfDay', 'Seasons',\n",
      "       'RushHour'],\n",
      "      dtype='object')\n",
      "Fitting 3 folds for each of 288 candidates, totalling 864 fits\n"
     ]
    },
    {
     "name": "stderr",
     "output_type": "stream",
     "text": [
      "[Parallel(n_jobs=-1)]: Using backend LokyBackend with 8 concurrent workers.\n",
      "[Parallel(n_jobs=-1)]: Done  25 tasks      | elapsed:   31.3s\n",
      "[Parallel(n_jobs=-1)]: Done 146 tasks      | elapsed:  2.7min\n",
      "[Parallel(n_jobs=-1)]: Done 349 tasks      | elapsed:  6.6min\n",
      "[Parallel(n_jobs=-1)]: Done 632 tasks      | elapsed: 12.1min\n",
      "[Parallel(n_jobs=-1)]: Done 864 out of 864 | elapsed: 16.6min finished\n"
     ]
    },
    {
     "name": "stdout",
     "output_type": "stream",
     "text": [
      "77A _ OB Done.\n",
      "77X_IB\n",
      "Starting 77X\n",
      "Data range is:  175\n",
      "Features Index(['temp', 'feels_like', 'humidity', 'wind_speed', 'rain_1h', 'clouds_all',\n",
      "       'weather_main', 'Weekday', 'Hour', 'Month', 'TimeOfDay', 'Seasons',\n",
      "       'RushHour'],\n",
      "      dtype='object')\n",
      "Fitting 3 folds for each of 288 candidates, totalling 864 fits\n"
     ]
    },
    {
     "name": "stderr",
     "output_type": "stream",
     "text": [
      "[Parallel(n_jobs=-1)]: Using backend LokyBackend with 8 concurrent workers.\n",
      "[Parallel(n_jobs=-1)]: Done  25 tasks      | elapsed:    8.3s\n",
      "[Parallel(n_jobs=-1)]: Done 146 tasks      | elapsed:   46.1s\n",
      "[Parallel(n_jobs=-1)]: Done 349 tasks      | elapsed: 111.5min\n",
      "[Parallel(n_jobs=-1)]: Done 632 tasks      | elapsed: 112.0min\n",
      "[Parallel(n_jobs=-1)]: Done 864 out of 864 | elapsed: 112.5min finished\n"
     ]
    },
    {
     "name": "stdout",
     "output_type": "stream",
     "text": [
      "77X _ IB Done.\n",
      "79A_IB\n",
      "Starting 79A\n",
      "Data range is:  8041\n",
      "Features Index(['temp', 'feels_like', 'humidity', 'wind_speed', 'rain_1h', 'clouds_all',\n",
      "       'weather_main', 'Weekday', 'Hour', 'Month', 'TimeOfDay', 'Seasons',\n",
      "       'RushHour'],\n",
      "      dtype='object')\n",
      "Fitting 3 folds for each of 288 candidates, totalling 864 fits\n"
     ]
    },
    {
     "name": "stderr",
     "output_type": "stream",
     "text": [
      "[Parallel(n_jobs=-1)]: Using backend LokyBackend with 8 concurrent workers.\n",
      "[Parallel(n_jobs=-1)]: Done  25 tasks      | elapsed:    7.1s\n",
      "[Parallel(n_jobs=-1)]: Done 146 tasks      | elapsed:   48.8s\n",
      "[Parallel(n_jobs=-1)]: Done 349 tasks      | elapsed:  2.0min\n",
      "[Parallel(n_jobs=-1)]: Done 632 tasks      | elapsed:  3.7min\n",
      "[Parallel(n_jobs=-1)]: Done 864 out of 864 | elapsed:  4.9min finished\n"
     ]
    },
    {
     "name": "stdout",
     "output_type": "stream",
     "text": [
      "79A _ IB Done.\n",
      "79A_OB\n",
      "Starting 79A\n",
      "Data range is:  8810\n",
      "Features Index(['temp', 'feels_like', 'humidity', 'wind_speed', 'rain_1h', 'clouds_all',\n",
      "       'weather_main', 'Weekday', 'Hour', 'Month', 'TimeOfDay', 'Seasons',\n",
      "       'RushHour'],\n",
      "      dtype='object')\n",
      "Fitting 3 folds for each of 288 candidates, totalling 864 fits\n"
     ]
    },
    {
     "name": "stderr",
     "output_type": "stream",
     "text": [
      "[Parallel(n_jobs=-1)]: Using backend LokyBackend with 8 concurrent workers.\n",
      "[Parallel(n_jobs=-1)]: Done  25 tasks      | elapsed:    7.2s\n",
      "[Parallel(n_jobs=-1)]: Done 146 tasks      | elapsed:   46.9s\n",
      "[Parallel(n_jobs=-1)]: Done 349 tasks      | elapsed:  1.9min\n",
      "[Parallel(n_jobs=-1)]: Done 632 tasks      | elapsed:  3.6min\n",
      "[Parallel(n_jobs=-1)]: Done 864 out of 864 | elapsed:  5.0min finished\n"
     ]
    },
    {
     "name": "stdout",
     "output_type": "stream",
     "text": [
      "79A _ OB Done.\n",
      "79_IB\n",
      "Starting 79\n",
      "Data range is:  9968\n",
      "Features Index(['temp', 'feels_like', 'humidity', 'wind_speed', 'rain_1h', 'clouds_all',\n",
      "       'weather_main', 'Weekday', 'Hour', 'Month', 'TimeOfDay', 'Seasons',\n",
      "       'RushHour'],\n",
      "      dtype='object')\n",
      "Fitting 3 folds for each of 288 candidates, totalling 864 fits\n"
     ]
    },
    {
     "name": "stderr",
     "output_type": "stream",
     "text": [
      "[Parallel(n_jobs=-1)]: Using backend LokyBackend with 8 concurrent workers.\n",
      "[Parallel(n_jobs=-1)]: Done  25 tasks      | elapsed:    7.8s\n",
      "[Parallel(n_jobs=-1)]: Done 146 tasks      | elapsed:   51.7s\n",
      "[Parallel(n_jobs=-1)]: Done 349 tasks      | elapsed:  2.1min\n",
      "[Parallel(n_jobs=-1)]: Done 632 tasks      | elapsed:  4.0min\n",
      "[Parallel(n_jobs=-1)]: Done 864 out of 864 | elapsed:  5.5min finished\n"
     ]
    },
    {
     "name": "stdout",
     "output_type": "stream",
     "text": [
      "79 _ IB Done.\n",
      "79_OB\n",
      "Starting 79\n",
      "Data range is:  11150\n",
      "Features Index(['temp', 'feels_like', 'humidity', 'wind_speed', 'rain_1h', 'clouds_all',\n",
      "       'weather_main', 'Weekday', 'Hour', 'Month', 'TimeOfDay', 'Seasons',\n",
      "       'RushHour'],\n",
      "      dtype='object')\n",
      "Fitting 3 folds for each of 288 candidates, totalling 864 fits\n"
     ]
    },
    {
     "name": "stderr",
     "output_type": "stream",
     "text": [
      "[Parallel(n_jobs=-1)]: Using backend LokyBackend with 8 concurrent workers.\n",
      "[Parallel(n_jobs=-1)]: Done  25 tasks      | elapsed:    8.7s\n",
      "[Parallel(n_jobs=-1)]: Done 146 tasks      | elapsed:   55.6s\n",
      "[Parallel(n_jobs=-1)]: Done 349 tasks      | elapsed:  2.3min\n",
      "[Parallel(n_jobs=-1)]: Done 632 tasks      | elapsed:  4.3min\n",
      "[Parallel(n_jobs=-1)]: Done 864 out of 864 | elapsed:  5.9min finished\n"
     ]
    },
    {
     "name": "stdout",
     "output_type": "stream",
     "text": [
      "79 _ OB Done.\n",
      "7A_IB\n",
      "Starting 7A\n",
      "Data range is:  5407\n",
      "Features Index(['temp', 'feels_like', 'humidity', 'wind_speed', 'rain_1h', 'clouds_all',\n",
      "       'weather_main', 'Weekday', 'Hour', 'Month', 'TimeOfDay', 'Seasons',\n",
      "       'RushHour'],\n",
      "      dtype='object')\n",
      "Fitting 3 folds for each of 288 candidates, totalling 864 fits\n"
     ]
    },
    {
     "name": "stderr",
     "output_type": "stream",
     "text": [
      "[Parallel(n_jobs=-1)]: Using backend LokyBackend with 8 concurrent workers.\n",
      "[Parallel(n_jobs=-1)]: Done  25 tasks      | elapsed:    5.0s\n",
      "[Parallel(n_jobs=-1)]: Done 146 tasks      | elapsed:   33.3s\n",
      "[Parallel(n_jobs=-1)]: Done 349 tasks      | elapsed:  1.4min\n",
      "[Parallel(n_jobs=-1)]: Done 632 tasks      | elapsed:  2.5min\n",
      "[Parallel(n_jobs=-1)]: Done 864 out of 864 | elapsed:  3.5min finished\n"
     ]
    },
    {
     "name": "stdout",
     "output_type": "stream",
     "text": [
      "7A _ IB Done.\n",
      "7A_OB\n",
      "Starting 7A\n",
      "Data range is:  8175\n",
      "Features Index(['temp', 'feels_like', 'humidity', 'wind_speed', 'rain_1h', 'clouds_all',\n",
      "       'weather_main', 'Weekday', 'Hour', 'Month', 'TimeOfDay', 'Seasons',\n",
      "       'RushHour'],\n",
      "      dtype='object')\n",
      "Fitting 3 folds for each of 288 candidates, totalling 864 fits\n"
     ]
    },
    {
     "name": "stderr",
     "output_type": "stream",
     "text": [
      "[Parallel(n_jobs=-1)]: Using backend LokyBackend with 8 concurrent workers.\n",
      "[Parallel(n_jobs=-1)]: Done  25 tasks      | elapsed:    6.4s\n",
      "[Parallel(n_jobs=-1)]: Done 146 tasks      | elapsed:   42.7s\n",
      "[Parallel(n_jobs=-1)]: Done 349 tasks      | elapsed:  1.8min\n",
      "[Parallel(n_jobs=-1)]: Done 632 tasks      | elapsed:  3.3min\n",
      "[Parallel(n_jobs=-1)]: Done 864 out of 864 | elapsed:  4.5min finished\n"
     ]
    },
    {
     "name": "stdout",
     "output_type": "stream",
     "text": [
      "7A _ OB Done.\n",
      "7B_IB\n",
      "Starting 7B\n",
      "Data range is:  1123\n",
      "Features Index(['temp', 'feels_like', 'humidity', 'wind_speed', 'rain_1h', 'clouds_all',\n",
      "       'weather_main', 'Weekday', 'Hour', 'Month', 'TimeOfDay', 'Seasons',\n",
      "       'RushHour'],\n",
      "      dtype='object')\n",
      "Fitting 3 folds for each of 288 candidates, totalling 864 fits\n"
     ]
    },
    {
     "name": "stderr",
     "output_type": "stream",
     "text": [
      "[Parallel(n_jobs=-1)]: Using backend LokyBackend with 8 concurrent workers.\n",
      "[Parallel(n_jobs=-1)]: Done  25 tasks      | elapsed:    2.7s\n",
      "[Parallel(n_jobs=-1)]: Done 146 tasks      | elapsed:   17.7s\n",
      "[Parallel(n_jobs=-1)]: Done 349 tasks      | elapsed:   43.6s\n",
      "[Parallel(n_jobs=-1)]: Done 632 tasks      | elapsed:  1.3min\n",
      "[Parallel(n_jobs=-1)]: Done 864 out of 864 | elapsed:  1.8min finished\n"
     ]
    },
    {
     "name": "stdout",
     "output_type": "stream",
     "text": [
      "7B _ IB Done.\n",
      "7B_OB\n",
      "Starting 7B\n",
      "Data range is:  920\n",
      "Features Index(['temp', 'feels_like', 'humidity', 'wind_speed', 'rain_1h', 'clouds_all',\n",
      "       'weather_main', 'Weekday', 'Hour', 'Month', 'TimeOfDay', 'Seasons',\n",
      "       'RushHour'],\n",
      "      dtype='object')\n",
      "Fitting 3 folds for each of 288 candidates, totalling 864 fits\n"
     ]
    },
    {
     "name": "stderr",
     "output_type": "stream",
     "text": [
      "[Parallel(n_jobs=-1)]: Using backend LokyBackend with 8 concurrent workers.\n",
      "[Parallel(n_jobs=-1)]: Done  25 tasks      | elapsed:    2.6s\n",
      "[Parallel(n_jobs=-1)]: Done 146 tasks      | elapsed:   17.3s\n",
      "[Parallel(n_jobs=-1)]: Done 349 tasks      | elapsed:   42.3s\n",
      "[Parallel(n_jobs=-1)]: Done 632 tasks      | elapsed:  1.3min\n",
      "[Parallel(n_jobs=-1)]: Done 864 out of 864 | elapsed:  1.8min finished\n"
     ]
    },
    {
     "name": "stdout",
     "output_type": "stream",
     "text": [
      "7B _ OB Done.\n",
      "7D_IB\n",
      "Starting 7D\n",
      "Data range is:  219\n",
      "Features Index(['temp', 'feels_like', 'humidity', 'wind_speed', 'rain_1h', 'clouds_all',\n",
      "       'weather_main', 'Weekday', 'Hour', 'Month', 'TimeOfDay', 'Seasons',\n",
      "       'RushHour'],\n",
      "      dtype='object')\n",
      "Fitting 3 folds for each of 288 candidates, totalling 864 fits\n"
     ]
    },
    {
     "name": "stderr",
     "output_type": "stream",
     "text": [
      "[Parallel(n_jobs=-1)]: Using backend LokyBackend with 8 concurrent workers.\n",
      "[Parallel(n_jobs=-1)]: Done  25 tasks      | elapsed:    2.3s\n",
      "[Parallel(n_jobs=-1)]: Done 146 tasks      | elapsed:   15.5s\n",
      "[Parallel(n_jobs=-1)]: Done 349 tasks      | elapsed:   37.7s\n",
      "[Parallel(n_jobs=-1)]: Done 632 tasks      | elapsed:  1.1min\n",
      "[Parallel(n_jobs=-1)]: Done 864 out of 864 | elapsed:  1.6min finished\n"
     ]
    },
    {
     "name": "stdout",
     "output_type": "stream",
     "text": [
      "7D _ IB Done.\n",
      "7D_OB\n",
      "Starting 7D\n",
      "Data range is:  227\n",
      "Features Index(['temp', 'feels_like', 'humidity', 'wind_speed', 'rain_1h', 'clouds_all',\n",
      "       'weather_main', 'Weekday', 'Hour', 'Month', 'TimeOfDay', 'Seasons',\n",
      "       'RushHour'],\n",
      "      dtype='object')\n",
      "Fitting 3 folds for each of 288 candidates, totalling 864 fits\n"
     ]
    },
    {
     "name": "stderr",
     "output_type": "stream",
     "text": [
      "[Parallel(n_jobs=-1)]: Using backend LokyBackend with 8 concurrent workers.\n",
      "[Parallel(n_jobs=-1)]: Done  25 tasks      | elapsed:    2.4s\n",
      "[Parallel(n_jobs=-1)]: Done 146 tasks      | elapsed:   15.5s\n",
      "[Parallel(n_jobs=-1)]: Done 349 tasks      | elapsed:   37.6s\n",
      "[Parallel(n_jobs=-1)]: Done 632 tasks      | elapsed:  1.1min\n",
      "[Parallel(n_jobs=-1)]: Done 864 out of 864 | elapsed:  1.6min finished\n"
     ]
    },
    {
     "name": "stdout",
     "output_type": "stream",
     "text": [
      "7D _ OB Done.\n",
      "7_IB\n",
      "Starting 7\n",
      "Data range is:  5276\n",
      "Features Index(['temp', 'feels_like', 'humidity', 'wind_speed', 'rain_1h', 'clouds_all',\n",
      "       'weather_main', 'Weekday', 'Hour', 'Month', 'TimeOfDay', 'Seasons',\n",
      "       'RushHour'],\n",
      "      dtype='object')\n",
      "Fitting 3 folds for each of 288 candidates, totalling 864 fits\n"
     ]
    },
    {
     "name": "stderr",
     "output_type": "stream",
     "text": [
      "[Parallel(n_jobs=-1)]: Using backend LokyBackend with 8 concurrent workers.\n",
      "[Parallel(n_jobs=-1)]: Done  25 tasks      | elapsed:    4.9s\n",
      "[Parallel(n_jobs=-1)]: Done 146 tasks      | elapsed:   32.9s\n",
      "[Parallel(n_jobs=-1)]: Done 349 tasks      | elapsed:  1.4min\n",
      "[Parallel(n_jobs=-1)]: Done 632 tasks      | elapsed:  2.5min\n",
      "[Parallel(n_jobs=-1)]: Done 864 out of 864 | elapsed:  3.4min finished\n"
     ]
    },
    {
     "name": "stdout",
     "output_type": "stream",
     "text": [
      "7 _ IB Done.\n",
      "7_OB\n",
      "Starting 7\n",
      "Data range is:  6847\n",
      "Features Index(['temp', 'feels_like', 'humidity', 'wind_speed', 'rain_1h', 'clouds_all',\n",
      "       'weather_main', 'Weekday', 'Hour', 'Month', 'TimeOfDay', 'Seasons',\n",
      "       'RushHour'],\n",
      "      dtype='object')\n",
      "Fitting 3 folds for each of 288 candidates, totalling 864 fits\n"
     ]
    },
    {
     "name": "stderr",
     "output_type": "stream",
     "text": [
      "[Parallel(n_jobs=-1)]: Using backend LokyBackend with 8 concurrent workers.\n",
      "[Parallel(n_jobs=-1)]: Done  25 tasks      | elapsed:    5.7s\n",
      "[Parallel(n_jobs=-1)]: Done 146 tasks      | elapsed:   38.0s\n",
      "[Parallel(n_jobs=-1)]: Done 349 tasks      | elapsed:  1.6min\n",
      "[Parallel(n_jobs=-1)]: Done 632 tasks      | elapsed:  2.9min\n",
      "[Parallel(n_jobs=-1)]: Done 864 out of 864 | elapsed:  4.0min finished\n"
     ]
    },
    {
     "name": "stdout",
     "output_type": "stream",
     "text": [
      "7 _ OB Done.\n",
      "83A_IB\n",
      "Starting 83A\n",
      "Data range is:  3691\n",
      "Features Index(['temp', 'feels_like', 'humidity', 'wind_speed', 'rain_1h', 'clouds_all',\n",
      "       'weather_main', 'Weekday', 'Hour', 'Month', 'TimeOfDay', 'Seasons',\n",
      "       'RushHour'],\n",
      "      dtype='object')\n",
      "Fitting 3 folds for each of 288 candidates, totalling 864 fits\n"
     ]
    },
    {
     "name": "stderr",
     "output_type": "stream",
     "text": [
      "[Parallel(n_jobs=-1)]: Using backend LokyBackend with 8 concurrent workers.\n",
      "[Parallel(n_jobs=-1)]: Done  25 tasks      | elapsed:    4.0s\n",
      "[Parallel(n_jobs=-1)]: Done 146 tasks      | elapsed:   27.8s\n",
      "[Parallel(n_jobs=-1)]: Done 349 tasks      | elapsed:  1.1min\n",
      "[Parallel(n_jobs=-1)]: Done 632 tasks      | elapsed:  2.1min\n",
      "[Parallel(n_jobs=-1)]: Done 864 out of 864 | elapsed:  2.9min finished\n"
     ]
    },
    {
     "name": "stdout",
     "output_type": "stream",
     "text": [
      "83A _ IB Done.\n",
      "83A_OB\n",
      "Starting 83A\n",
      "Data range is:  3415\n",
      "Features Index(['temp', 'feels_like', 'humidity', 'wind_speed', 'rain_1h', 'clouds_all',\n",
      "       'weather_main', 'Weekday', 'Hour', 'Month', 'TimeOfDay', 'Seasons',\n",
      "       'RushHour'],\n",
      "      dtype='object')\n",
      "Fitting 3 folds for each of 288 candidates, totalling 864 fits\n"
     ]
    },
    {
     "name": "stderr",
     "output_type": "stream",
     "text": [
      "[Parallel(n_jobs=-1)]: Using backend LokyBackend with 8 concurrent workers.\n",
      "[Parallel(n_jobs=-1)]: Done  25 tasks      | elapsed:    4.4s\n",
      "[Parallel(n_jobs=-1)]: Done 146 tasks      | elapsed:   27.5s\n",
      "[Parallel(n_jobs=-1)]: Done 349 tasks      | elapsed:  1.1min\n",
      "[Parallel(n_jobs=-1)]: Done 632 tasks      | elapsed:  2.1min\n",
      "[Parallel(n_jobs=-1)]: Done 864 out of 864 | elapsed:  2.9min finished\n"
     ]
    },
    {
     "name": "stdout",
     "output_type": "stream",
     "text": [
      "83A _ OB Done.\n",
      "83_IB\n",
      "Starting 83\n",
      "Data range is:  13149\n",
      "Features Index(['temp', 'feels_like', 'humidity', 'wind_speed', 'rain_1h', 'clouds_all',\n",
      "       'weather_main', 'Weekday', 'Hour', 'Month', 'TimeOfDay', 'Seasons',\n",
      "       'RushHour'],\n",
      "      dtype='object')\n",
      "Fitting 3 folds for each of 288 candidates, totalling 864 fits\n"
     ]
    },
    {
     "name": "stderr",
     "output_type": "stream",
     "text": [
      "[Parallel(n_jobs=-1)]: Using backend LokyBackend with 8 concurrent workers.\n",
      "[Parallel(n_jobs=-1)]: Done  25 tasks      | elapsed:   11.6s\n",
      "[Parallel(n_jobs=-1)]: Done 146 tasks      | elapsed:  1.1min\n",
      "[Parallel(n_jobs=-1)]: Done 349 tasks      | elapsed:  2.8min\n",
      "[Parallel(n_jobs=-1)]: Done 632 tasks      | elapsed:  5.4min\n",
      "[Parallel(n_jobs=-1)]: Done 864 out of 864 | elapsed:  7.5min finished\n"
     ]
    },
    {
     "name": "stdout",
     "output_type": "stream",
     "text": [
      "83 _ IB Done.\n",
      "83_OB\n",
      "Starting 83\n",
      "Data range is:  13599\n",
      "Features Index(['temp', 'feels_like', 'humidity', 'wind_speed', 'rain_1h', 'clouds_all',\n",
      "       'weather_main', 'Weekday', 'Hour', 'Month', 'TimeOfDay', 'Seasons',\n",
      "       'RushHour'],\n",
      "      dtype='object')\n",
      "Fitting 3 folds for each of 288 candidates, totalling 864 fits\n"
     ]
    },
    {
     "name": "stderr",
     "output_type": "stream",
     "text": [
      "[Parallel(n_jobs=-1)]: Using backend LokyBackend with 8 concurrent workers.\n",
      "[Parallel(n_jobs=-1)]: Done  25 tasks      | elapsed:   10.8s\n",
      "[Parallel(n_jobs=-1)]: Done 146 tasks      | elapsed:  1.2min\n",
      "[Parallel(n_jobs=-1)]: Done 349 tasks      | elapsed:  2.9min\n",
      "[Parallel(n_jobs=-1)]: Done 632 tasks      | elapsed:  5.3min\n",
      "[Parallel(n_jobs=-1)]: Done 864 out of 864 | elapsed:  7.2min finished\n"
     ]
    },
    {
     "name": "stdout",
     "output_type": "stream",
     "text": [
      "83 _ OB Done.\n",
      "84A_IB\n",
      "Starting 84A\n",
      "Data range is:  1222\n",
      "Features Index(['temp', 'feels_like', 'humidity', 'wind_speed', 'rain_1h', 'clouds_all',\n",
      "       'weather_main', 'Weekday', 'Hour', 'Month', 'TimeOfDay', 'Seasons',\n",
      "       'RushHour'],\n",
      "      dtype='object')\n",
      "Fitting 3 folds for each of 288 candidates, totalling 864 fits\n"
     ]
    },
    {
     "name": "stderr",
     "output_type": "stream",
     "text": [
      "[Parallel(n_jobs=-1)]: Using backend LokyBackend with 8 concurrent workers.\n",
      "[Parallel(n_jobs=-1)]: Done  25 tasks      | elapsed:    3.5s\n",
      "[Parallel(n_jobs=-1)]: Done 146 tasks      | elapsed:   21.6s\n",
      "[Parallel(n_jobs=-1)]: Done 349 tasks      | elapsed:   51.3s\n",
      "[Parallel(n_jobs=-1)]: Done 632 tasks      | elapsed:  1.5min\n",
      "[Parallel(n_jobs=-1)]: Done 864 out of 864 | elapsed:  2.1min finished\n"
     ]
    },
    {
     "name": "stdout",
     "output_type": "stream",
     "text": [
      "84A _ IB Done.\n",
      "84A_OB\n",
      "Starting 84A\n",
      "Data range is:  1377\n",
      "Features Index(['temp', 'feels_like', 'humidity', 'wind_speed', 'rain_1h', 'clouds_all',\n",
      "       'weather_main', 'Weekday', 'Hour', 'Month', 'TimeOfDay', 'Seasons',\n",
      "       'RushHour'],\n",
      "      dtype='object')\n",
      "Fitting 3 folds for each of 288 candidates, totalling 864 fits\n"
     ]
    },
    {
     "name": "stderr",
     "output_type": "stream",
     "text": [
      "[Parallel(n_jobs=-1)]: Using backend LokyBackend with 8 concurrent workers.\n",
      "[Parallel(n_jobs=-1)]: Done  25 tasks      | elapsed:    3.2s\n",
      "[Parallel(n_jobs=-1)]: Done 146 tasks      | elapsed:   20.8s\n",
      "[Parallel(n_jobs=-1)]: Done 349 tasks      | elapsed:   51.7s\n",
      "[Parallel(n_jobs=-1)]: Done 632 tasks      | elapsed:  1.6min\n",
      "[Parallel(n_jobs=-1)]: Done 864 out of 864 | elapsed:  2.2min finished\n"
     ]
    },
    {
     "name": "stdout",
     "output_type": "stream",
     "text": [
      "84A _ OB Done.\n",
      "84X_IB\n",
      "Starting 84X\n",
      "Data range is:  763\n",
      "Features Index(['temp', 'feels_like', 'humidity', 'wind_speed', 'rain_1h', 'clouds_all',\n",
      "       'weather_main', 'Weekday', 'Hour', 'Month', 'TimeOfDay', 'Seasons',\n",
      "       'RushHour'],\n",
      "      dtype='object')\n",
      "Fitting 3 folds for each of 288 candidates, totalling 864 fits\n"
     ]
    },
    {
     "name": "stderr",
     "output_type": "stream",
     "text": [
      "[Parallel(n_jobs=-1)]: Using backend LokyBackend with 8 concurrent workers.\n",
      "[Parallel(n_jobs=-1)]: Done  25 tasks      | elapsed:    3.1s\n",
      "[Parallel(n_jobs=-1)]: Done 146 tasks      | elapsed:   20.3s\n",
      "[Parallel(n_jobs=-1)]: Done 349 tasks      | elapsed:   49.4s\n",
      "[Parallel(n_jobs=-1)]: Done 632 tasks      | elapsed:  1.5min\n",
      "[Parallel(n_jobs=-1)]: Done 864 out of 864 | elapsed:  2.1min finished\n"
     ]
    },
    {
     "name": "stdout",
     "output_type": "stream",
     "text": [
      "84X _ IB Done.\n",
      "84X_OB\n",
      "Starting 84X\n",
      "Data range is:  242\n",
      "Features Index(['temp', 'feels_like', 'humidity', 'wind_speed', 'rain_1h', 'clouds_all',\n",
      "       'weather_main', 'Weekday', 'Hour', 'Month', 'TimeOfDay', 'Seasons',\n",
      "       'RushHour'],\n",
      "      dtype='object')\n",
      "Fitting 3 folds for each of 288 candidates, totalling 864 fits\n"
     ]
    },
    {
     "name": "stderr",
     "output_type": "stream",
     "text": [
      "[Parallel(n_jobs=-1)]: Using backend LokyBackend with 8 concurrent workers.\n",
      "[Parallel(n_jobs=-1)]: Done  25 tasks      | elapsed:    2.8s\n",
      "[Parallel(n_jobs=-1)]: Done 146 tasks      | elapsed:   18.6s\n",
      "[Parallel(n_jobs=-1)]: Done 349 tasks      | elapsed:   45.7s\n",
      "[Parallel(n_jobs=-1)]: Done 632 tasks      | elapsed:  1.4min\n",
      "[Parallel(n_jobs=-1)]: Done 864 out of 864 | elapsed:  1.9min finished\n"
     ]
    },
    {
     "name": "stdout",
     "output_type": "stream",
     "text": [
      "84X _ OB Done.\n",
      "84_IB\n",
      "Starting 84\n",
      "Data range is:  3587\n",
      "Features Index(['temp', 'feels_like', 'humidity', 'wind_speed', 'rain_1h', 'clouds_all',\n",
      "       'weather_main', 'Weekday', 'Hour', 'Month', 'TimeOfDay', 'Seasons',\n",
      "       'RushHour'],\n",
      "      dtype='object')\n",
      "Fitting 3 folds for each of 288 candidates, totalling 864 fits\n"
     ]
    },
    {
     "name": "stderr",
     "output_type": "stream",
     "text": [
      "[Parallel(n_jobs=-1)]: Using backend LokyBackend with 8 concurrent workers.\n",
      "[Parallel(n_jobs=-1)]: Done  25 tasks      | elapsed:    5.5s\n",
      "[Parallel(n_jobs=-1)]: Done 146 tasks      | elapsed:   32.7s\n",
      "[Parallel(n_jobs=-1)]: Done 349 tasks      | elapsed:  1.3min\n",
      "[Parallel(n_jobs=-1)]: Done 632 tasks      | elapsed:  2.4min\n",
      "[Parallel(n_jobs=-1)]: Done 864 out of 864 | elapsed:  3.3min finished\n"
     ]
    },
    {
     "name": "stdout",
     "output_type": "stream",
     "text": [
      "84 _ IB Done.\n",
      "84_OB\n",
      "Starting 84\n",
      "Data range is:  3879\n",
      "Features Index(['temp', 'feels_like', 'humidity', 'wind_speed', 'rain_1h', 'clouds_all',\n",
      "       'weather_main', 'Weekday', 'Hour', 'Month', 'TimeOfDay', 'Seasons',\n",
      "       'RushHour'],\n",
      "      dtype='object')\n",
      "Fitting 3 folds for each of 288 candidates, totalling 864 fits\n"
     ]
    },
    {
     "name": "stderr",
     "output_type": "stream",
     "text": [
      "[Parallel(n_jobs=-1)]: Using backend LokyBackend with 8 concurrent workers.\n",
      "[Parallel(n_jobs=-1)]: Done  25 tasks      | elapsed:    5.1s\n",
      "[Parallel(n_jobs=-1)]: Done 146 tasks      | elapsed:   34.1s\n",
      "[Parallel(n_jobs=-1)]: Done 349 tasks      | elapsed:  1.4min\n",
      "[Parallel(n_jobs=-1)]: Done 632 tasks      | elapsed:  2.6min\n",
      "[Parallel(n_jobs=-1)]: Done 864 out of 864 | elapsed:  3.6min finished\n"
     ]
    },
    {
     "name": "stdout",
     "output_type": "stream",
     "text": [
      "84 _ OB Done.\n",
      "9_IB\n",
      "Starting 9\n",
      "Data range is:  19559\n",
      "Features Index(['temp', 'feels_like', 'humidity', 'wind_speed', 'rain_1h', 'clouds_all',\n",
      "       'weather_main', 'Weekday', 'Hour', 'Month', 'TimeOfDay', 'Seasons',\n",
      "       'RushHour'],\n",
      "      dtype='object')\n",
      "Fitting 3 folds for each of 288 candidates, totalling 864 fits\n"
     ]
    },
    {
     "name": "stderr",
     "output_type": "stream",
     "text": [
      "[Parallel(n_jobs=-1)]: Using backend LokyBackend with 8 concurrent workers.\n",
      "[Parallel(n_jobs=-1)]: Done  25 tasks      | elapsed:   19.9s\n",
      "[Parallel(n_jobs=-1)]: Done 146 tasks      | elapsed:  2.1min\n",
      "[Parallel(n_jobs=-1)]: Done 349 tasks      | elapsed:  5.1min\n",
      "[Parallel(n_jobs=-1)]: Done 632 tasks      | elapsed:  9.6min\n",
      "[Parallel(n_jobs=-1)]: Done 864 out of 864 | elapsed: 12.9min finished\n"
     ]
    },
    {
     "name": "stdout",
     "output_type": "stream",
     "text": [
      "9 _ IB Done.\n",
      "9_OB\n",
      "Starting 9\n",
      "Data range is:  19049\n",
      "Features Index(['temp', 'feels_like', 'humidity', 'wind_speed', 'rain_1h', 'clouds_all',\n",
      "       'weather_main', 'Weekday', 'Hour', 'Month', 'TimeOfDay', 'Seasons',\n",
      "       'RushHour'],\n",
      "      dtype='object')\n",
      "Fitting 3 folds for each of 288 candidates, totalling 864 fits\n"
     ]
    },
    {
     "name": "stderr",
     "output_type": "stream",
     "text": [
      "[Parallel(n_jobs=-1)]: Using backend LokyBackend with 8 concurrent workers.\n",
      "[Parallel(n_jobs=-1)]: Done  25 tasks      | elapsed:   18.8s\n",
      "[Parallel(n_jobs=-1)]: Done 146 tasks      | elapsed:  2.0min\n",
      "[Parallel(n_jobs=-1)]: Done 349 tasks      | elapsed:  4.9min\n",
      "[Parallel(n_jobs=-1)]: Done 632 tasks      | elapsed:  8.9min\n",
      "[Parallel(n_jobs=-1)]: Done 864 out of 864 | elapsed: 12.2min finished\n"
     ]
    },
    {
     "name": "stdout",
     "output_type": "stream",
     "text": [
      "9 _ OB Done.\n"
     ]
    },
    {
     "name": "stderr",
     "output_type": "stream",
     "text": [
      "Traceback (most recent call last):\n",
      "  File \"<ipython-input-4-8a3cadbb6783>\", line 11, in <module>\n",
      "    with open(filename, 'r') as file:\n",
      "FileNotFoundError: [Errno 2] No such file or directory: './Directions\\\\ComparingModels_all_subRoutes.csv'\n"
     ]
    }
   ],
   "source": [
    "\n",
    "with open('./comparing/ComparingModels_CommonSubs__.csv', 'a', newline='') as file:\n",
    "        writer = csv.writer(file)\n",
    "        writer.writerow(['Model','TrainingSize','TestSize','SubUsed','Route','Direction','MAE TRAIN','MAE','MSE','RMSE','R2','MPE','Features'])\n",
    "            \n",
    "\n",
    "\n",
    "\n",
    "path = './Directions'\n",
    "try:\n",
    "    for filename in glob.glob(os.path.join(path, '*.csv')):\n",
    "            with open(filename, 'r') as file: \n",
    "                \n",
    "                bus_line=(filename[13:-4])\n",
    "                print(bus_line)\n",
    "                route = bus_line[0:-3]\n",
    "\n",
    "                df=pd.read_csv(file)\n",
    "                if 'IB' in bus_line:\n",
    "                    create_models_with_outliers(route, 'IB', df)\n",
    "                elif 'OB' in bus_line:\n",
    "                    create_models_with_outliers(route, 'OB', df)\n",
    "except:\n",
    "    traceback.print_exc()\n",
    "                \n",
    "                \n",
    "\n",
    "            "
   ]
  },
  {
   "cell_type": "code",
   "execution_count": 9,
   "id": "exterior-friday",
   "metadata": {},
   "outputs": [
    {
     "name": "stdout",
     "output_type": "stream",
     "text": [
      "Starting 41D\n",
      "Data range is:  5\n",
      "Features Index(['temp', 'feels_like', 'humidity', 'wind_speed', 'rain_1h', 'clouds_all',\n",
      "       'weather_main', 'Weekday', 'Hour', 'Month', 'TimeOfDay', 'Seasons',\n",
      "       'RushHour'],\n",
      "      dtype='object')\n",
      "Fitting 3 folds for each of 288 candidates, totalling 864 fits\n"
     ]
    },
    {
     "name": "stderr",
     "output_type": "stream",
     "text": [
      "[Parallel(n_jobs=-1)]: Using backend LokyBackend with 8 concurrent workers.\n",
      "[Parallel(n_jobs=-1)]: Done  25 tasks      | elapsed:    8.2s\n",
      "[Parallel(n_jobs=-1)]: Done 146 tasks      | elapsed:   27.3s\n",
      "[Parallel(n_jobs=-1)]: Done 349 tasks      | elapsed:  1.0min\n",
      "[Parallel(n_jobs=-1)]: Done 632 tasks      | elapsed:  1.9min\n",
      "[Parallel(n_jobs=-1)]: Done 864 out of 864 | elapsed:  2.6min finished\n"
     ]
    },
    {
     "name": "stdout",
     "output_type": "stream",
     "text": [
      "41D _ OB Done.\n",
      "XG 62.707527 -1089.2619219325466\n",
      "RF 5.70527774810791 -9.016677816939968\n"
     ]
    }
   ],
   "source": [
    "def extra(sub, route, direction , df):\n",
    "    '''takes in a path, opens corresponding csv files\n",
    "    \n",
    "    prepares data and creates model for each bus line/csv, prints accuracy metrics to csv and saves model as pickle\n",
    "    \n",
    "    '''\n",
    "    cols_to_delete = ['TRIPID','LINEID','ROUTEID', 'DIRECTION', 'PlannedJourneyTime','PlanVSAct']\n",
    "    #declare continous and cat cols\n",
    "    cat_cols = ['weather_main']\n",
    "    numeric = ['JourneyTime','temp','humidity','wind_speed','rain_1h','clouds_all']\n",
    "   \n",
    "\n",
    "    try:\n",
    "            print(\"Starting\",route)\n",
    "\n",
    "            key = route + '_' + direction\n",
    "            \n",
    "\n",
    "\n",
    "            df = df.loc[df['ROUTEID'] ==sub]\n",
    "\n",
    "\n",
    "\n",
    "            #delete necessary cols and change to cat or cont\n",
    "            for col in cols_to_delete:\n",
    "                del df[col]\n",
    "            for column in numeric:\n",
    "                df[column]= df[column].astype('float32')\n",
    "\n",
    "            for column in cat_cols:   \n",
    "                 df[column]= df[column].astype('category')\n",
    "\n",
    "            #create new cols for modelling\n",
    "            df['Dates']=df['Dates'].apply(pd.to_datetime)\n",
    "            df['Weekday']= df['Dates'].dt.day_name()\n",
    "            df['Hour']= df['Dates'].dt.hour\n",
    "            df['Month']= df['Dates'].dt.month\n",
    "            choices=['Morning','Afternoon','Evening']\n",
    "            conditions=[(df['Hour'] > 7) & (df['Hour'] < 11), (df['Hour'] >= 11) & (df['Hour'] < 15),(df['Hour'] >= 15) & (df['Hour'] < 23)]\n",
    "\n",
    "            df['TimeOfDay']= np.select(conditions, choices, default='Night')\n",
    "\n",
    "            choices_more=['Summer','Winter','Spring']\n",
    "            conditions_more=[(df['Month'] >= 6) & (df['Month'] < 9), (df['Month'] >= 11) & (df['Month'] <=1),(df['Month'] >= 2) & (df['Month'] <= 5)]\n",
    "\n",
    "            df['Seasons']= np.select(conditions_more, choices_more, default='Autumn')\n",
    "\n",
    "            df['RushHour']=np.where(((df['Hour'] >=7) &(df['Hour']<=9)| (df['Hour'] >=16) &(df['Hour']<=19)), 1,0)\n",
    "\n",
    "\n",
    "\n",
    "            df = df.drop([\"Dates\"], axis = 1)\n",
    "\n",
    "            df=sklearn.utils.shuffle(df)\n",
    "\n",
    "            df[\"TimeOfDay\"].replace(\n",
    "                {\"Morning\": 1, \"Afternoon\": 2,\"Evening\": 3,\"Night\": 4}, inplace=True)                \n",
    "            df[\"Seasons\"].replace(\n",
    "                {\"Spring\": 1, \"Summer\": 2,\"Autumn\": 3,\"Winter\": 4}, inplace=True)\n",
    "            df[\"Weekday\"].replace(\n",
    "                {\"Monday\": 1, \"Tuesday\": 2,\"Wednesday\": 3,\"Thursday\": 4,\"Friday\": 5,\"Saturday\": 6,\"Sunday\": 7,}, inplace=True)\n",
    "            df[\"weather_main\"].replace(\n",
    "                {\"Rain\": 1, \"Clouds\": 2,\"Drizzle\": 3,\"Clear\": 4,\"Fog\": 5,\"Mist\": 6,\"Snow\": 7,\"Smoke\": 8}, inplace=True)\n",
    "\n",
    "\n",
    "\n",
    "\n",
    "\n",
    "            cols=['Hour','Month','TimeOfDay','Seasons','RushHour']\n",
    "            for column in cols:\n",
    "                df[column]= df[column].astype('int32')\n",
    "\n",
    "\n",
    "            y = df[\"JourneyTime\"]            \n",
    "            X = df.drop([\"JourneyTime\"],1)\n",
    "\n",
    "            #Split into test train 70/30\n",
    "\n",
    "            X_train, X_test, y_train, y_test = train_test_split(X, y, random_state=1,  test_size=0.3)\n",
    "\n",
    "            print(\"Data range is: \",df.shape[0])\n",
    "            trainingsize= X_train.shape[0]\n",
    "            testsize = X_test.shape[0]\n",
    "            features = X.columns\n",
    "            print('Features' , features)\n",
    "\n",
    "            X_train.reset_index(drop=True, inplace=True)\n",
    "            y_train.reset_index(drop=True, inplace=True)\n",
    "            X_test.reset_index(drop=True, inplace=True)\n",
    "            y_test.reset_index(drop=True, inplace=True)\n",
    "\n",
    "            param_grid_ = {'learning_rate': [0.001, 0.01, 0.1, 1], 'max_depth' : [5, 10, 15], 'n_estimators' : [50, 100, 150, 200]}\n",
    "\n",
    "\n",
    "            grid_search = Pipeline(steps=[\n",
    "                                    ('grid_search', GridSearchCV(XGBRegressor(), param_grid_, cv = 3))])\n",
    "\n",
    "            xg =grid_search.fit(X_train, y_train)\n",
    "\n",
    "            xgb_train_predictions__ = xg.predict(X_train)\n",
    "            #get predictions on test set\n",
    "            XGB_predictions_test__ = xg.predict(X_test)\n",
    "\n",
    "            mae_train = metrics.mean_absolute_error(y_train, xgb_train_predictions__)\n",
    "            mae= metrics.mean_absolute_error(y_test, XGB_predictions_test__)\n",
    "            mse = metrics.mean_squared_error(y_test, XGB_predictions_test__)\n",
    "            rmse = np.sqrt(metrics.mean_squared_error(y_test, XGB_predictions_test__))\n",
    "            r2 = metrics.r2_score(y_test, XGB_predictions_test__)\n",
    "            mpe = np.mean((y_test - XGB_predictions_test__)/y_test)\n",
    "            #TrainXGB\n",
    "#             xgb_model = XGBRegressor().fit(X_train, y_train)\n",
    "\n",
    "#             xgb_train_predictions = xgb_model.predict(X_train)\n",
    "#             #get predictions on test set\n",
    "#             XGB_predictions_test = xgb_model.predict(X_test)\n",
    "\n",
    "#             #get accuracy results\n",
    "#             mae_train = metrics.mean_absolute_error(y_train, xgb_train_predictions)\n",
    "#             mae= metrics.mean_absolute_error(y_test, XGB_predictions_test)\n",
    "#             mse = metrics.mean_squared_error(y_test, XGB_predictions_test)\n",
    "#             rmse = np.sqrt(metrics.mean_squared_error(y_test, XGB_predictions_test))\n",
    "#             r2 = metrics.r2_score(y_test, XGB_predictions_test)\n",
    "#             mpe = np.mean((y_test - XGB_predictions_test)/y_test)\n",
    "#                 xgb_accuracies=[mae_train, mae, mse,rmse, r2, mpe]\n",
    "\n",
    "#                 XBGMAE[bus_line]=(mae)\n",
    "#                 XBGr2[bus_line]=r2\n",
    "\n",
    "\n",
    "            #Train a random forrest model\n",
    "#             rf_model= RandomForestRegressor(n_estimators=32).fit(X_train, y_train)\n",
    "#             train_predictions = rf_model.predict(X_train)      \n",
    "#             rf_predictions_test = rf_model.predict(X_test)\n",
    "            param_grid = {\n",
    "                'bootstrap': [True],\n",
    "                'max_depth': [80, 90, 100, 110],\n",
    "                'max_features': [2, 3],\n",
    "                'min_samples_leaf': [3, 4, 5],\n",
    "                'min_samples_split': [8, 10, 12],\n",
    "                'n_estimators': [100, 200, 300, 1000]\n",
    "            }\n",
    "            # Create a based model\n",
    "            rf = RandomForestRegressor()\n",
    "            # Instantiate the grid search model\n",
    "            grid_search_rf = GridSearchCV(estimator = rf, param_grid = param_grid, \n",
    "                                      cv = 3, n_jobs = -1, verbose = 2)\n",
    "            model_testin_RF = grid_search_rf.fit(X_train, y_train)\n",
    "            mm_rf = model_testin_RF.predict(X_train)\n",
    "            mm___rf = model_testin_RF.predict(X_test)\n",
    "      \n",
    "            #get results\n",
    "            MAE_TRAIN= metrics.mean_absolute_error(y_train, mm_rf)\n",
    "            MAE = metrics.mean_absolute_error(y_test, mm___rf)\n",
    "            MSE=metrics.mean_squared_error(y_test, mm___rf)\n",
    "            RMSE = np.sqrt(metrics.mean_squared_error(y_test, mm___rf))\n",
    "            R2= metrics.r2_score(y_test, mm___rf)\n",
    "            MPE=np.mean((y_test - mm___rf)/y_test)\n",
    "#                 rf_accuracies=[MAE_TRAIN,MAE,MSE,RMSE,R2,MPE]\n",
    "#                 RFMAE[bus_line]=(MAE)\n",
    "#                 RFr2[bus_line]=R2\n",
    "\n",
    "            #Train a neural net\n",
    "            nn_model = MLPRegressor(random_state=1, max_iter=500).fit(X_train, y_train)\n",
    "\n",
    "            #training set predictions\n",
    "            nn_predictions_train = nn_model.predict(X_train)\n",
    "\n",
    "\n",
    "            #get predictions on test set\n",
    "            nn_predictions_test = nn_model.predict(X_test)\n",
    "\n",
    "            #get results\n",
    "            nn_MAE_train = metrics.mean_absolute_error(y_train, nn_predictions_train)\n",
    "            nn_MAE_test =  metrics.mean_absolute_error(y_test, nn_predictions_test)\n",
    "            nn_MSE_test =  metrics.mean_squared_error(y_test, nn_predictions_test)\n",
    "            nn_RMSE_test = np.sqrt(metrics.mean_squared_error(y_test, nn_predictions_test))\n",
    "            nn_R2_test = metrics.r2_score(y_test, nn_predictions_test)\n",
    "            nn_MPE = np.mean((y_test - nn_predictions_test)/y_test)\n",
    "#                 nn_accuracies=[nn_MAE_train,nn_MAE_test,nn_MSE_test,nn_RMSE_test,nn_R2_test,nn_MPE]\n",
    "\n",
    "            #write results to csv file for evaluation per route\n",
    "#             with open('./comparing/ComparingModels_CommonSubs__.csv', 'a', newline='') as file:\n",
    "#                 writer = csv.writer(file)\n",
    "#                 writer.writerow(['XGBoost',trainingsize,testsize, sub,key, direction, mae_train, mae, mse, rmse, r2, mpe,[features]])\n",
    "#                 writer.writerow(['RandomForest',trainingsize,testsize,sub,key,direction, MAE_TRAIN, MAE, MSE, RMSE, R2, MPE,[features]])\n",
    "#                 writer.writerow(['NeuralNet',trainingsize,testsize, sub,key, direction,nn_MAE_train,nn_MAE_test,nn_MSE_test,nn_RMSE_test,nn_R2_test,nn_MPE,[features]])\n",
    "#                 with open('ComparingModels.csv', 'a', newline='') as file:\n",
    "#                     writer = csv.writer(file)\n",
    "#                     writer.writerow([bus_line, MAE_TRAIN, MAE, MSE, RMSE, R2, MPE])\n",
    "\n",
    "            with open(\"./comparing/\" +  key + 'RF', \"wb\") as f:\n",
    "                pickle.dump(grid_search_rf, f)\n",
    "\n",
    "            with open(\"./comparing/\" +  key + 'XG', \"wb\") as f:\n",
    "                pickle.dump(xg, f)\n",
    "            print(route,'_',direction ,\"Done.\")\n",
    "            print('XG', mae, r2)\n",
    "            print('RF', MAE, R2)\n",
    "\n",
    "    except:\n",
    "         traceback.print_exc()\n",
    "\n",
    "df = pd.read_csv('./Directions/41D_OB.csv')\n",
    "extra('41D_26','41D','OB', df)"
   ]
  },
  {
   "cell_type": "code",
   "execution_count": null,
   "id": "measured-illustration",
   "metadata": {},
   "outputs": [],
   "source": []
  }
 ],
 "metadata": {
  "kernelspec": {
   "display_name": "Python 3",
   "language": "python",
   "name": "python3"
  },
  "language_info": {
   "codemirror_mode": {
    "name": "ipython",
    "version": 3
   },
   "file_extension": ".py",
   "mimetype": "text/x-python",
   "name": "python",
   "nbconvert_exporter": "python",
   "pygments_lexer": "ipython3",
   "version": "3.8.5"
  }
 },
 "nbformat": 4,
 "nbformat_minor": 5
}
